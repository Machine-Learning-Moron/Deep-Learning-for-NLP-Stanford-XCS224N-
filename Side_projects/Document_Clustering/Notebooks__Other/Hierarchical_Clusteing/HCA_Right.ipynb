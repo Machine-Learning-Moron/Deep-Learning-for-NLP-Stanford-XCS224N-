{
 "cells": [
  {
   "cell_type": "markdown",
   "metadata": {},
   "source": [
    "# Hierarchical Clustering"
   ]
  },
  {
   "cell_type": "code",
   "execution_count": 5,
   "metadata": {},
   "outputs": [],
   "source": [
    "import numpy as np\n",
    "import pandas as pd\n",
    "np.set_printoptions(precision=3)\n",
    "pd.options.display.float_format = '{:,.2f}'.format"
   ]
  },
  {
   "cell_type": "code",
   "execution_count": 6,
   "metadata": {},
   "outputs": [],
   "source": [
    "import os\n",
    "import pickle\n",
    "from pprint import pprint\n",
    "from os.path import join as JP\n",
    "from collections import defaultdict\n",
    "\n",
    "from utils.nlp_utils import preproces\n",
    "from utils.general import parse_yaml, ensure_directories\n",
    "\n",
    "from scripts.catalog import (\n",
    "    Catalog, Document, Corpus,\n",
    "    load_catalog, load_corpus)\n",
    "\n",
    "config = parse_yaml('config.yaml')\n",
    "paths = config['paths']\n",
    "ensure_directories(paths)"
   ]
  },
  {
   "cell_type": "markdown",
   "metadata": {},
   "source": [
    "## Load Catalog"
   ]
  },
  {
   "cell_type": "code",
   "execution_count": 9,
   "metadata": {},
   "outputs": [
    {
     "name": "stdout",
     "output_type": "stream",
     "text": [
      "15\n"
     ]
    }
   ],
   "source": [
    "catalog = Catalog()\n",
    "catalog = load_catalog(path=paths['catalog'], name='spacy_pipeline_on_US_corpus') # 15 documents\n",
    "catalog = load_catalog(path=paths['catalog'], name='spacy_pipeline_on_EN_corpus') # 43 documents\n",
    "print(len(catalog.documents))"
   ]
  },
  {
   "cell_type": "markdown",
   "metadata": {},
   "source": [
    "## TFIDF"
   ]
  },
  {
   "cell_type": "code",
   "execution_count": 29,
   "metadata": {},
   "outputs": [],
   "source": [
    "from nltk.corpus import stopwords\n",
    "from sklearn.feature_extraction.text import TfidfVectorizer"
   ]
  },
  {
   "cell_type": "code",
   "execution_count": 30,
   "metadata": {},
   "outputs": [],
   "source": [
    "# TODO: Increase all these\n",
    "EMBED_SIZE = 10000        \n",
    "NUM_CLUSTERS = 4\n",
    "WORDS_PER_CLUSTER = 0"
   ]
  },
  {
   "cell_type": "code",
   "execution_count": 31,
   "metadata": {},
   "outputs": [],
   "source": [
    "vectorizer = TfidfVectorizer(\n",
    "    min_df=.1,\n",
    "    max_df=.7,\n",
    "    norm='l2',\n",
    "    use_idf=True,\n",
    "    smooth_idf=True,\n",
    "    max_features=EMBED_SIZE,\n",
    "    ngram_range=(1,3),\n",
    "    lowercase=True,\n",
    "    stop_words=stopwords.words('english'))"
   ]
  },
  {
   "cell_type": "code",
   "execution_count": 32,
   "metadata": {},
   "outputs": [],
   "source": [
    "_ = catalog.collect_corpus(attr='processed_text', form=list)"
   ]
  },
  {
   "cell_type": "code",
   "execution_count": 33,
   "metadata": {},
   "outputs": [
    {
     "name": "stdout",
     "output_type": "stream",
     "text": [
      "(15, 9936)\n"
     ]
    },
    {
     "data": {
      "text/html": [
       "<div>\n",
       "<style scoped>\n",
       "    .dataframe tbody tr th:only-of-type {\n",
       "        vertical-align: middle;\n",
       "    }\n",
       "\n",
       "    .dataframe tbody tr th {\n",
       "        vertical-align: top;\n",
       "    }\n",
       "\n",
       "    .dataframe thead th {\n",
       "        text-align: right;\n",
       "    }\n",
       "</style>\n",
       "<table border=\"1\" class=\"dataframe\">\n",
       "  <thead>\n",
       "    <tr style=\"text-align: right;\">\n",
       "      <th></th>\n",
       "      <th>0000</th>\n",
       "      <th>0000 process</th>\n",
       "      <th>0000 process produce</th>\n",
       "      <th>0011</th>\n",
       "      <th>0015</th>\n",
       "      <th>0018</th>\n",
       "      <th>0021</th>\n",
       "      <th>0023</th>\n",
       "      <th>0028</th>\n",
       "      <th>0031</th>\n",
       "      <th>...</th>\n",
       "      <th>yield loss</th>\n",
       "      <th>yield low</th>\n",
       "      <th>yield method</th>\n",
       "      <th>yield mol</th>\n",
       "      <th>yield reaction</th>\n",
       "      <th>zeolite</th>\n",
       "      <th>zeolite diatomaceous</th>\n",
       "      <th>zeolite diatomaceous earth</th>\n",
       "      <th>zinc</th>\n",
       "      <th>zirconium</th>\n",
       "    </tr>\n",
       "  </thead>\n",
       "  <tbody>\n",
       "    <tr>\n",
       "      <th>0</th>\n",
       "      <td>0.00</td>\n",
       "      <td>0.00</td>\n",
       "      <td>0.00</td>\n",
       "      <td>0.00</td>\n",
       "      <td>0.01</td>\n",
       "      <td>0.00</td>\n",
       "      <td>0.00</td>\n",
       "      <td>0.00</td>\n",
       "      <td>0.00</td>\n",
       "      <td>0.00</td>\n",
       "      <td>...</td>\n",
       "      <td>0.00</td>\n",
       "      <td>0.00</td>\n",
       "      <td>0.00</td>\n",
       "      <td>0.01</td>\n",
       "      <td>0.00</td>\n",
       "      <td>0.00</td>\n",
       "      <td>0.00</td>\n",
       "      <td>0.00</td>\n",
       "      <td>0.00</td>\n",
       "      <td>0.00</td>\n",
       "    </tr>\n",
       "    <tr>\n",
       "      <th>1</th>\n",
       "      <td>0.00</td>\n",
       "      <td>0.00</td>\n",
       "      <td>0.00</td>\n",
       "      <td>0.00</td>\n",
       "      <td>0.00</td>\n",
       "      <td>0.00</td>\n",
       "      <td>0.00</td>\n",
       "      <td>0.00</td>\n",
       "      <td>0.00</td>\n",
       "      <td>0.00</td>\n",
       "      <td>...</td>\n",
       "      <td>0.00</td>\n",
       "      <td>0.00</td>\n",
       "      <td>0.00</td>\n",
       "      <td>0.00</td>\n",
       "      <td>0.00</td>\n",
       "      <td>0.00</td>\n",
       "      <td>0.00</td>\n",
       "      <td>0.00</td>\n",
       "      <td>0.00</td>\n",
       "      <td>0.00</td>\n",
       "    </tr>\n",
       "    <tr>\n",
       "      <th>2</th>\n",
       "      <td>0.00</td>\n",
       "      <td>0.00</td>\n",
       "      <td>0.00</td>\n",
       "      <td>0.00</td>\n",
       "      <td>0.00</td>\n",
       "      <td>0.00</td>\n",
       "      <td>0.00</td>\n",
       "      <td>0.00</td>\n",
       "      <td>0.00</td>\n",
       "      <td>0.00</td>\n",
       "      <td>...</td>\n",
       "      <td>0.00</td>\n",
       "      <td>0.00</td>\n",
       "      <td>0.00</td>\n",
       "      <td>0.00</td>\n",
       "      <td>0.00</td>\n",
       "      <td>0.00</td>\n",
       "      <td>0.00</td>\n",
       "      <td>0.00</td>\n",
       "      <td>0.00</td>\n",
       "      <td>0.00</td>\n",
       "    </tr>\n",
       "    <tr>\n",
       "      <th>3</th>\n",
       "      <td>0.00</td>\n",
       "      <td>0.00</td>\n",
       "      <td>0.00</td>\n",
       "      <td>0.00</td>\n",
       "      <td>0.00</td>\n",
       "      <td>0.00</td>\n",
       "      <td>0.00</td>\n",
       "      <td>0.00</td>\n",
       "      <td>0.00</td>\n",
       "      <td>0.00</td>\n",
       "      <td>...</td>\n",
       "      <td>0.00</td>\n",
       "      <td>0.01</td>\n",
       "      <td>0.00</td>\n",
       "      <td>0.00</td>\n",
       "      <td>0.00</td>\n",
       "      <td>0.00</td>\n",
       "      <td>0.00</td>\n",
       "      <td>0.00</td>\n",
       "      <td>0.00</td>\n",
       "      <td>0.00</td>\n",
       "    </tr>\n",
       "    <tr>\n",
       "      <th>4</th>\n",
       "      <td>0.00</td>\n",
       "      <td>0.00</td>\n",
       "      <td>0.00</td>\n",
       "      <td>0.00</td>\n",
       "      <td>0.00</td>\n",
       "      <td>0.00</td>\n",
       "      <td>0.00</td>\n",
       "      <td>0.00</td>\n",
       "      <td>0.00</td>\n",
       "      <td>0.00</td>\n",
       "      <td>...</td>\n",
       "      <td>0.00</td>\n",
       "      <td>0.00</td>\n",
       "      <td>0.00</td>\n",
       "      <td>0.00</td>\n",
       "      <td>0.00</td>\n",
       "      <td>0.00</td>\n",
       "      <td>0.00</td>\n",
       "      <td>0.00</td>\n",
       "      <td>0.00</td>\n",
       "      <td>0.00</td>\n",
       "    </tr>\n",
       "  </tbody>\n",
       "</table>\n",
       "<p>5 rows × 9936 columns</p>\n",
       "</div>"
      ],
      "text/plain": [
       "   0000  0000 process  0000 process produce  0011  0015  0018  0021  0023  \\\n",
       "0  0.00          0.00                  0.00  0.00  0.01  0.00  0.00  0.00   \n",
       "1  0.00          0.00                  0.00  0.00  0.00  0.00  0.00  0.00   \n",
       "2  0.00          0.00                  0.00  0.00  0.00  0.00  0.00  0.00   \n",
       "3  0.00          0.00                  0.00  0.00  0.00  0.00  0.00  0.00   \n",
       "4  0.00          0.00                  0.00  0.00  0.00  0.00  0.00  0.00   \n",
       "\n",
       "   0028  0031  ...  yield loss  yield low  yield method  yield mol  \\\n",
       "0  0.00  0.00  ...        0.00       0.00          0.00       0.01   \n",
       "1  0.00  0.00  ...        0.00       0.00          0.00       0.00   \n",
       "2  0.00  0.00  ...        0.00       0.00          0.00       0.00   \n",
       "3  0.00  0.00  ...        0.00       0.01          0.00       0.00   \n",
       "4  0.00  0.00  ...        0.00       0.00          0.00       0.00   \n",
       "\n",
       "   yield reaction  zeolite  zeolite diatomaceous  zeolite diatomaceous earth  \\\n",
       "0            0.00     0.00                  0.00                        0.00   \n",
       "1            0.00     0.00                  0.00                        0.00   \n",
       "2            0.00     0.00                  0.00                        0.00   \n",
       "3            0.00     0.00                  0.00                        0.00   \n",
       "4            0.00     0.00                  0.00                        0.00   \n",
       "\n",
       "   zinc  zirconium  \n",
       "0  0.00       0.00  \n",
       "1  0.00       0.00  \n",
       "2  0.00       0.00  \n",
       "3  0.00       0.00  \n",
       "4  0.00       0.00  \n",
       "\n",
       "[5 rows x 9936 columns]"
      ]
     },
     "execution_count": 33,
     "metadata": {},
     "output_type": "execute_result"
    }
   ],
   "source": [
    "tfidf = catalog.to_matrix(\n",
    "    vectorizer=vectorizer,\n",
    "    modelname='TFIDF',\n",
    "    max_docs=None)\n",
    "print(tfidf.representation.shape)\n",
    "tfidf.representation.head()"
   ]
  },
  {
   "cell_type": "markdown",
   "metadata": {},
   "source": [
    "## Clustering"
   ]
  },
  {
   "cell_type": "code",
   "execution_count": 34,
   "metadata": {},
   "outputs": [],
   "source": [
    "import matplotlib.pyplot as plt\n",
    "from collections import defaultdict\n",
    "from scipy.spatial.distance import pdist\n",
    "from scipy.cluster.hierarchy import dendrogram, linkage, fcluster"
   ]
  },
  {
   "cell_type": "code",
   "execution_count": 35,
   "metadata": {},
   "outputs": [],
   "source": [
    "MIN_CLUSTERS = 2\n",
    "MAX_CLUSTERS = 6\n",
    "CRITERION = 'maxclust'"
   ]
  },
  {
   "cell_type": "code",
   "execution_count": 36,
   "metadata": {},
   "outputs": [],
   "source": [
    "from scripts.algorithms.clustering import (\n",
    "    hca_document_clustering, \n",
    "    retrieve_hca_info,\n",
    "    plot_dendogram_from_linkage_matrix)"
   ]
  },
  {
   "cell_type": "code",
   "execution_count": 37,
   "metadata": {},
   "outputs": [
    {
     "name": "stdout",
     "output_type": "stream",
     "text": [
      "[INFO]: Computing Distance Matrix using cosine distance\n",
      "[INFO]: Performing Hierarchical Clustering using ward linkage\n"
     ]
    },
    {
     "data": {
      "text/plain": [
       "array([[ 3.   ,  8.   ,  0.503,  2.   ],\n",
       "       [ 2.   , 11.   ,  0.504,  2.   ],\n",
       "       [ 6.   ,  9.   ,  0.656,  2.   ],\n",
       "       [ 0.   ,  7.   ,  0.789,  2.   ],\n",
       "       [ 5.   , 14.   ,  0.803,  2.   ],\n",
       "       [ 1.   ,  4.   ,  0.811,  2.   ],\n",
       "       [16.   , 17.   ,  0.879,  4.   ],\n",
       "       [12.   , 18.   ,  0.884,  3.   ],\n",
       "       [10.   , 19.   ,  0.898,  3.   ],\n",
       "       [13.   , 20.   ,  0.943,  3.   ],\n",
       "       [21.   , 22.   ,  1.067,  7.   ],\n",
       "       [23.   , 24.   ,  1.104,  6.   ],\n",
       "       [15.   , 26.   ,  1.197,  8.   ],\n",
       "       [25.   , 27.   ,  1.403, 15.   ]])"
      ]
     },
     "execution_count": 37,
     "metadata": {},
     "output_type": "execute_result"
    }
   ],
   "source": [
    "Z = hca_document_clustering(tfidf, method='ward', distance_metric='cosine')\n",
    "Z"
   ]
  },
  {
   "cell_type": "code",
   "execution_count": 38,
   "metadata": {},
   "outputs": [
    {
     "data": {
      "image/png": "[encoded data removed]",
      "text/plain": [
       "<Figure size 432x288 with 1 Axes>"
      ]
     },
     "metadata": {
      "needs_background": "light"
     },
     "output_type": "display_data"
    }
   ],
   "source": [
    "plot_dendogram_from_linkage_matrix(\n",
    "    Z, truncate_mode='lastp', p=6, \n",
    "    show_leaf_counts=True, leaf_rotation=0.)"
   ]
  },
  {
   "cell_type": "code",
   "execution_count": 39,
   "metadata": {},
   "outputs": [
    {
     "name": "stdout",
     "output_type": "stream",
     "text": [
      "defaultdict(<function retrieve_hca_info.<locals>.<lambda> at 0x1a25ed0d40>,\n",
      "            {2: defaultdict(<class 'list'>,\n",
      "                            {0: [[0, 2, 6, 7, 9, 11, 12]],\n",
      "                             1: [[1, 3, 4, 5, 8, 10, 13, 14]]}),\n",
      "             3: defaultdict(<class 'list'>,\n",
      "                            {0: [[0, 2, 6, 7, 9, 11, 12]],\n",
      "                             1: [[3, 8]],\n",
      "                             2: [[1, 4, 5, 10, 13, 14]]}),\n",
      "             4: defaultdict(<class 'list'>,\n",
      "                            {0: [[0, 2, 6, 7, 9, 11, 12]],\n",
      "                             1: [[3, 8]],\n",
      "                             2: [[5, 10, 14]],\n",
      "                             3: [[1, 4, 13]]}),\n",
      "             5: defaultdict(<class 'list'>,\n",
      "                            {0: [[2, 6, 9, 11]],\n",
      "                             1: [[0, 7, 12]],\n",
      "                             2: [[3, 8]],\n",
      "                             3: [[5, 10, 14]],\n",
      "                             4: [[1, 4, 13]]})})\n"
     ]
    }
   ],
   "source": [
    "cluster_dict = retrieve_hca_info(Z, CRITERION, MIN_CLUSTERS, MAX_CLUSTERS)\n",
    "pprint(cluster_dict)"
   ]
  },
  {
   "cell_type": "markdown",
   "metadata": {},
   "source": [
    "## What are the important words? Map (dendogram --> treemap of words)\n",
    "- Clustering labeling --> ICF?"
   ]
  },
  {
   "cell_type": "code",
   "execution_count": null,
   "metadata": {},
   "outputs": [],
   "source": []
  },
  {
   "cell_type": "code",
   "execution_count": null,
   "metadata": {},
   "outputs": [],
   "source": []
  }
 ],
 "metadata": {
  "kernelspec": {
   "display_name": "Python 3",
   "language": "python",
   "name": "python3"
  },
  "language_info": {
   "codemirror_mode": {
    "name": "ipython",
    "version": 3
   },
   "file_extension": ".py",
   "mimetype": "text/x-python",
   "name": "python",
   "nbconvert_exporter": "python",
   "pygments_lexer": "ipython3",
   "version": "3.7.3"
  },
  "varInspector": {
   "cols": {
    "lenName": 16,
    "lenType": 16,
    "lenVar": 40
   },
   "kernels_config": {
    "python": {
     "delete_cmd_postfix": "",
     "delete_cmd_prefix": "del ",
     "library": "var_list.py",
     "varRefreshCmd": "print(var_dic_list())"
    },
    "r": {
     "delete_cmd_postfix": ") ",
     "delete_cmd_prefix": "rm(",
     "library": "var_list.r",
     "varRefreshCmd": "cat(var_dic_list()) "
    }
   },
   "types_to_exclude": [
    "module",
    "function",
    "builtin_function_or_method",
    "instance",
    "_Feature"
   ],
   "window_display": false
  }
 },
 "nbformat": 4,
 "nbformat_minor": 2
}
