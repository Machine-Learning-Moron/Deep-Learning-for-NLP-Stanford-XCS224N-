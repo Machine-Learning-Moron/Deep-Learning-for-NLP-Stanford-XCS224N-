{
 "cells": [
  {
   "cell_type": "markdown",
   "metadata": {},
   "source": [
    "# Latent Dirichlet Allocation\n",
    "---\n",
    "  \n",
    "**LDA**  \n",
    "- Generative Probabilistic Topic Model. \n",
    "- Assumes documents are a mixture of topics and that each word in the document is attributable to a topic  \n",
    "- The topic probabilities provide an explicit representation of a document"
   ]
  },
  {
   "cell_type": "markdown",
   "metadata": {
    "hide_input": true
   },
   "source": [
    "## Env Preparation"
   ]
  },
  {
   "cell_type": "code",
   "execution_count": 1,
   "metadata": {},
   "outputs": [],
   "source": [
    "RUNTIMES = ['cluster', 'local'] # Modify the paths from the coonfig.yaml\n",
    "RUNTIME = RUNTIMES[0]"
   ]
  },
  {
   "cell_type": "code",
   "execution_count": 2,
   "metadata": {
    "ExecuteTime": {
     "end_time": "2019-12-01T17:59:46.915016Z",
     "start_time": "2019-12-01T17:59:46.902681Z"
    },
    "hide_input": true,
    "outputExpanded": true
   },
   "outputs": [
    {
     "name": "stdout",
     "output_type": "stream",
     "text": [
      "Workdir:  /app\n"
     ]
    }
   ],
   "source": [
    "import os\n",
    "import sys\n",
    "# os.chdir('/Users/pabloruizruiz/OneDrive/Courses/NLP_Stanford/Complementary_Courses/Document_Clustering')\n",
    "os.chdir('/app/')\n",
    "print('Workdir: ', os.getcwd())\n",
    "from os.path import join as JP\n",
    "sys.path.append(os.getcwd())\n",
    "sys.path.append(JP(os.getcwd(),'utils'))\n",
    "sys.path.append(JP(os.getcwd(),'scripts'))"
   ]
  },
  {
   "cell_type": "code",
   "execution_count": 3,
   "metadata": {
    "ExecuteTime": {
     "end_time": "2019-12-01T17:59:48.663941Z",
     "start_time": "2019-12-01T17:59:47.367985Z"
    },
    "hide_input": true,
    "inputHidden": true
   },
   "outputs": [],
   "source": [
    "import numpy as np\n",
    "import pandas as pd\n",
    "from tqdm import tqdm\n",
    "import plotly.express as px\n",
    "import matplotlib.pyplot as plt\n",
    "\n",
    "import warnings\n",
    "warnings.filterwarnings(\"ignore\")\n",
    "\n",
    "tqdm.pandas()\n",
    "%matplotlib notebook\n",
    "np.set_printoptions(precision=3)\n",
    "pd.options.display.float_format = '{:,.3f}'.format"
   ]
  },
  {
   "cell_type": "code",
   "execution_count": 5,
   "metadata": {
    "ExecuteTime": {
     "end_time": "2019-12-01T17:59:49.483497Z",
     "start_time": "2019-12-01T17:59:48.680752Z"
    },
    "code_folding": [],
    "hide_input": true
   },
   "outputs": [
    {
     "data": {
      "text/plain": [
       "{'results': 'results/',\n",
       " 'catalog': 'data/catalog',\n",
       " 'checkpoints': 'checkpoints/',\n",
       " 'stopwords': 'data/stopwords/',\n",
       " 'data': 'data/',\n",
       " 'images': 'images/'}"
      ]
     },
     "execution_count": 5,
     "metadata": {},
     "output_type": "execute_result"
    }
   ],
   "source": [
    "import pickle\n",
    "from pprint import pprint\n",
    "from collections import defaultdict\n",
    "\n",
    "from utils.nlp_utils import preproces\n",
    "from utils.general import parse_yaml, ensure_directories\n",
    "\n",
    "from scripts.catalog import (\n",
    "    Catalog, Document, Corpus,\n",
    "    load_catalog, load_corpus)\n",
    "\n",
    "config = parse_yaml('config.yaml')\n",
    "paths = config['paths']\n",
    "ensure_directories(paths)\n",
    "paths"
   ]
  },
  {
   "cell_type": "code",
   "execution_count": 8,
   "metadata": {},
   "outputs": [],
   "source": [
    "from nltk.corpus import stopwords\n",
    "SW = stopwords.words('english')\n",
    "# with open(JP(paths['stopwords'],'nltk_stopwords.pkl'), 'rb') as f:\n",
    "#     SW = pickle.load(f)"
   ]
  },
  {
   "cell_type": "markdown",
   "metadata": {},
   "source": [
    "## Data"
   ]
  },
  {
   "cell_type": "code",
   "execution_count": 9,
   "metadata": {},
   "outputs": [],
   "source": [
    "name = 'bbc-text-processed.csv'"
   ]
  },
  {
   "cell_type": "code",
   "execution_count": 10,
   "metadata": {
    "hide_input": true
   },
   "outputs": [
    {
     "data": {
      "text/html": [
       "<div>\n",
       "<style scoped>\n",
       "    .dataframe tbody tr th:only-of-type {\n",
       "        vertical-align: middle;\n",
       "    }\n",
       "\n",
       "    .dataframe tbody tr th {\n",
       "        vertical-align: top;\n",
       "    }\n",
       "\n",
       "    .dataframe thead th {\n",
       "        text-align: right;\n",
       "    }\n",
       "</style>\n",
       "<table border=\"1\" class=\"dataframe\">\n",
       "  <thead>\n",
       "    <tr style=\"text-align: right;\">\n",
       "      <th></th>\n",
       "      <th>category</th>\n",
       "      <th>text</th>\n",
       "      <th>lenght</th>\n",
       "      <th>processed</th>\n",
       "    </tr>\n",
       "  </thead>\n",
       "  <tbody>\n",
       "    <tr>\n",
       "      <td>0</td>\n",
       "      <td>tech</td>\n",
       "      <td>tv future in the hands of viewers with home th...</td>\n",
       "      <td>806</td>\n",
       "      <td>tv future hand viewer system plasma high defin...</td>\n",
       "    </tr>\n",
       "    <tr>\n",
       "      <td>1</td>\n",
       "      <td>business</td>\n",
       "      <td>worldcom boss  left books alone  former worldc...</td>\n",
       "      <td>332</td>\n",
       "      <td>left book ebber accuse oversee 11bn fraud acco...</td>\n",
       "    </tr>\n",
       "    <tr>\n",
       "      <td>2</td>\n",
       "      <td>sport</td>\n",
       "      <td>tigers wary of farrell  gamble  leicester say ...</td>\n",
       "      <td>270</td>\n",
       "      <td>wary farrell gamble rush make bid decide switc...</td>\n",
       "    </tr>\n",
       "    <tr>\n",
       "      <td>3</td>\n",
       "      <td>sport</td>\n",
       "      <td>yeading face newcastle in fa cup premiership s...</td>\n",
       "      <td>390</td>\n",
       "      <td>yeade face premiership face trip leader yeade ...</td>\n",
       "    </tr>\n",
       "    <tr>\n",
       "      <td>4</td>\n",
       "      <td>entertainment</td>\n",
       "      <td>ocean s twelve raids box office ocean s twelve...</td>\n",
       "      <td>287</td>\n",
       "      <td>raid ocean crime go number office chart take w...</td>\n",
       "    </tr>\n",
       "  </tbody>\n",
       "</table>\n",
       "</div>"
      ],
      "text/plain": [
       "        category                                               text  lenght  \\\n",
       "0           tech  tv future in the hands of viewers with home th...     806   \n",
       "1       business  worldcom boss  left books alone  former worldc...     332   \n",
       "2          sport  tigers wary of farrell  gamble  leicester say ...     270   \n",
       "3          sport  yeading face newcastle in fa cup premiership s...     390   \n",
       "4  entertainment  ocean s twelve raids box office ocean s twelve...     287   \n",
       "\n",
       "                                           processed  \n",
       "0  tv future hand viewer system plasma high defin...  \n",
       "1  left book ebber accuse oversee 11bn fraud acco...  \n",
       "2  wary farrell gamble rush make bid decide switc...  \n",
       "3  yeade face premiership face trip leader yeade ...  \n",
       "4  raid ocean crime go number office chart take w...  "
      ]
     },
     "execution_count": 10,
     "metadata": {},
     "output_type": "execute_result"
    }
   ],
   "source": [
    "data = pd.read_csv(JP('data',name), index_col=0)\n",
    "data.head()"
   ]
  },
  {
   "cell_type": "markdown",
   "metadata": {},
   "source": [
    "## TFIDF"
   ]
  },
  {
   "cell_type": "code",
   "execution_count": 11,
   "metadata": {},
   "outputs": [],
   "source": [
    "from nltk.corpus import stopwords\n",
    "from sklearn.feature_extraction.text import TfidfVectorizer"
   ]
  },
  {
   "cell_type": "code",
   "execution_count": 12,
   "metadata": {},
   "outputs": [
    {
     "name": "stdout",
     "output_type": "stream",
     "text": [
      "5\n"
     ]
    }
   ],
   "source": [
    "EMBED_SIZE = 10000 \n",
    "NUM_CLUSTERS = data['category'].nunique()\n",
    "WORDS_PER_CLUSTER = None\n",
    "print(NUM_CLUSTERS)"
   ]
  },
  {
   "cell_type": "code",
   "execution_count": 13,
   "metadata": {
    "ExecuteTime": {
     "end_time": "2019-12-01T18:05:30.825836Z",
     "start_time": "2019-12-01T18:05:30.763788Z"
    }
   },
   "outputs": [],
   "source": [
    "documents = [Document() for i in range(data.shape[0])]\n",
    "for d in range(len(documents)):\n",
    "    documents[d].processed_text = data['processed'][d]"
   ]
  },
  {
   "cell_type": "code",
   "execution_count": 14,
   "metadata": {},
   "outputs": [],
   "source": [
    "catalog = Catalog()\n",
    "catalog.documents = documents"
   ]
  },
  {
   "cell_type": "code",
   "execution_count": 15,
   "metadata": {},
   "outputs": [],
   "source": [
    "vectorizer = TfidfVectorizer(\n",
    "    min_df=.05,\n",
    "    max_df=.8,\n",
    "    norm='l2',\n",
    "    use_idf=True,\n",
    "    smooth_idf=True,\n",
    "    max_features=EMBED_SIZE,\n",
    "    ngram_range=(1,3),\n",
    "    lowercase=True,\n",
    "    stop_words=SW)"
   ]
  },
  {
   "cell_type": "code",
   "execution_count": 16,
   "metadata": {
    "scrolled": true
   },
   "outputs": [
    {
     "name": "stdout",
     "output_type": "stream",
     "text": [
      "(2225, 460)\n"
     ]
    },
    {
     "data": {
      "text/html": [
       "<div>\n",
       "<style scoped>\n",
       "    .dataframe tbody tr th:only-of-type {\n",
       "        vertical-align: middle;\n",
       "    }\n",
       "\n",
       "    .dataframe tbody tr th {\n",
       "        vertical-align: top;\n",
       "    }\n",
       "\n",
       "    .dataframe thead th {\n",
       "        text-align: right;\n",
       "    }\n",
       "</style>\n",
       "<table border=\"1\" class=\"dataframe\">\n",
       "  <thead>\n",
       "    <tr style=\"text-align: right;\">\n",
       "      <th></th>\n",
       "      <th>able</th>\n",
       "      <th>accept</th>\n",
       "      <th>access</th>\n",
       "      <th>accord</th>\n",
       "      <th>account</th>\n",
       "      <th>accuse</th>\n",
       "      <th>act</th>\n",
       "      <th>action</th>\n",
       "      <th>add</th>\n",
       "      <th>admit</th>\n",
       "      <th>...</th>\n",
       "      <th>week</th>\n",
       "      <th>weekend</th>\n",
       "      <th>win</th>\n",
       "      <th>winner</th>\n",
       "      <th>woman</th>\n",
       "      <th>work</th>\n",
       "      <th>world</th>\n",
       "      <th>write</th>\n",
       "      <th>year</th>\n",
       "      <th>young</th>\n",
       "    </tr>\n",
       "  </thead>\n",
       "  <tbody>\n",
       "    <tr>\n",
       "      <td>0</td>\n",
       "      <td>0.000</td>\n",
       "      <td>0.000</td>\n",
       "      <td>0.000</td>\n",
       "      <td>0.037</td>\n",
       "      <td>0.000</td>\n",
       "      <td>0.000</td>\n",
       "      <td>0.000</td>\n",
       "      <td>0.000</td>\n",
       "      <td>0.027</td>\n",
       "      <td>0.000</td>\n",
       "      <td>...</td>\n",
       "      <td>0.000</td>\n",
       "      <td>0.000</td>\n",
       "      <td>0.000</td>\n",
       "      <td>0.000</td>\n",
       "      <td>0.000</td>\n",
       "      <td>0.029</td>\n",
       "      <td>0.000</td>\n",
       "      <td>0.000</td>\n",
       "      <td>0.038</td>\n",
       "      <td>0.000</td>\n",
       "    </tr>\n",
       "    <tr>\n",
       "      <td>1</td>\n",
       "      <td>0.000</td>\n",
       "      <td>0.000</td>\n",
       "      <td>0.000</td>\n",
       "      <td>0.000</td>\n",
       "      <td>0.000</td>\n",
       "      <td>0.150</td>\n",
       "      <td>0.000</td>\n",
       "      <td>0.000</td>\n",
       "      <td>0.000</td>\n",
       "      <td>0.299</td>\n",
       "      <td>...</td>\n",
       "      <td>0.000</td>\n",
       "      <td>0.000</td>\n",
       "      <td>0.000</td>\n",
       "      <td>0.000</td>\n",
       "      <td>0.000</td>\n",
       "      <td>0.000</td>\n",
       "      <td>0.000</td>\n",
       "      <td>0.000</td>\n",
       "      <td>0.000</td>\n",
       "      <td>0.000</td>\n",
       "    </tr>\n",
       "    <tr>\n",
       "      <td>2</td>\n",
       "      <td>0.000</td>\n",
       "      <td>0.000</td>\n",
       "      <td>0.000</td>\n",
       "      <td>0.000</td>\n",
       "      <td>0.000</td>\n",
       "      <td>0.000</td>\n",
       "      <td>0.000</td>\n",
       "      <td>0.000</td>\n",
       "      <td>0.000</td>\n",
       "      <td>0.000</td>\n",
       "      <td>...</td>\n",
       "      <td>0.106</td>\n",
       "      <td>0.000</td>\n",
       "      <td>0.000</td>\n",
       "      <td>0.000</td>\n",
       "      <td>0.000</td>\n",
       "      <td>0.000</td>\n",
       "      <td>0.000</td>\n",
       "      <td>0.000</td>\n",
       "      <td>0.000</td>\n",
       "      <td>0.000</td>\n",
       "    </tr>\n",
       "    <tr>\n",
       "      <td>3</td>\n",
       "      <td>0.000</td>\n",
       "      <td>0.000</td>\n",
       "      <td>0.000</td>\n",
       "      <td>0.000</td>\n",
       "      <td>0.000</td>\n",
       "      <td>0.000</td>\n",
       "      <td>0.000</td>\n",
       "      <td>0.000</td>\n",
       "      <td>0.000</td>\n",
       "      <td>0.000</td>\n",
       "      <td>...</td>\n",
       "      <td>0.000</td>\n",
       "      <td>0.239</td>\n",
       "      <td>0.066</td>\n",
       "      <td>0.000</td>\n",
       "      <td>0.000</td>\n",
       "      <td>0.000</td>\n",
       "      <td>0.000</td>\n",
       "      <td>0.000</td>\n",
       "      <td>0.000</td>\n",
       "      <td>0.000</td>\n",
       "    </tr>\n",
       "    <tr>\n",
       "      <td>4</td>\n",
       "      <td>0.000</td>\n",
       "      <td>0.000</td>\n",
       "      <td>0.000</td>\n",
       "      <td>0.115</td>\n",
       "      <td>0.000</td>\n",
       "      <td>0.000</td>\n",
       "      <td>0.000</td>\n",
       "      <td>0.000</td>\n",
       "      <td>0.000</td>\n",
       "      <td>0.000</td>\n",
       "      <td>...</td>\n",
       "      <td>0.094</td>\n",
       "      <td>0.316</td>\n",
       "      <td>0.087</td>\n",
       "      <td>0.000</td>\n",
       "      <td>0.000</td>\n",
       "      <td>0.000</td>\n",
       "      <td>0.000</td>\n",
       "      <td>0.000</td>\n",
       "      <td>0.000</td>\n",
       "      <td>0.000</td>\n",
       "    </tr>\n",
       "  </tbody>\n",
       "</table>\n",
       "<p>5 rows × 460 columns</p>\n",
       "</div>"
      ],
      "text/plain": [
       "   able  accept  access  accord  account  accuse   act  action   add  admit  \\\n",
       "0 0.000   0.000   0.000   0.037    0.000   0.000 0.000   0.000 0.027  0.000   \n",
       "1 0.000   0.000   0.000   0.000    0.000   0.150 0.000   0.000 0.000  0.299   \n",
       "2 0.000   0.000   0.000   0.000    0.000   0.000 0.000   0.000 0.000  0.000   \n",
       "3 0.000   0.000   0.000   0.000    0.000   0.000 0.000   0.000 0.000  0.000   \n",
       "4 0.000   0.000   0.000   0.115    0.000   0.000 0.000   0.000 0.000  0.000   \n",
       "\n",
       "   ...  week  weekend   win  winner  woman  work  world  write  year  young  \n",
       "0  ... 0.000    0.000 0.000   0.000  0.000 0.029  0.000  0.000 0.038  0.000  \n",
       "1  ... 0.000    0.000 0.000   0.000  0.000 0.000  0.000  0.000 0.000  0.000  \n",
       "2  ... 0.106    0.000 0.000   0.000  0.000 0.000  0.000  0.000 0.000  0.000  \n",
       "3  ... 0.000    0.239 0.066   0.000  0.000 0.000  0.000  0.000 0.000  0.000  \n",
       "4  ... 0.094    0.316 0.087   0.000  0.000 0.000  0.000  0.000 0.000  0.000  \n",
       "\n",
       "[5 rows x 460 columns]"
      ]
     },
     "execution_count": 16,
     "metadata": {},
     "output_type": "execute_result"
    }
   ],
   "source": [
    "_ = catalog.collect_corpus(attr='processed_text', form=list)\n",
    "tfidf = catalog.to_matrix(\n",
    "    vectorizer=vectorizer,\n",
    "    modelname='TFIDF',\n",
    "    max_docs=None)\n",
    "print(tfidf.representation.shape)\n",
    "tfidf.representation.head()"
   ]
  },
  {
   "cell_type": "markdown",
   "metadata": {},
   "source": [
    "## Sklearn Topic Modelling\n",
    "\n",
    "- 1: Latent Dirichlet Allocation\n",
    "- 2: Non Negative Matrix Factorization"
   ]
  },
  {
   "cell_type": "code",
   "execution_count": 17,
   "metadata": {},
   "outputs": [],
   "source": [
    "NUM_TOPICS = NUM_CLUSTERS"
   ]
  },
  {
   "cell_type": "code",
   "execution_count": 18,
   "metadata": {},
   "outputs": [],
   "source": [
    "def selected_topics(model, vectorizer, top_n=10):\n",
    "    ''' Functions for printing keywords for each topic '''\n",
    "    for idx, topic in enumerate(model.components_):\n",
    "        print(\"Topic %d:\" % (idx))\n",
    "        print([vectorizer.get_feature_names()[i] for i in topic.argsort()[:-top_n - 1:-1]]) "
   ]
  },
  {
   "cell_type": "markdown",
   "metadata": {},
   "source": [
    "### Latente Dirichlet Allocation"
   ]
  },
  {
   "cell_type": "code",
   "execution_count": 17,
   "metadata": {},
   "outputs": [
    {
     "data": {
      "text/plain": [
       "LatentDirichletAllocation(batch_size=128, doc_topic_prior=None,\n",
       "                          evaluate_every=-1, learning_decay=0.7,\n",
       "                          learning_method='batch', learning_offset=10.0,\n",
       "                          max_doc_update_iter=100, max_iter=100,\n",
       "                          mean_change_tol=0.001, n_components=5, n_jobs=None,\n",
       "                          perp_tol=0.1, random_state=2019,\n",
       "                          topic_word_prior=None, total_samples=1000000.0,\n",
       "                          verbose=0)"
      ]
     },
     "execution_count": 17,
     "metadata": {},
     "output_type": "execute_result"
    }
   ],
   "source": [
    "from sklearn.decomposition import NMF, LatentDirichletAllocation, TruncatedSVD\n",
    "lda = LatentDirichletAllocation(\n",
    "    n_components=NUM_TOPICS, \n",
    "    learning_method='batch', \n",
    "    max_iter=100, \n",
    "    batch_size=128, \n",
    "    random_state=2019, \n",
    "    verbose=0)\n",
    "lda"
   ]
  },
  {
   "cell_type": "markdown",
   "metadata": {},
   "source": [
    "**Load Pretrained Model**"
   ]
  },
  {
   "cell_type": "code",
   "execution_count": 19,
   "metadata": {},
   "outputs": [
    {
     "data": {
      "text/plain": [
       "LatentDirichletAllocation(batch_size=128, doc_topic_prior=None,\n",
       "                          evaluate_every=-1, learning_decay=0.7,\n",
       "                          learning_method='online', learning_offset=10.0,\n",
       "                          max_doc_update_iter=100, max_iter=10,\n",
       "                          mean_change_tol=0.001, n_components=5, n_jobs=None,\n",
       "                          perp_tol=0.1, random_state=None,\n",
       "                          topic_word_prior=None, total_samples=1000000.0,\n",
       "                          verbose=True)"
      ]
     },
     "execution_count": 19,
     "metadata": {},
     "output_type": "execute_result"
    }
   ],
   "source": [
    "with open(JP(paths['checkpoints'], 'lda_sklearn.pkl'), 'rb') as obj:\n",
    "    lda = pickle.load(obj)\n",
    "lda"
   ]
  },
  {
   "cell_type": "markdown",
   "metadata": {},
   "source": [
    "**Train Model**"
   ]
  },
  {
   "cell_type": "code",
   "execution_count": 32,
   "metadata": {
    "deletable": false,
    "editable": false,
    "run_control": {
     "frozen": true
    },
    "scrolled": true
   },
   "outputs": [
    {
     "name": "stdout",
     "output_type": "stream",
     "text": [
      "Latent Semantion Allocation\n",
      "iteration: 1 of max_iter: 100\n",
      "iteration: 2 of max_iter: 100\n",
      "iteration: 3 of max_iter: 100\n",
      "iteration: 4 of max_iter: 100\n",
      "iteration: 5 of max_iter: 100\n",
      "iteration: 6 of max_iter: 100\n",
      "iteration: 7 of max_iter: 100\n",
      "iteration: 8 of max_iter: 100\n",
      "iteration: 9 of max_iter: 100\n",
      "iteration: 10 of max_iter: 100\n",
      "iteration: 11 of max_iter: 100\n",
      "iteration: 12 of max_iter: 100\n",
      "iteration: 13 of max_iter: 100\n",
      "iteration: 14 of max_iter: 100\n",
      "iteration: 15 of max_iter: 100\n",
      "iteration: 16 of max_iter: 100\n",
      "iteration: 17 of max_iter: 100\n",
      "iteration: 18 of max_iter: 100\n",
      "iteration: 19 of max_iter: 100\n",
      "iteration: 20 of max_iter: 100\n",
      "iteration: 21 of max_iter: 100\n",
      "iteration: 22 of max_iter: 100\n",
      "iteration: 23 of max_iter: 100\n",
      "iteration: 24 of max_iter: 100\n",
      "iteration: 25 of max_iter: 100\n",
      "iteration: 26 of max_iter: 100\n",
      "iteration: 27 of max_iter: 100\n",
      "iteration: 28 of max_iter: 100\n",
      "iteration: 29 of max_iter: 100\n",
      "iteration: 30 of max_iter: 100\n",
      "iteration: 31 of max_iter: 100\n",
      "iteration: 32 of max_iter: 100\n",
      "iteration: 33 of max_iter: 100\n",
      "iteration: 34 of max_iter: 100\n",
      "iteration: 35 of max_iter: 100\n",
      "iteration: 36 of max_iter: 100\n",
      "iteration: 37 of max_iter: 100\n",
      "iteration: 38 of max_iter: 100\n",
      "iteration: 39 of max_iter: 100\n",
      "iteration: 40 of max_iter: 100\n",
      "iteration: 41 of max_iter: 100\n",
      "iteration: 42 of max_iter: 100\n",
      "iteration: 43 of max_iter: 100\n",
      "iteration: 44 of max_iter: 100\n",
      "iteration: 45 of max_iter: 100\n",
      "iteration: 46 of max_iter: 100\n",
      "iteration: 47 of max_iter: 100\n",
      "iteration: 48 of max_iter: 100\n",
      "iteration: 49 of max_iter: 100\n",
      "iteration: 50 of max_iter: 100\n",
      "iteration: 51 of max_iter: 100\n",
      "iteration: 52 of max_iter: 100\n",
      "iteration: 53 of max_iter: 100\n",
      "iteration: 54 of max_iter: 100\n",
      "iteration: 55 of max_iter: 100\n",
      "iteration: 56 of max_iter: 100\n",
      "iteration: 57 of max_iter: 100\n",
      "iteration: 58 of max_iter: 100\n",
      "iteration: 59 of max_iter: 100\n",
      "iteration: 60 of max_iter: 100\n",
      "iteration: 61 of max_iter: 100\n",
      "iteration: 62 of max_iter: 100\n",
      "iteration: 63 of max_iter: 100\n",
      "iteration: 64 of max_iter: 100\n",
      "iteration: 65 of max_iter: 100\n",
      "iteration: 66 of max_iter: 100\n",
      "iteration: 67 of max_iter: 100\n",
      "iteration: 68 of max_iter: 100\n",
      "iteration: 69 of max_iter: 100\n",
      "iteration: 70 of max_iter: 100\n",
      "iteration: 71 of max_iter: 100\n",
      "iteration: 72 of max_iter: 100\n",
      "iteration: 73 of max_iter: 100\n",
      "iteration: 74 of max_iter: 100\n",
      "iteration: 75 of max_iter: 100\n",
      "iteration: 76 of max_iter: 100\n",
      "iteration: 77 of max_iter: 100\n",
      "iteration: 78 of max_iter: 100\n",
      "iteration: 79 of max_iter: 100\n",
      "iteration: 80 of max_iter: 100\n",
      "iteration: 81 of max_iter: 100\n",
      "iteration: 82 of max_iter: 100\n",
      "iteration: 83 of max_iter: 100\n",
      "iteration: 84 of max_iter: 100\n",
      "iteration: 85 of max_iter: 100\n",
      "iteration: 86 of max_iter: 100\n",
      "iteration: 87 of max_iter: 100\n",
      "iteration: 88 of max_iter: 100\n",
      "iteration: 89 of max_iter: 100\n",
      "iteration: 90 of max_iter: 100\n",
      "iteration: 91 of max_iter: 100\n",
      "iteration: 92 of max_iter: 100\n",
      "iteration: 93 of max_iter: 100\n",
      "iteration: 94 of max_iter: 100\n",
      "iteration: 95 of max_iter: 100\n",
      "iteration: 96 of max_iter: 100\n",
      "iteration: 97 of max_iter: 100\n",
      "iteration: 98 of max_iter: 100\n",
      "iteration: 99 of max_iter: 100\n",
      "iteration: 100 of max_iter: 100\n"
     ]
    }
   ],
   "source": [
    "print('Latent Semantion Allocation')\n",
    "data_lda = lda.fit_transform(tfidf.representation)"
   ]
  },
  {
   "cell_type": "code",
   "execution_count": 33,
   "metadata": {},
   "outputs": [
    {
     "name": "stdout",
     "output_type": "stream",
     "text": [
      "LDA Model:\n",
      "Topic 0:\n",
      "['game', 'win', 'play', 'player', 'match', 'team', 'club', 'injury']\n",
      "Topic 1:\n",
      "['government', 'election', 'party', 'labour', 'people', 'plan', 'tory', 'law']\n",
      "Topic 2:\n",
      "['technology', 'people', 'mobile', 'phone', 'user', 'computer', 'service', 'software']\n",
      "Topic 3:\n",
      "['film', 'award', 'star', 'music', 'include', 'year', 'win', 'release']\n",
      "Topic 4:\n",
      "['company', 'sale', 'share', 'firm', 'market', 'price', 'year', 'rise']\n"
     ]
    }
   ],
   "source": [
    "# Keywords for topics clustered by Latent Dirichlet Allocation\n",
    "print(\"LDA Model:\")\n",
    "selected_topics(lda, vectorizer, 8)"
   ]
  },
  {
   "cell_type": "markdown",
   "metadata": {},
   "source": [
    "**Save Model**"
   ]
  },
  {
   "cell_type": "code",
   "execution_count": 34,
   "metadata": {
    "deletable": false,
    "editable": false,
    "run_control": {
     "frozen": true
    }
   },
   "outputs": [],
   "source": [
    "with open(JP(paths['checkpoints'], 'lda_sklearn.pkl'), 'wb') as obj:\n",
    "    pickle.dump(lda,obj)"
   ]
  },
  {
   "cell_type": "markdown",
   "metadata": {
    "deletable": false,
    "editable": false,
    "run_control": {
     "frozen": true
    }
   },
   "source": [
    "#### Visualization"
   ]
  },
  {
   "cell_type": "code",
   "execution_count": 20,
   "metadata": {},
   "outputs": [],
   "source": [
    "import pyLDAvis\n",
    "import pyLDAvis.sklearn\n",
    "pyLDAvis.enable_notebook()"
   ]
  },
  {
   "cell_type": "code",
   "execution_count": 27,
   "metadata": {},
   "outputs": [
    {
     "data": {
      "text/html": [
       "\n",
       "<link rel=\"stylesheet\" type=\"text/css\" href=\"https://cdn.rawgit.com/bmabey/pyLDAvis/files/ldavis.v1.0.0.css\">\n",
       "\n",
       "\n",
       "<div id=\"ldavis_el3881401006627779208347083012\"></div>\n",
       "<script type=\"text/javascript\">\n",
       "\n",
       "var ldavis_el3881401006627779208347083012_data = {\"mdsDat\": {\"x\": [140.91806030273438, 110.95941162109375, 32.98517990112305, 25.530353546142578, -27.75194549560547], \"y\": [-131.135498046875, -29.696983337402344, -149.12445068359375, 32.66584777832031, -62.906768798828125], \"topics\": [1, 2, 3, 4, 5], \"cluster\": [1, 1, 1, 1, 1], \"Freq\": [33.21798593399737, 32.745117999749716, 27.918703013777552, 3.0590974226468077, 3.059095629828566]}, \"tinfo\": {\"Category\": [\"Default\", \"Default\", \"Default\", \"Default\", \"Default\", \"Default\", \"Default\", \"Default\", \"Default\", \"Default\", \"Default\", \"Default\", \"Default\", \"Default\", \"Default\", \"Default\", \"Default\", \"Default\", \"Default\", \"Default\", \"Default\", \"Default\", \"Default\", \"Default\", \"Default\", \"Default\", \"Default\", \"Default\", \"Default\", \"Default\", \"Topic1\", \"Topic1\", \"Topic1\", \"Topic1\", \"Topic1\", \"Topic1\", \"Topic1\", \"Topic1\", \"Topic1\", \"Topic1\", \"Topic1\", \"Topic1\", \"Topic1\", \"Topic1\", \"Topic1\", \"Topic1\", \"Topic1\", \"Topic1\", \"Topic1\", \"Topic1\", \"Topic1\", \"Topic1\", \"Topic1\", \"Topic1\", \"Topic1\", \"Topic1\", \"Topic1\", \"Topic1\", \"Topic1\", \"Topic1\", \"Topic1\", \"Topic1\", \"Topic1\", \"Topic1\", \"Topic1\", \"Topic1\", \"Topic1\", \"Topic1\", \"Topic1\", \"Topic1\", \"Topic1\", \"Topic1\", \"Topic2\", \"Topic2\", \"Topic2\", \"Topic2\", \"Topic2\", \"Topic2\", \"Topic2\", \"Topic2\", \"Topic2\", \"Topic2\", \"Topic2\", \"Topic2\", \"Topic2\", \"Topic2\", \"Topic2\", \"Topic2\", \"Topic2\", \"Topic2\", \"Topic2\", \"Topic2\", \"Topic2\", \"Topic2\", \"Topic2\", \"Topic2\", \"Topic2\", \"Topic2\", \"Topic2\", \"Topic2\", \"Topic2\", \"Topic2\", \"Topic2\", \"Topic2\", \"Topic2\", \"Topic2\", \"Topic2\", \"Topic2\", \"Topic2\", \"Topic2\", \"Topic2\", \"Topic2\", \"Topic2\", \"Topic2\", \"Topic2\", \"Topic2\", \"Topic3\", \"Topic3\", \"Topic3\", \"Topic3\", \"Topic3\", \"Topic3\", \"Topic3\", \"Topic3\", \"Topic3\", \"Topic3\", \"Topic3\", \"Topic3\", \"Topic3\", \"Topic3\", \"Topic3\", \"Topic3\", \"Topic3\", \"Topic3\", \"Topic3\", \"Topic3\", \"Topic3\", \"Topic3\", \"Topic3\", \"Topic3\", \"Topic3\", \"Topic3\", \"Topic3\", \"Topic3\", \"Topic3\", \"Topic3\", \"Topic3\", \"Topic3\", \"Topic3\", \"Topic3\", \"Topic3\", \"Topic3\", \"Topic3\", \"Topic3\", \"Topic3\", \"Topic3\", \"Topic3\", \"Topic3\", \"Topic3\", \"Topic4\", \"Topic4\", \"Topic4\", \"Topic4\", \"Topic4\", \"Topic4\", \"Topic4\", \"Topic4\", \"Topic4\", \"Topic4\", \"Topic4\", \"Topic4\", \"Topic4\", \"Topic4\", \"Topic4\", \"Topic4\", \"Topic4\", \"Topic4\", \"Topic4\", \"Topic4\", \"Topic4\", \"Topic4\", \"Topic4\", \"Topic4\", \"Topic4\", \"Topic4\", \"Topic4\", \"Topic4\", \"Topic4\", \"Topic4\", \"Topic4\", \"Topic4\", \"Topic4\", \"Topic4\", \"Topic4\", \"Topic4\", \"Topic4\", \"Topic4\", \"Topic4\", \"Topic4\", \"Topic4\", \"Topic4\", \"Topic4\", \"Topic4\", \"Topic4\", \"Topic4\", \"Topic4\", \"Topic4\", \"Topic4\", \"Topic4\", \"Topic4\", \"Topic4\", \"Topic4\", \"Topic4\", \"Topic4\", \"Topic4\", \"Topic4\", \"Topic4\", \"Topic4\", \"Topic4\", \"Topic4\", \"Topic4\", \"Topic4\", \"Topic4\", \"Topic5\", \"Topic5\", \"Topic5\", \"Topic5\", \"Topic5\", \"Topic5\", \"Topic5\", \"Topic5\", \"Topic5\", \"Topic5\", \"Topic5\", \"Topic5\", \"Topic5\", \"Topic5\", \"Topic5\", \"Topic5\", \"Topic5\", \"Topic5\", \"Topic5\", \"Topic5\", \"Topic5\", \"Topic5\", \"Topic5\", \"Topic5\", \"Topic5\", \"Topic5\", \"Topic5\", \"Topic5\", \"Topic5\", \"Topic5\", \"Topic5\", \"Topic5\", \"Topic5\", \"Topic5\", \"Topic5\", \"Topic5\", \"Topic5\", \"Topic5\", \"Topic5\", \"Topic5\", \"Topic5\", \"Topic5\", \"Topic5\", \"Topic5\", \"Topic5\", \"Topic5\", \"Topic5\", \"Topic5\", \"Topic5\", \"Topic5\", \"Topic5\", \"Topic5\", \"Topic5\", \"Topic5\", \"Topic5\", \"Topic5\", \"Topic5\", \"Topic5\", \"Topic5\", \"Topic5\", \"Topic5\", \"Topic5\", \"Topic5\"], \"Freq\": [78.0, 49.0, 82.0, 85.0, 62.0, 50.0, 71.0, 40.0, 38.0, 43.0, 39.0, 31.0, 48.0, 54.0, 34.0, 35.0, 58.0, 32.0, 29.0, 29.0, 34.0, 28.0, 44.0, 33.0, 28.0, 61.0, 55.0, 33.0, 28.0, 30.0, 32.23630434081318, 33.1989632478734, 27.485897195579206, 27.351214634085313, 26.11451436753834, 26.390215161270262, 22.530479983059504, 24.285148252759445, 26.035329486537407, 17.07026369516107, 29.875557679425867, 17.857205670734736, 29.93643110787567, 18.624104399604327, 16.115836637455086, 41.898016058157715, 22.70450000102983, 19.472745189862444, 25.373828402336734, 31.80725886305981, 37.26244992726801, 17.843636770445713, 47.95855550018183, 43.33417769110221, 24.837746517054043, 46.64603524069086, 22.038769454418436, 31.4945114460235, 17.860519399244197, 13.256078975502277, 19.88550400489698, 23.09746114428272, 24.09505458499264, 28.127262280608182, 43.44415038706811, 36.18676226839142, 22.980070285938726, 23.70878883957474, 30.027026921354917, 24.534317308867056, 24.26793399150958, 22.893172464845534, 38.08332195573221, 47.391011943014796, 30.285372660453625, 36.19914645220516, 71.09956809390167, 18.79300171757885, 26.956553636139517, 17.57840919078265, 61.897287508818785, 18.19597271568424, 25.90482421113385, 19.64854408826133, 24.682367375752776, 23.046757380873142, 70.63303913881265, 19.302817748700814, 71.7994346140296, 34.72216157109021, 13.914588227407467, 20.41408332390413, 29.921702811372068, 44.620887807518834, 17.87590911784879, 18.237382924608987, 28.221160487502033, 21.848533978060846, 28.149196760871124, 25.760609408059725, 19.97768825516627, 19.120350248230665, 29.777487124832927, 20.007165651539935, 35.99958761589176, 30.028693746516364, 25.213744595077127, 40.98615043505186, 27.592390440890913, 26.74579650426112, 25.968071741027362, 24.999718592213245, 25.03809529058335, 24.402073193887162, 23.651569051993942, 23.702295883387574, 46.35429803914473, 29.47616543516756, 34.95508135341311, 18.437603536712803, 37.97248116019561, 13.080675267921144, 20.9936149616342, 28.422383681867657, 16.353263901961796, 25.582149109386002, 49.9214468552088, 22.672230198750576, 13.108684769088981, 21.243547299817337, 15.48787741015323, 16.68392848107044, 15.382997432107434, 12.094194840727315, 21.20151965757672, 12.295047888324147, 12.002270046408098, 12.392998829887294, 15.427803184744663, 17.964824052606275, 15.892561508849953, 18.61452438735698, 9.944517454565506, 24.386538743600823, 26.605925044472173, 22.82223025402885, 30.10932893300116, 18.95531561802347, 17.090168547411302, 27.79823163039033, 24.07452429811751, 29.49448346593997, 18.113182055222488, 17.554539363746503, 16.19124803094089, 20.699790568344234, 19.190014161100194, 17.385177277909577, 17.32925403277856, 0.8161479600351346, 0.8152534357627337, 0.8157446614349382, 0.815985173841611, 0.8152716021502469, 0.8149786881770247, 0.81510151048795, 0.8149968365677017, 0.8152849595260995, 0.8159850245395921, 0.8150201499965544, 0.8150920234510738, 0.8154273390648669, 0.8153779097915608, 0.8155097654982231, 0.8148511407572179, 0.815348803361593, 0.815357811824866, 0.8152281170362714, 0.8156389325517964, 0.8155818740526388, 0.8163170564167815, 0.815716834899317, 0.8152719095741222, 0.8153985401008625, 0.8152418413342614, 0.8158201321632077, 0.8157447722191089, 0.8149514164513967, 0.8151733691411358, 0.8162144763243665, 0.8171206786210514, 0.8171066807871755, 0.8160637727081552, 0.8162786942782253, 0.8161973774068012, 0.8193615497002293, 0.8199788858684618, 0.818085859461303, 0.8179131018804399, 0.8177603630969874, 0.8174109435334298, 0.8173225215639555, 0.8172904079753894, 0.8172670710633816, 0.8172564733804657, 0.8172059877481436, 0.8170958130359692, 0.8170154839868682, 0.8169851338764761, 0.816933174231799, 0.816913449342225, 0.8168609491587128, 0.8168502682220953, 0.8168207726492805, 0.8168106381449366, 0.81678989729272, 0.8167584315194941, 0.8167147438706246, 0.816698026765826, 0.8166130874878269, 0.8165883529777942, 0.8165737631588933, 0.8165720921210994, 0.8164097514098396, 0.815570953439727, 0.8157375729502336, 0.815523169120514, 0.8151703706299044, 0.8148944763810104, 0.8151250186602342, 0.8153307025094518, 0.815140342270452, 0.8154905955124674, 0.8157136018352023, 0.8149808865578119, 0.8155552920015092, 0.8154685580632459, 0.8155897375334921, 0.8147900407094654, 0.8154155504913949, 0.8152771829017974, 0.8151749998729472, 0.8152949762839323, 0.8157018440424315, 0.8156562101127585, 0.8151327161097046, 0.815365573787992, 0.8149144653732298, 0.8152716112004461, 0.8175399820438999, 0.8150333953350218, 0.8152257029530586, 0.8153652788756746, 0.8161510064177669, 0.8160694074089417, 0.8166945773047319, 0.8164785826812063, 0.8188754272551835, 0.8157295130990718, 0.8165598892718112, 0.8158777655012067, 0.8182215339536244, 0.8177358994847064, 0.8176234057982996, 0.817456395304181, 0.8174231123466593, 0.8172284333663458, 0.8171847359166112, 0.8171108975004336, 0.8170671777558938, 0.8170252252371499, 0.8169838642810217, 0.8168566669469618, 0.8168442700379477, 0.8167456711405348, 0.8167272549898777, 0.8167220013296947, 0.8166964664609468, 0.816686594236604, 0.8166716385257164, 0.8166404996714869, 0.8165726987292516, 0.8165644346247435, 0.8164341067404748, 0.8164297634742121, 0.8164291944193752], \"Term\": [\"film\", \"election\", \"game\", \"win\", \"government\", \"award\", \"play\", \"star\", \"labour\", \"party\", \"match\", \"tory\", \"market\", \"player\", \"mobile\", \"technology\", \"firm\", \"injury\", \"user\", \"computer\", \"law\", \"software\", \"share\", \"growth\", \"profit\", \"company\", \"sale\", \"phone\", \"analyst\", \"season\", \"mobile\", \"technology\", \"user\", \"computer\", \"software\", \"profit\", \"site\", \"consumer\", \"analyst\", \"digital\", \"growth\", \"pc\", \"phone\", \"datum\", \"customer\", \"market\", \"network\", \"internet\", \"net\", \"price\", \"share\", \"product\", \"firm\", \"sale\", \"buy\", \"company\", \"rate\", \"rise\", \"grow\", \"access\", \"dollar\", \"business\", \"economy\", \"service\", \"year\", \"people\", \"fall\", \"sell\", \"new\", \"month\", \"report\", \"use\", \"star\", \"award\", \"injury\", \"match\", \"film\", \"champion\", \"season\", \"score\", \"play\", \"winner\", \"beat\", \"victory\", \"title\", \"goal\", \"game\", \"coach\", \"win\", \"team\", \"love\", \"fan\", \"final\", \"player\", \"career\", \"race\", \"club\", \"minute\", \"old\", \"half\", \"event\", \"chance\", \"second\", \"great\", \"time\", \"go\", \"get\", \"year\", \"take\", \"come\", \"world\", \"number\", \"include\", \"week\", \"music\", \"set\", \"election\", \"tory\", \"labour\", \"conservative\", \"party\", \"general election\", \"minister\", \"law\", \"political\", \"tax\", \"government\", \"leader\", \"proposal\", \"court\", \"general\", \"budget\", \"policy\", \"spokesman say\", \"case\", \"argue\", \"evidence\", \"accuse\", \"bill\", \"vote\", \"legal\", \"campaign\", \"common\", \"public\", \"claim\", \"issue\", \"plan\", \"rule\", \"spokesman\", \"tell\", \"country\", \"people\", \"right\", \"decision\", \"member\", \"year\", \"new\", \"want\", \"work\", \"exist\", \"average\", \"avoid\", \"limit\", \"reason\", \"sure\", \"manage\", \"hear\", \"struggle\", \"measure\", \"describe\", \"pre\", \"popular\", \"senior\", \"large\", \"potential\", \"chairman\", \"giant\", \"individual\", \"introduce\", \"chief executive\", \"accept\", \"push\", \"similar\", \"short\", \"deliver\", \"common\", \"period\", \"understand\", \"late\", \"reduce\", \"finance\", \"damage\", \"affect\", \"risk\", \"annual\", \"budget\", \"child\", \"cost\", \"party\", \"firm\", \"network\", \"share\", \"dollar\", \"system\", \"cut\", \"research\", \"woman\", \"need\", \"date\", \"financial\", \"report\", \"video\", \"tell\", \"price\", \"company\", \"election\", \"year\", \"fall\", \"seek\", \"business\", \"technology\", \"turn\", \"claim\", \"exist\", \"average\", \"avoid\", \"limit\", \"reason\", \"sure\", \"manage\", \"hear\", \"struggle\", \"describe\", \"measure\", \"pre\", \"popular\", \"senior\", \"large\", \"potential\", \"chairman\", \"giant\", \"individual\", \"introduce\", \"chief executive\", \"accept\", \"push\", \"similar\", \"short\", \"deliver\", \"common\", \"period\", \"understand\", \"late\", \"reduce\", \"bit\", \"finance\", \"annual\", \"card\", \"gain\", \"double\", \"development\", \"age\", \"beat\", \"party\", \"year\", \"win\", \"play\", \"project\", \"single\", \"charge\", \"vote\", \"leader\", \"woman\", \"computer\", \"firm\", \"day\", \"work\", \"deny\", \"match\", \"video\", \"title\", \"event\", \"research\", \"open\", \"people\", \"film\"], \"Total\": [78.0, 49.0, 82.0, 85.0, 62.0, 50.0, 71.0, 40.0, 38.0, 43.0, 39.0, 31.0, 48.0, 54.0, 34.0, 35.0, 58.0, 32.0, 29.0, 29.0, 34.0, 28.0, 44.0, 33.0, 28.0, 61.0, 55.0, 33.0, 28.0, 30.0, 34.2474631160128, 35.548494316752084, 29.48577949730523, 29.36940058079407, 28.116110563111835, 28.85203099518357, 24.74929488678036, 26.73224399165791, 28.678513660034216, 19.081473449032774, 33.70271232730311, 20.15271537784153, 33.9180217923093, 21.413963904183205, 18.547759387644522, 48.36105451514915, 26.494936259056963, 22.80817611280891, 29.899910047326724, 37.57738529066537, 44.240644935796375, 21.516810520471687, 58.52146033067496, 55.68929355182342, 31.955033345922523, 61.543552190773376, 29.71208284274068, 43.44175843717645, 25.015300319525906, 18.875712240733137, 28.365681933928332, 33.14739355362096, 34.64382459971653, 44.561362031436275, 106.76430621728787, 78.88989408890201, 34.75470873365401, 37.621007888769434, 70.85765252255634, 48.525781625187086, 46.2960161236465, 35.410443170950465, 40.44696697475132, 50.52126449704978, 32.83384487114195, 39.34589278533462, 78.04788288426674, 20.873314526017012, 30.62367916626493, 20.009024830556825, 71.08581497125718, 21.013602448501903, 29.977058198633106, 22.762788967121526, 28.639709116668755, 26.93125362248549, 82.61120518727908, 22.709372686701805, 85.42150253274241, 41.5790413561323, 16.742984779945257, 24.918833066533036, 36.62423574037511, 54.90339372439385, 22.134097446880425, 23.39005887294127, 36.43010076626491, 28.244199158698237, 37.93026214894159, 34.75924995716916, 27.029928091768078, 26.56459436006631, 42.45450493968913, 28.04226740955295, 69.0736994253753, 55.8776468074823, 41.73456422477043, 106.76430621728787, 53.70871476902948, 55.82808801681728, 53.23456663498938, 50.42801825153071, 51.73460625777134, 49.29237385190045, 46.47265741236965, 48.14109113683446, 49.312138116440515, 31.469555165687567, 38.021535931116915, 20.45641086164535, 43.13148444869769, 15.072494145630223, 24.75564914209023, 34.154441388108054, 19.66368533143177, 30.855999459626414, 62.13200583427087, 29.59242558847338, 17.586111984970508, 28.783070191333284, 21.058850246111927, 23.315385560788194, 21.760626611647208, 17.1865374606361, 30.14092029426513, 17.574427270497633, 17.254969189209415, 17.835710702119542, 22.290288852639538, 26.403350973917252, 23.49302931492557, 27.53300245360715, 14.745052934263274, 36.23203316930422, 39.91841280418883, 34.87802858582699, 49.52947823111228, 30.31057985497191, 26.727807801847238, 55.77181384116629, 50.69307458444255, 78.88989408890201, 35.530405083521714, 32.92621245532398, 27.513289776648268, 106.76430621728787, 70.85765252255634, 52.15798089403983, 54.25530845100076, 11.765929619346227, 12.880863173754365, 12.90498206844313, 13.020689588339511, 13.372955629009809, 13.503642685017645, 13.51210276262262, 13.565588420509261, 13.58044499586876, 13.768528986304045, 13.755748026384307, 13.805389157477206, 13.969446512675324, 13.973014763930363, 14.061253366858198, 14.072026040776121, 14.15835460365345, 14.235087923249072, 14.319520093075718, 14.331000090724105, 14.38885428336773, 14.445959087129237, 14.498816392243588, 14.533209908534834, 14.658620548992179, 14.677891322320239, 14.745052934263274, 14.815646771960516, 14.867512801210923, 14.98117330556306, 15.0231437971787, 15.306420970181561, 15.789458502475691, 15.258861716213742, 15.464837238332404, 15.710809143167547, 23.315385560788194, 27.473994060790712, 35.03934037677647, 43.13148444869769, 58.52146033067496, 26.494936259056963, 44.240644935796375, 28.365681933928332, 31.915534353707425, 33.249371214278604, 18.07584460907629, 29.943924203397536, 41.63983372836092, 19.167289000964953, 22.695577521940685, 46.2960161236465, 23.58598079271164, 55.77181384116629, 37.57738529066537, 61.543552190773376, 49.312138116440515, 106.76430621728787, 34.75470873365401, 18.2589422890256, 33.14739355362096, 35.548494316752084, 26.322519626388587, 39.91841280418883, 11.765929619346227, 12.880863173754365, 12.90498206844313, 13.020689588339511, 13.372955629009809, 13.503642685017645, 13.51210276262262, 13.565588420509261, 13.58044499586876, 13.755748026384307, 13.768528986304045, 13.805389157477206, 13.969446512675324, 13.973014763930363, 14.061253366858198, 14.072026040776121, 14.15835460365345, 14.235087923249072, 14.319520093075718, 14.331000090724105, 14.38885428336773, 14.445959087129237, 14.498816392243588, 14.533209908534834, 14.658620548992179, 14.677891322320239, 14.745052934263274, 14.815646771960516, 14.867512801210923, 14.98117330556306, 15.0231437971787, 15.04305710687738, 15.306420970181561, 15.710809143167547, 21.885604768035254, 15.177622050073444, 16.806825899101245, 15.506600202334816, 21.2360923382466, 29.977058198633106, 43.13148444869769, 106.76430621728787, 85.42150253274241, 71.08581497125718, 22.928844422269155, 23.734366741299866, 30.032720607938558, 26.403350973917252, 29.59242558847338, 29.943924203397536, 29.36940058079407, 58.52146033067496, 43.64963913667431, 54.25530845100076, 19.917670646054567, 39.34589278533462, 23.58598079271164, 28.639709116668755, 27.029928091768078, 18.07584460907629, 37.4075749763488, 78.88989408890201, 78.04788288426674], \"loglift\": [30.0, 29.0, 28.0, 27.0, 26.0, 25.0, 24.0, 23.0, 22.0, 21.0, 20.0, 19.0, 18.0, 17.0, 16.0, 15.0, 14.0, 13.0, 12.0, 11.0, 10.0, 9.0, 8.0, 7.0, 6.0, 5.0, 4.0, 3.0, 2.0, 1.0, 1.0416, 1.0337, 1.0318, 1.0309, 1.0282, 1.0129, 1.0082, 1.0061, 1.0054, 0.9907, 0.9815, 0.9811, 0.9772, 0.9625, 0.9615, 0.9586, 0.9477, 0.944, 0.9379, 0.9354, 0.9304, 0.9149, 0.903, 0.8512, 0.8501, 0.8249, 0.8033, 0.7805, 0.7652, 0.7487, 0.7469, 0.7408, 0.739, 0.642, 0.2029, 0.3227, 0.6884, 0.6404, 0.2435, 0.4201, 0.4562, 0.6659, 1.0562, 1.0525, 1.0356, 1.0331, 1.0232, 1.0114, 0.9889, 0.9869, 0.978, 0.9724, 0.9704, 0.9693, 0.9677, 0.9607, 0.9598, 0.9539, 0.9427, 0.9362, 0.9314, 0.917, 0.9143, 0.909, 0.9028, 0.8676, 0.8611, 0.8597, 0.8182, 0.8168, 0.8141, 0.7876, 0.7617, 0.7788, 0.4647, 0.4954, 0.6125, 0.159, 0.4504, 0.3805, 0.3986, 0.4147, 0.3907, 0.4133, 0.441, 0.4079, 1.214, 1.2104, 1.1918, 1.172, 1.1485, 1.1341, 1.111, 1.0922, 1.0915, 1.0884, 1.0571, 1.0095, 0.982, 0.9721, 0.9686, 0.9412, 0.929, 0.9245, 0.9241, 0.9186, 0.9129, 0.9118, 0.9079, 0.8908, 0.885, 0.8844, 0.882, 0.88, 0.8702, 0.8518, 0.7781, 0.8065, 0.8287, 0.5796, 0.5312, 0.292, 0.6021, 0.6469, 0.7457, -0.3646, -0.0304, 0.1772, 0.1346, 0.8187, 0.7271, 0.7258, 0.7172, 0.6896, 0.6795, 0.679, 0.6749, 0.6742, 0.6613, 0.6611, 0.6575, 0.6461, 0.6458, 0.6397, 0.6381, 0.6326, 0.6272, 0.6211, 0.6208, 0.6167, 0.6137, 0.6093, 0.6064, 0.5979, 0.5964, 0.5926, 0.5877, 0.5832, 0.5759, 0.5744, 0.5568, 0.5257, 0.5586, 0.5455, 0.5296, 0.1387, -0.0247, -0.2702, -0.4782, -0.7835, 0.0085, -0.5043, -0.0599, -0.1778, -0.2188, 0.3906, -0.1143, -0.4441, 0.3317, 0.1627, -0.5502, 0.1241, -0.7365, -0.3417, -0.835, -0.6135, -1.386, -0.2637, 0.3799, -0.2165, -0.2865, 0.014, -0.4024, 0.819, 0.7274, 0.7258, 0.7166, 0.6895, 0.6794, 0.6791, 0.6754, 0.674, 0.6616, 0.661, 0.6574, 0.6463, 0.6459, 0.6398, 0.638, 0.6327, 0.6271, 0.6211, 0.6204, 0.6169, 0.6129, 0.6086, 0.6065, 0.5974, 0.5965, 0.5947, 0.5868, 0.5836, 0.5761, 0.5743, 0.5729, 0.5563, 0.5299, 0.2014, 0.5636, 0.4626, 0.5423, 0.2307, -0.1146, -0.4786, -1.3851, -1.1621, -0.9787, 0.1528, 0.1181, -0.1173, 0.0115, -0.1026, -0.1146, -0.0952, -0.7848, -0.4916, -0.7091, 0.293, -0.3878, 0.1239, -0.0703, -0.0125, 0.3898, -0.3376, -1.0838, -1.0731], \"logprob\": [30.0, 29.0, 28.0, 27.0, 26.0, 25.0, 24.0, 23.0, 22.0, 21.0, 20.0, 19.0, 18.0, 17.0, 16.0, 15.0, 14.0, 13.0, 12.0, 11.0, 10.0, 9.0, 8.0, 7.0, 6.0, 5.0, 4.0, 3.0, 2.0, 1.0, -4.8391, -4.8097, -4.9985, -5.0035, -5.0497, -5.0392, -5.1974, -5.1224, -5.0528, -5.4749, -4.9152, -5.4298, -4.9131, -5.3878, -5.5324, -4.577, -5.1897, -5.3432, -5.0785, -4.8525, -4.6942, -5.4306, -4.4419, -4.5433, -5.0999, -4.4696, -5.2194, -4.8624, -5.4296, -5.7278, -5.3222, -5.1725, -5.1302, -4.9755, -4.5407, -4.7235, -5.1776, -5.1464, -4.9101, -5.1121, -5.1231, -5.1814, -4.6581, -4.4394, -4.8872, -4.7088, -4.0338, -5.3644, -5.0037, -5.4312, -4.1724, -5.3967, -5.0435, -5.3199, -5.0918, -5.1604, -4.0404, -5.3376, -4.024, -4.7505, -5.6649, -5.2817, -4.8993, -4.4997, -5.4144, -5.3944, -4.9578, -5.2137, -4.9604, -5.049, -5.3033, -5.3471, -4.9041, -5.3018, -4.7144, -4.8957, -5.0705, -4.5846, -4.9803, -5.0115, -5.041, -5.079, -5.0775, -5.1032, -5.1345, -5.1323, -4.3021, -4.7548, -4.5844, -5.224, -4.5016, -5.5673, -5.0942, -4.7912, -5.344, -4.8965, -4.228, -5.0173, -5.5652, -5.0824, -5.3984, -5.324, -5.4052, -5.6457, -5.0844, -5.6292, -5.6533, -5.6213, -5.4023, -5.25, -5.3726, -5.2145, -5.8414, -4.9444, -4.8573, -5.0107, -4.7336, -5.1963, -5.2999, -4.8135, -4.9573, -4.7542, -5.2418, -5.2731, -5.354, -5.1083, -5.184, -5.2828, -5.286, -6.1304, -6.1315, -6.1309, -6.1306, -6.1315, -6.1318, -6.1317, -6.1318, -6.1315, -6.1306, -6.1318, -6.1317, -6.1313, -6.1314, -6.1312, -6.132, -6.1314, -6.1314, -6.1315, -6.131, -6.1311, -6.1302, -6.1309, -6.1315, -6.1313, -6.1315, -6.1308, -6.1309, -6.1319, -6.1316, -6.1303, -6.1292, -6.1292, -6.1305, -6.1302, -6.1303, -6.1265, -6.1257, -6.128, -6.1282, -6.1284, -6.1289, -6.129, -6.129, -6.129, -6.1291, -6.1291, -6.1292, -6.1293, -6.1294, -6.1294, -6.1295, -6.1295, -6.1295, -6.1296, -6.1296, -6.1296, -6.1297, -6.1297, -6.1297, -6.1298, -6.1299, -6.1299, -6.1299, -6.1301, -6.1311, -6.1309, -6.1312, -6.1316, -6.1319, -6.1317, -6.1314, -6.1316, -6.1312, -6.1309, -6.1318, -6.1311, -6.1312, -6.1311, -6.1321, -6.1313, -6.1315, -6.1316, -6.1315, -6.131, -6.131, -6.1317, -6.1314, -6.1319, -6.1315, -6.1287, -6.1318, -6.1315, -6.1314, -6.1304, -6.1305, -6.1297, -6.13, -6.1271, -6.1309, -6.1299, -6.1307, -6.1279, -6.1285, -6.1286, -6.1288, -6.1288, -6.1291, -6.1291, -6.1292, -6.1293, -6.1293, -6.1294, -6.1295, -6.1296, -6.1297, -6.1297, -6.1297, -6.1297, -6.1297, -6.1298, -6.1298, -6.1299, -6.1299, -6.1301, -6.1301, -6.1301]}, \"token.table\": {\"Topic\": [1, 2, 3, 4, 5, 1, 3, 4, 5, 1, 2, 3, 4, 5, 1, 2, 3, 4, 5, 1, 2, 3, 4, 5, 1, 3, 4, 5, 1, 2, 3, 4, 5, 1, 2, 3, 4, 5, 1, 2, 3, 4, 5, 1, 2, 3, 4, 5, 2, 3, 4, 5, 1, 2, 3, 4, 5, 1, 2, 3, 4, 5, 1, 2, 3, 4, 5, 1, 2, 3, 4, 5, 1, 2, 3, 4, 5, 1, 2, 3, 4, 5, 1, 2, 3, 4, 5, 1, 2, 3, 4, 5, 2, 3, 4, 5, 1, 2, 3, 4, 5, 1, 2, 3, 4, 5, 2, 4, 5, 1, 2, 3, 4, 5, 1, 2, 3, 4, 5, 1, 2, 3, 4, 5, 1, 2, 3, 4, 5, 1, 2, 3, 4, 5, 2, 3, 4, 5, 2, 3, 4, 5, 1, 2, 3, 4, 5, 1, 2, 3, 4, 5, 1, 2, 3, 4, 5, 1, 4, 5, 3, 4, 5, 1, 3, 4, 5, 1, 2, 3, 4, 5, 1, 2, 3, 4, 5, 1, 2, 3, 4, 5, 1, 3, 4, 5, 1, 2, 3, 4, 5, 1, 2, 3, 4, 5, 1, 2, 3, 4, 5, 1, 3, 4, 5, 1, 2, 3, 4, 5, 1, 2, 3, 4, 5, 1, 2, 3, 4, 5, 1, 2, 3, 4, 5, 1, 2, 3, 4, 5, 1, 2, 3, 4, 5, 1, 4, 5, 1, 2, 3, 4, 5, 1, 2, 3, 4, 5, 1, 3, 4, 5, 1, 3, 4, 5, 1, 2, 3, 4, 5, 1, 2, 3, 4, 5, 1, 2, 3, 4, 5, 1, 2, 3, 4, 5, 1, 2, 3, 4, 5, 1, 2, 4, 5, 1, 2, 3, 4, 5, 1, 3, 4, 5, 1, 3, 4, 5, 1, 2, 3, 4, 5, 1, 2, 3, 4, 5, 1, 2, 3, 4, 5, 1, 2, 3, 4, 5, 3, 4, 5, 1, 2, 3, 4, 5, 1, 2, 3, 4, 5, 1, 2, 3, 4, 5, 1, 2, 3, 4, 5, 1, 3, 4, 5, 1, 2, 3, 4, 5, 1, 2, 3, 4, 5, 1, 3, 4, 5, 1, 2, 3, 4, 5, 1, 2, 3, 4, 5, 1, 2, 3, 4, 5, 1, 2, 3, 4, 5, 2, 3, 4, 5, 1, 3, 4, 5, 1, 2, 3, 4, 5, 1, 2, 3, 4, 5, 1, 3, 4, 5, 1, 2, 3, 4, 5, 1, 2, 3, 4, 5, 1, 3, 4, 5, 1, 2, 3, 4, 5, 1, 2, 3, 4, 5, 1, 2, 3, 4, 5, 1, 2, 4, 5, 1, 2, 3, 4, 5, 1, 3, 4, 5, 2, 3, 4, 5, 1, 2, 3, 4, 5, 1, 2, 3, 4, 5, 1, 3, 4, 5, 1, 2, 3, 4, 5, 1, 4, 5, 1, 2, 3, 4, 5, 1, 2, 4, 5, 1, 2, 3, 4, 5, 1, 2, 3, 4, 5, 1, 2, 3, 4, 5, 1, 2, 3, 4, 5, 1, 2, 3, 4, 5, 1, 2, 3, 4, 5, 1, 2, 3, 4, 5, 1, 2, 3, 4, 5, 1, 4, 5, 1, 2, 3, 4, 5, 1, 2, 3, 4, 5, 1, 2, 3, 4, 5, 1, 2, 3, 4, 5, 1, 2, 3, 4, 5, 1, 2, 4, 5, 1, 3, 4, 5, 1, 3, 4, 5, 1, 2, 3, 4, 5, 1, 2, 3, 4, 5, 1, 2, 3, 4, 5, 1, 2, 3, 4, 5, 1, 3, 4, 5, 1, 3, 4, 5, 1, 2, 3, 4, 5, 1, 3, 4, 5, 1, 2, 3, 4, 5, 1, 2, 3, 4, 5, 1, 2, 3, 4, 5, 1, 2, 3, 4, 5, 1, 2, 3, 4, 5, 1, 2, 3, 4, 5, 1, 2, 3, 4, 5, 1, 3, 4, 5, 1, 2, 3, 4, 5, 1, 2, 3, 4, 5, 1, 2, 3, 4, 5, 1, 2, 3, 4, 5, 1, 2, 3, 4, 5, 2, 3, 4, 5, 1, 2, 4, 5, 1, 2, 3, 4, 5, 1, 2, 3, 4, 5, 1, 2, 3, 4, 5, 1, 2, 3, 4, 5, 1, 2, 3, 4, 5, 1, 2, 3, 4, 5, 1, 2, 3, 4, 5, 1, 2, 3, 4, 5, 1, 2, 3, 4, 5, 1, 2, 3, 4, 5, 1, 4, 5, 1, 4, 5, 1, 2, 3, 4, 5, 1, 2, 3, 4, 5, 1, 2, 4, 5, 1, 2, 3, 4, 5, 1, 2, 3, 4, 5, 1, 2, 3, 4, 5, 1, 2, 3, 4, 5, 1, 3, 4, 5, 1, 2, 3, 4, 5, 1, 3, 4, 5, 1, 2, 3, 4, 5, 1, 2, 3, 4, 5, 1, 2, 3, 4, 5, 3, 4, 5, 1, 2, 3, 4, 5, 1, 2, 3, 4, 5, 1, 2, 3, 4, 5, 1, 4, 5, 2, 3, 4, 5, 1, 2, 4, 5, 1, 2, 3, 4, 5, 1, 2, 3, 4, 5, 1, 2, 3, 4, 5, 1, 2, 3, 4, 5, 1, 2, 3, 4, 5, 1, 2, 3, 4, 5, 1, 2, 3, 4, 5, 1, 2, 3, 4, 5, 1, 2, 3, 4, 5], \"Freq\": [0.1384470209237903, 0.20767053138568545, 0.5537880836951612, 0.06922351046189515, 0.06922351046189515, 0.6887157334358196, 0.21191253336486757, 0.05297813334121689, 0.05297813334121689, 0.11213458400411967, 0.11213458400411967, 0.672807504024718, 0.056067292002059836, 0.056067292002059836, 0.3932141277369679, 0.13107137591232265, 0.32767843978080663, 0.06553568795616133, 0.06553568795616133, 0.09417928534799044, 0.3767171413919618, 0.42380678406595695, 0.04708964267399522, 0.04708964267399522, 0.9066020752753676, 0.03486931058751414, 0.03486931058751414, 0.03486931058751414, 0.5728540088537705, 0.12730089085639343, 0.19095133628459016, 0.06365044542819671, 0.06365044542819671, 0.1707025756131541, 0.05690085853771804, 0.6828103024526164, 0.05690085853771804, 0.05690085853771804, 0.6210763899969487, 0.07763454874961859, 0.23290364624885573, 0.07763454874961859, 0.07763454874961859, 0.23246835866095264, 0.15497890577396842, 0.4649367173219053, 0.07748945288698421, 0.07748945288698421, 0.9303013388104052, 0.019793645506604365, 0.019793645506604365, 0.019793645506604365, 0.03335884373222447, 0.8673299370378361, 0.03335884373222447, 0.03335884373222447, 0.03335884373222447, 0.13458775791704244, 0.08972517194469497, 0.6729387895852122, 0.044862585972347484, 0.044862585972347484, 0.13295169896587314, 0.6647584948293657, 0.06647584948293657, 0.06647584948293657, 0.06647584948293657, 0.12867040058927434, 0.08578026705951623, 0.729132270005888, 0.042890133529758116, 0.042890133529758116, 0.6938705440834736, 0.03016828452536842, 0.21117799167757892, 0.03016828452536842, 0.03016828452536842, 0.7823493635374351, 0.06258794908299481, 0.09388192362449221, 0.031293974541497405, 0.031293974541497405, 0.14528019625683622, 0.10896014719262717, 0.690080932219972, 0.036320049064209055, 0.036320049064209055, 0.45692134651930544, 0.13707640395579163, 0.3198449425635138, 0.04569213465193055, 0.04569213465193055, 0.8132249369190754, 0.09035832632434171, 0.045179163162170854, 0.045179163162170854, 0.16588743645466403, 0.09953246187279842, 0.696727233109589, 0.033177487290932804, 0.033177487290932804, 0.21188902834979667, 0.07062967611659889, 0.5650374089327911, 0.07062967611659889, 0.07062967611659889, 0.9102531357115293, 0.047908059774291016, 0.047908059774291016, 0.03764409071885801, 0.7152377236583022, 0.15057636287543205, 0.03764409071885801, 0.03764409071885801, 0.23307911698648068, 0.1997821002741263, 0.4994552506853157, 0.03329701671235438, 0.03329701671235438, 0.6254841297825374, 0.06949823664250415, 0.20849470992751246, 0.06949823664250415, 0.06949823664250415, 0.1091941707988292, 0.3639805693294307, 0.47317474012825983, 0.03639805693294307, 0.03639805693294307, 0.10020438486923659, 0.20040876973847319, 0.676379597867347, 0.025051096217309148, 0.025051096217309148, 0.7685951839564669, 0.16469896799067146, 0.027449827998445246, 0.027449827998445246, 0.8366589540857751, 0.08806936358797632, 0.04403468179398816, 0.04403468179398816, 0.2328576969371397, 0.4836275244079056, 0.268681958004392, 0.01791213053362613, 0.01791213053362613, 0.13563871278838027, 0.06781935639419014, 0.6781935639419013, 0.06781935639419014, 0.06781935639419014, 0.7636868254583175, 0.032497311721630534, 0.17873521446896792, 0.016248655860815267, 0.016248655860815267, 0.9193241763897788, 0.034049043569991805, 0.034049043569991805, 0.8799197533595209, 0.0488844307421956, 0.0488844307421956, 0.8977921946054908, 0.03740800810856212, 0.03740800810856212, 0.03740800810856212, 0.6564050507995305, 0.05707870006952439, 0.25685415031285974, 0.028539350034762195, 0.028539350034762195, 0.3156249671411787, 0.177539044016913, 0.473437450711768, 0.01972656044632367, 0.01972656044632367, 0.0347426453589758, 0.1389705814359032, 0.7295955525384918, 0.0347426453589758, 0.0347426453589758, 0.8626378887930961, 0.05391486804956851, 0.05391486804956851, 0.05391486804956851, 0.4511363509201763, 0.12030302691204701, 0.3909848374641528, 0.030075756728011754, 0.030075756728011754, 0.31666697114508585, 0.12666678845803434, 0.44333375960312016, 0.06333339422901717, 0.06333339422901717, 0.2608610951579162, 0.2608610951579162, 0.417377752252666, 0.05217221903158325, 0.05217221903158325, 0.8872715058741815, 0.046698500309167446, 0.046698500309167446, 0.046698500309167446, 0.2061872716019369, 0.48110363373785275, 0.27491636213591586, 0.022909696844659655, 0.022909696844659655, 0.12148375721706257, 0.30370939304265643, 0.5466769074767817, 0.030370939304265644, 0.030370939304265644, 0.3406483867608862, 0.1362593547043545, 0.40877806411306344, 0.06812967735217725, 0.06812967735217725, 0.05020667415233553, 0.25103337076167764, 0.652686763980362, 0.05020667415233553, 0.05020667415233553, 0.21809064794192431, 0.3634844132365405, 0.3634844132365405, 0.0726968826473081, 0.0726968826473081, 0.5803980164939622, 0.06448866849932913, 0.25795467399731653, 0.06448866849932913, 0.06448866849932913, 0.8909165241042597, 0.0524068543590741, 0.0524068543590741, 0.7050773553262578, 0.21152320659787735, 0.035253867766312896, 0.035253867766312896, 0.035253867766312896, 0.23799853845180263, 0.5949963461295066, 0.11899926922590132, 0.05949963461295066, 0.05949963461295066, 0.6927641586141842, 0.2597865594803191, 0.02886517327559101, 0.02886517327559101, 0.02027898278591581, 0.9328332081521272, 0.02027898278591581, 0.02027898278591581, 0.03699602886862834, 0.7399205773725669, 0.14798411547451337, 0.03699602886862834, 0.03699602886862834, 0.1738629589600243, 0.05795431965334143, 0.6954518358400972, 0.05795431965334143, 0.05795431965334143, 0.509946956518799, 0.08499115941979983, 0.3399646376791993, 0.08499115941979983, 0.08499115941979983, 0.661780830225414, 0.201411557025126, 0.086319238725054, 0.028773079575018002, 0.028773079575018002, 0.08026058020694708, 0.8026058020694709, 0.04013029010347354, 0.04013029010347354, 0.04013029010347354, 0.06406323676215853, 0.909697962022651, 0.012812647352431705, 0.012812647352431705, 0.08191297208948321, 0.819129720894832, 0.05460864805965547, 0.027304324029827735, 0.027304324029827735, 0.19599617741105516, 0.6533205913701838, 0.06533205913701838, 0.06533205913701838, 0.6168602665636361, 0.2643686856701298, 0.0440614476116883, 0.0440614476116883, 0.8202119312945447, 0.01708774856863635, 0.1367019885490908, 0.01708774856863635, 0.01708774856863635, 0.4612053177306604, 0.19765942188456875, 0.26354589584609167, 0.06588647396152292, 0.06588647396152292, 0.10894405885493447, 0.8594475754111497, 0.012104895428326053, 0.012104895428326053, 0.012104895428326053, 0.14245791982655306, 0.047485973275517686, 0.7122895991327652, 0.047485973275517686, 0.047485973275517686, 0.8624982616940624, 0.06634602013031249, 0.06634602013031249, 0.167726682428023, 0.5990238658143678, 0.19168763706059772, 0.023960954632574714, 0.023960954632574714, 0.6322405627928012, 0.1404979028428447, 0.1404979028428447, 0.07024895142142235, 0.07024895142142235, 0.19685868372193233, 0.5368873192416337, 0.23265117167137458, 0.017896243974721122, 0.017896243974721122, 0.037131580060019126, 0.8540263413804399, 0.037131580060019126, 0.037131580060019126, 0.037131580060019126, 0.1609476447078453, 0.8047382235392265, 0.01609476447078453, 0.01609476447078453, 0.10698136338925335, 0.7132090892616889, 0.1426418178523378, 0.03566045446308445, 0.03566045446308445, 0.7195596203156492, 0.11992660338594154, 0.07995106892396103, 0.039975534461980516, 0.039975534461980516, 0.8901360729859275, 0.0593424048657285, 0.02967120243286425, 0.02967120243286425, 0.17261592259307335, 0.7480023312366512, 0.02876932043217889, 0.02876932043217889, 0.02876932043217889, 0.1474318649514887, 0.2948637299029774, 0.442295594854466, 0.07371593247574434, 0.07371593247574434, 0.2899413194576458, 0.48323553242940964, 0.19329421297176386, 0.019329421297176384, 0.019329421297176384, 0.27933897044037265, 0.27933897044037265, 0.3491737130504658, 0.06983474261009316, 0.06983474261009316, 0.9136913485988768, 0.030456378286629227, 0.030456378286629227, 0.030456378286629227, 0.8330346059249225, 0.08768785325525501, 0.043843926627627504, 0.043843926627627504, 0.27911520303380943, 0.13955760151690472, 0.4884516053091665, 0.06977880075845236, 0.06977880075845236, 0.20069941690582005, 0.08601403581678002, 0.6594409412619802, 0.028671345272260007, 0.028671345272260007, 0.026300883841507246, 0.9205309344527536, 0.026300883841507246, 0.026300883841507246, 0.4978219094251381, 0.07111741563216259, 0.3555870781608129, 0.07111741563216259, 0.07111741563216259, 0.26700178406684966, 0.4672531221169869, 0.13350089203342483, 0.06675044601671241, 0.06675044601671241, 0.11711507603203623, 0.8198055322242537, 0.02927876900800906, 0.02927876900800906, 0.0675848620120895, 0.10137729301813427, 0.7772259131390293, 0.03379243100604475, 0.03379243100604475, 0.21282908785302562, 0.042565817570605124, 0.681053081129682, 0.042565817570605124, 0.042565817570605124, 0.3072033914073293, 0.07680084785183232, 0.46080508711099394, 0.07680084785183232, 0.07680084785183232, 0.05972650713974248, 0.8361710999563947, 0.05972650713974248, 0.05972650713974248, 0.5180540825491281, 0.2960309043137875, 0.07400772607844687, 0.07400772607844687, 0.07400772607844687, 0.8684674149701069, 0.10338897797263177, 0.020677795594526354, 0.020677795594526354, 0.9149620824824254, 0.025415613402289594, 0.025415613402289594, 0.025415613402289594, 0.2905176002446533, 0.07262940006116332, 0.5084058004281433, 0.07262940006116332, 0.07262940006116332, 0.14538428637476042, 0.21807642956214063, 0.5815371454990417, 0.036346071593690105, 0.036346071593690105, 0.08078964072081411, 0.8482912275685482, 0.040394820360407056, 0.040394820360407056, 0.10621650071023889, 0.7789210052084186, 0.07081100047349259, 0.035405500236746296, 0.035405500236746296, 0.9343757781883127, 0.029199243068384773, 0.029199243068384773, 0.515190052848605, 0.28850642959521877, 0.1854684190254978, 0.0206076021139442, 0.0206076021139442, 0.4518786135610661, 0.516432701212647, 0.021518029217193625, 0.021518029217193625, 0.33621652025148674, 0.24015465732249053, 0.38424745171598484, 0.024015465732249053, 0.024015465732249053, 0.8361229167722927, 0.06688983334178342, 0.03344491667089171, 0.03344491667089171, 0.03344491667089171, 0.8680904069787199, 0.03774306117298782, 0.03774306117298782, 0.03774306117298782, 0.03774306117298782, 0.42338405143255353, 0.28225603428836904, 0.26814323257395056, 0.014112801714418453, 0.014112801714418453, 0.3371141795659197, 0.49575614642047017, 0.13881172099773165, 0.019830245856818807, 0.019830245856818807, 0.07909251953545259, 0.7381968489975574, 0.13182086589242095, 0.026364173178484194, 0.026364173178484194, 0.21386042813676256, 0.5881161773760971, 0.16039532110257193, 0.02673255351709532, 0.02673255351709532, 0.046369839238407845, 0.046369839238407845, 0.881026945529749, 0.023184919619203923, 0.023184919619203923, 0.8931798848204594, 0.049621104712247746, 0.049621104712247746, 0.45633221359672693, 0.15211073786557566, 0.3676009498418078, 0.012675894822131304, 0.012675894822131304, 0.4724734672567864, 0.20248862882433702, 0.20248862882433702, 0.06749620960811234, 0.06749620960811234, 0.8844855452862028, 0.029482851509540095, 0.05896570301908019, 0.029482851509540095, 0.029482851509540095, 0.24227995990602053, 0.12113997995301026, 0.6056998997650513, 0.020189996658835044, 0.020189996658835044, 0.05627001676237881, 0.8721852598168716, 0.04220251257178411, 0.014067504190594703, 0.014067504190594703, 0.14571048267359765, 0.8196214650389868, 0.018213810334199707, 0.018213810334199707, 0.22977279511444715, 0.6893183853433414, 0.045954559022889425, 0.045954559022889425, 0.0508551669305617, 0.8136826708889872, 0.0508551669305617, 0.0508551669305617, 0.50109358260175, 0.28633919005814285, 0.07158479751453571, 0.07158479751453571, 0.07158479751453571, 0.3553148626581303, 0.2842518901265042, 0.21318891759487815, 0.07106297253162605, 0.07106297253162605, 0.3621774035462032, 0.14487096141848127, 0.3621774035462032, 0.07243548070924063, 0.07243548070924063, 0.8515760144692438, 0.02661175045216387, 0.07983525135649161, 0.02661175045216387, 0.02661175045216387, 0.8365552126266254, 0.09295057918073614, 0.04647528959036807, 0.04647528959036807, 0.90114973203586, 0.034659605078302305, 0.034659605078302305, 0.034659605078302305, 0.610584630527773, 0.21806593947420463, 0.1308395636845228, 0.04361318789484093, 0.04361318789484093, 0.1705891559523713, 0.739219675793609, 0.056863051984123766, 0.056863051984123766, 0.16559931848050966, 0.1379994320670914, 0.6623972739220386, 0.027599886413418276, 0.027599886413418276, 0.41382688335923834, 0.3448557361326986, 0.13794229445307943, 0.06897114722653971, 0.06897114722653971, 0.04275320577139921, 0.7695577038851857, 0.12825961731419763, 0.04275320577139921, 0.04275320577139921, 0.7404395079416348, 0.03365634127007431, 0.16828170635037154, 0.03365634127007431, 0.03365634127007431, 0.22433335481141747, 0.29911113974855663, 0.29911113974855663, 0.07477778493713916, 0.07477778493713916, 0.3993837828488856, 0.0665639638081476, 0.4659477466570332, 0.0665639638081476, 0.0665639638081476, 0.5184031372354214, 0.10800065359071279, 0.3456020914902809, 0.021600130718142558, 0.021600130718142558, 0.6085469441619702, 0.2766122473463501, 0.055322449469270014, 0.055322449469270014, 0.1125796339950855, 0.30959399348648514, 0.5066083529778848, 0.028144908498771375, 0.028144908498771375, 0.7135991063720597, 0.06905797803600577, 0.16113528208401348, 0.023019326012001923, 0.023019326012001923, 0.32331410430926444, 0.19398846258555869, 0.38797692517111737, 0.06466282086185289, 0.06466282086185289, 0.13196712234272454, 0.19795068351408682, 0.6268438311279416, 0.032991780585681134, 0.032991780585681134, 0.7721412368067662, 0.16161095654095106, 0.035913545897989126, 0.017956772948994563, 0.017956772948994563, 0.8995940657993118, 0.04997744809996177, 0.04997744809996177, 0.04997744809996177, 0.06530893917551231, 0.8816706788694162, 0.032654469587756155, 0.032654469587756155, 0.18843701066270352, 0.7066387899851382, 0.07066387899851383, 0.02355462633283794, 0.02355462633283794, 0.27383842507707645, 0.21907074006166116, 0.4381414801233223, 0.05476768501541529, 0.05476768501541529, 0.6379414414137597, 0.2658089339223999, 0.053161786784479984, 0.026580893392239992, 0.026580893392239992, 0.28626606838815577, 0.14313303419407788, 0.4293991025822337, 0.07156651709703894, 0.07156651709703894, 0.6283470415524353, 0.044881931539459664, 0.2917325550064878, 0.022440965769729832, 0.022440965769729832, 0.2700395793491527, 0.49853460802920496, 0.20772275334550205, 0.020772275334550207, 0.020772275334550207, 0.8363350049190228, 0.02260364878159521, 0.09041459512638084, 0.02260364878159521, 0.02260364878159521, 0.34109621592897865, 0.34109621592897865, 0.2046577295573872, 0.06821924318579574, 0.06821924318579574, 0.4816554666212555, 0.2064237714091095, 0.2064237714091095, 0.0688079238030365, 0.0688079238030365, 0.25279798131540104, 0.5898619564026025, 0.08426599377180036, 0.04213299688590018, 0.04213299688590018, 0.9293194050665771, 0.04040519152463379, 0.04040519152463379, 0.924736724933492, 0.03556679711282662, 0.03556679711282662, 0.18707108480682935, 0.11224265088409761, 0.6360416883432198, 0.03741421696136587, 0.03741421696136587, 0.11637015335874275, 0.11637015335874275, 0.6982209201524565, 0.058185076679371374, 0.058185076679371374, 0.024723732699765636, 0.9395018425910943, 0.024723732699765636, 0.024723732699765636, 0.2945411583506152, 0.5154470271135766, 0.1472705791753076, 0.0736352895876538, 0.0736352895876538, 0.22216227650399206, 0.37027046083998677, 0.2962163686719894, 0.07405409216799735, 0.07405409216799735, 0.5953213814135275, 0.031332704284922505, 0.313327042849225, 0.031332704284922505, 0.031332704284922505, 0.20480847563202212, 0.5213306652451472, 0.24204638029238978, 0.01861895233018383, 0.01861895233018383, 0.09722582488132835, 0.842623815638179, 0.03240860829377612, 0.03240860829377612, 0.07215173563778049, 0.8417702491074391, 0.07215173563778049, 0.02405057854592683, 0.02405057854592683, 0.9283093597707986, 0.02813058665972117, 0.02813058665972117, 0.02813058665972117, 0.17930204006775194, 0.3048134681151783, 0.5020457121897054, 0.017930204006775193, 0.017930204006775193, 0.2461139354258299, 0.5211824514899928, 0.2026820644683305, 0.014477290319166466, 0.014477290319166466, 0.034916555748744825, 0.8729138937186206, 0.06983311149748965, 0.034916555748744825, 0.034916555748744825, 0.9215255775721859, 0.0317767440542133, 0.0317767440542133, 0.2659319890099894, 0.4558834097314104, 0.2279417048657052, 0.0379902841442842, 0.0379902841442842, 0.20178223756132616, 0.3363037292688769, 0.4035644751226523, 0.06726074585377538, 0.06726074585377538, 0.6495259008469124, 0.11296102623424564, 0.19768179590992987, 0.02824025655856141, 0.02824025655856141, 0.91569564923551, 0.033914653675389254, 0.033914653675389254, 0.87862695686754, 0.043931347843376996, 0.043931347843376996, 0.043931347843376996, 0.6359710088729991, 0.29678647080739956, 0.04239806725819994, 0.04239806725819994, 0.03787398050299969, 0.22724388301799817, 0.6817316490539945, 0.03787398050299969, 0.03787398050299969, 0.2108977343725548, 0.4217954687451096, 0.32593286221213014, 0.01917252130659589, 0.01917252130659589, 0.20287113844517052, 0.4868907322684093, 0.2637324799787217, 0.020287113844517052, 0.020287113844517052, 0.023413308601465913, 0.8428791096527728, 0.11706654300732956, 0.011706654300732956, 0.011706654300732956, 0.047588223030806016, 0.8565880145545084, 0.047588223030806016, 0.047588223030806016, 0.047588223030806016, 0.06679151290975661, 0.5343321032780529, 0.33395756454878306, 0.03339575645487831, 0.03339575645487831, 0.33176477129894527, 0.31333339511567054, 0.31333339511567054, 0.01843137618327474, 0.01843137618327474, 0.30055659341995494, 0.48840446430742673, 0.18784787088747182, 0.018784787088747184, 0.018784787088747184, 0.4027563286224699, 0.38402347612840154, 0.19669495118771788, 0.009366426247034184, 0.009366426247034184], \"Term\": [\"accept\", \"accept\", \"accept\", \"accept\", \"accept\", \"access\", \"access\", \"access\", \"access\", \"accuse\", \"accuse\", \"accuse\", \"accuse\", \"accuse\", \"affect\", \"affect\", \"affect\", \"affect\", \"affect\", \"age\", \"age\", \"age\", \"age\", \"age\", \"analyst\", \"analyst\", \"analyst\", \"analyst\", \"annual\", \"annual\", \"annual\", \"annual\", \"annual\", \"argue\", \"argue\", \"argue\", \"argue\", \"argue\", \"average\", \"average\", \"average\", \"average\", \"average\", \"avoid\", \"avoid\", \"avoid\", \"avoid\", \"avoid\", \"award\", \"award\", \"award\", \"award\", \"beat\", \"beat\", \"beat\", \"beat\", \"beat\", \"bill\", \"bill\", \"bill\", \"bill\", \"bill\", \"bit\", \"bit\", \"bit\", \"bit\", \"bit\", \"budget\", \"budget\", \"budget\", \"budget\", \"budget\", \"business\", \"business\", \"business\", \"business\", \"business\", \"buy\", \"buy\", \"buy\", \"buy\", \"buy\", \"campaign\", \"campaign\", \"campaign\", \"campaign\", \"campaign\", \"card\", \"card\", \"card\", \"card\", \"card\", \"career\", \"career\", \"career\", \"career\", \"case\", \"case\", \"case\", \"case\", \"case\", \"chairman\", \"chairman\", \"chairman\", \"chairman\", \"chairman\", \"champion\", \"champion\", \"champion\", \"chance\", \"chance\", \"chance\", \"chance\", \"chance\", \"charge\", \"charge\", \"charge\", \"charge\", \"charge\", \"chief executive\", \"chief executive\", \"chief executive\", \"chief executive\", \"chief executive\", \"child\", \"child\", \"child\", \"child\", \"child\", \"claim\", \"claim\", \"claim\", \"claim\", \"claim\", \"club\", \"club\", \"club\", \"club\", \"coach\", \"coach\", \"coach\", \"coach\", \"come\", \"come\", \"come\", \"come\", \"come\", \"common\", \"common\", \"common\", \"common\", \"common\", \"company\", \"company\", \"company\", \"company\", \"company\", \"computer\", \"computer\", \"computer\", \"conservative\", \"conservative\", \"conservative\", \"consumer\", \"consumer\", \"consumer\", \"consumer\", \"cost\", \"cost\", \"cost\", \"cost\", \"cost\", \"country\", \"country\", \"country\", \"country\", \"country\", \"court\", \"court\", \"court\", \"court\", \"court\", \"customer\", \"customer\", \"customer\", \"customer\", \"cut\", \"cut\", \"cut\", \"cut\", \"cut\", \"damage\", \"damage\", \"damage\", \"damage\", \"damage\", \"date\", \"date\", \"date\", \"date\", \"date\", \"datum\", \"datum\", \"datum\", \"datum\", \"day\", \"day\", \"day\", \"day\", \"day\", \"decision\", \"decision\", \"decision\", \"decision\", \"decision\", \"deliver\", \"deliver\", \"deliver\", \"deliver\", \"deliver\", \"deny\", \"deny\", \"deny\", \"deny\", \"deny\", \"describe\", \"describe\", \"describe\", \"describe\", \"describe\", \"development\", \"development\", \"development\", \"development\", \"development\", \"digital\", \"digital\", \"digital\", \"dollar\", \"dollar\", \"dollar\", \"dollar\", \"dollar\", \"double\", \"double\", \"double\", \"double\", \"double\", \"economy\", \"economy\", \"economy\", \"economy\", \"election\", \"election\", \"election\", \"election\", \"event\", \"event\", \"event\", \"event\", \"event\", \"evidence\", \"evidence\", \"evidence\", \"evidence\", \"evidence\", \"exist\", \"exist\", \"exist\", \"exist\", \"exist\", \"fall\", \"fall\", \"fall\", \"fall\", \"fall\", \"fan\", \"fan\", \"fan\", \"fan\", \"fan\", \"film\", \"film\", \"film\", \"film\", \"final\", \"final\", \"final\", \"final\", \"final\", \"finance\", \"finance\", \"finance\", \"finance\", \"financial\", \"financial\", \"financial\", \"financial\", \"firm\", \"firm\", \"firm\", \"firm\", \"firm\", \"gain\", \"gain\", \"gain\", \"gain\", \"gain\", \"game\", \"game\", \"game\", \"game\", \"game\", \"general\", \"general\", \"general\", \"general\", \"general\", \"general election\", \"general election\", \"general election\", \"get\", \"get\", \"get\", \"get\", \"get\", \"giant\", \"giant\", \"giant\", \"giant\", \"giant\", \"go\", \"go\", \"go\", \"go\", \"go\", \"goal\", \"goal\", \"goal\", \"goal\", \"goal\", \"government\", \"government\", \"government\", \"government\", \"great\", \"great\", \"great\", \"great\", \"great\", \"grow\", \"grow\", \"grow\", \"grow\", \"grow\", \"growth\", \"growth\", \"growth\", \"growth\", \"half\", \"half\", \"half\", \"half\", \"half\", \"hear\", \"hear\", \"hear\", \"hear\", \"hear\", \"include\", \"include\", \"include\", \"include\", \"include\", \"individual\", \"individual\", \"individual\", \"individual\", \"individual\", \"injury\", \"injury\", \"injury\", \"injury\", \"internet\", \"internet\", \"internet\", \"internet\", \"introduce\", \"introduce\", \"introduce\", \"introduce\", \"introduce\", \"issue\", \"issue\", \"issue\", \"issue\", \"issue\", \"labour\", \"labour\", \"labour\", \"labour\", \"large\", \"large\", \"large\", \"large\", \"large\", \"late\", \"late\", \"late\", \"late\", \"late\", \"law\", \"law\", \"law\", \"law\", \"leader\", \"leader\", \"leader\", \"leader\", \"leader\", \"legal\", \"legal\", \"legal\", \"legal\", \"legal\", \"limit\", \"limit\", \"limit\", \"limit\", \"limit\", \"love\", \"love\", \"love\", \"love\", \"manage\", \"manage\", \"manage\", \"manage\", \"manage\", \"market\", \"market\", \"market\", \"market\", \"match\", \"match\", \"match\", \"match\", \"measure\", \"measure\", \"measure\", \"measure\", \"measure\", \"member\", \"member\", \"member\", \"member\", \"member\", \"minister\", \"minister\", \"minister\", \"minister\", \"minute\", \"minute\", \"minute\", \"minute\", \"minute\", \"mobile\", \"mobile\", \"mobile\", \"month\", \"month\", \"month\", \"month\", \"month\", \"music\", \"music\", \"music\", \"music\", \"need\", \"need\", \"need\", \"need\", \"need\", \"net\", \"net\", \"net\", \"net\", \"net\", \"network\", \"network\", \"network\", \"network\", \"network\", \"new\", \"new\", \"new\", \"new\", \"new\", \"number\", \"number\", \"number\", \"number\", \"number\", \"old\", \"old\", \"old\", \"old\", \"old\", \"open\", \"open\", \"open\", \"open\", \"open\", \"party\", \"party\", \"party\", \"party\", \"party\", \"pc\", \"pc\", \"pc\", \"people\", \"people\", \"people\", \"people\", \"people\", \"period\", \"period\", \"period\", \"period\", \"period\", \"phone\", \"phone\", \"phone\", \"phone\", \"phone\", \"plan\", \"plan\", \"plan\", \"plan\", \"plan\", \"play\", \"play\", \"play\", \"play\", \"play\", \"player\", \"player\", \"player\", \"player\", \"policy\", \"policy\", \"policy\", \"policy\", \"political\", \"political\", \"political\", \"political\", \"popular\", \"popular\", \"popular\", \"popular\", \"popular\", \"potential\", \"potential\", \"potential\", \"potential\", \"potential\", \"pre\", \"pre\", \"pre\", \"pre\", \"pre\", \"price\", \"price\", \"price\", \"price\", \"price\", \"product\", \"product\", \"product\", \"product\", \"profit\", \"profit\", \"profit\", \"profit\", \"project\", \"project\", \"project\", \"project\", \"project\", \"proposal\", \"proposal\", \"proposal\", \"proposal\", \"public\", \"public\", \"public\", \"public\", \"public\", \"push\", \"push\", \"push\", \"push\", \"push\", \"race\", \"race\", \"race\", \"race\", \"race\", \"rate\", \"rate\", \"rate\", \"rate\", \"rate\", \"reason\", \"reason\", \"reason\", \"reason\", \"reason\", \"reduce\", \"reduce\", \"reduce\", \"reduce\", \"reduce\", \"report\", \"report\", \"report\", \"report\", \"report\", \"research\", \"research\", \"research\", \"research\", \"right\", \"right\", \"right\", \"right\", \"right\", \"rise\", \"rise\", \"rise\", \"rise\", \"rise\", \"risk\", \"risk\", \"risk\", \"risk\", \"risk\", \"rule\", \"rule\", \"rule\", \"rule\", \"rule\", \"sale\", \"sale\", \"sale\", \"sale\", \"sale\", \"score\", \"score\", \"score\", \"score\", \"season\", \"season\", \"season\", \"season\", \"second\", \"second\", \"second\", \"second\", \"second\", \"seek\", \"seek\", \"seek\", \"seek\", \"seek\", \"sell\", \"sell\", \"sell\", \"sell\", \"sell\", \"senior\", \"senior\", \"senior\", \"senior\", \"senior\", \"service\", \"service\", \"service\", \"service\", \"service\", \"set\", \"set\", \"set\", \"set\", \"set\", \"share\", \"share\", \"share\", \"share\", \"share\", \"short\", \"short\", \"short\", \"short\", \"short\", \"similar\", \"similar\", \"similar\", \"similar\", \"similar\", \"single\", \"single\", \"single\", \"single\", \"single\", \"site\", \"site\", \"site\", \"software\", \"software\", \"software\", \"spokesman\", \"spokesman\", \"spokesman\", \"spokesman\", \"spokesman\", \"spokesman say\", \"spokesman say\", \"spokesman say\", \"spokesman say\", \"spokesman say\", \"star\", \"star\", \"star\", \"star\", \"struggle\", \"struggle\", \"struggle\", \"struggle\", \"struggle\", \"sure\", \"sure\", \"sure\", \"sure\", \"sure\", \"system\", \"system\", \"system\", \"system\", \"system\", \"take\", \"take\", \"take\", \"take\", \"take\", \"tax\", \"tax\", \"tax\", \"tax\", \"team\", \"team\", \"team\", \"team\", \"team\", \"technology\", \"technology\", \"technology\", \"technology\", \"tell\", \"tell\", \"tell\", \"tell\", \"tell\", \"time\", \"time\", \"time\", \"time\", \"time\", \"title\", \"title\", \"title\", \"title\", \"title\", \"tory\", \"tory\", \"tory\", \"turn\", \"turn\", \"turn\", \"turn\", \"turn\", \"understand\", \"understand\", \"understand\", \"understand\", \"understand\", \"use\", \"use\", \"use\", \"use\", \"use\", \"user\", \"user\", \"user\", \"victory\", \"victory\", \"victory\", \"victory\", \"video\", \"video\", \"video\", \"video\", \"vote\", \"vote\", \"vote\", \"vote\", \"vote\", \"want\", \"want\", \"want\", \"want\", \"want\", \"week\", \"week\", \"week\", \"week\", \"week\", \"win\", \"win\", \"win\", \"win\", \"win\", \"winner\", \"winner\", \"winner\", \"winner\", \"winner\", \"woman\", \"woman\", \"woman\", \"woman\", \"woman\", \"work\", \"work\", \"work\", \"work\", \"work\", \"world\", \"world\", \"world\", \"world\", \"world\", \"year\", \"year\", \"year\", \"year\", \"year\"]}, \"R\": 30, \"lambda.step\": 0.01, \"plot.opts\": {\"xlab\": \"PC1\", \"ylab\": \"PC2\"}, \"topic.order\": [3, 5, 4, 1, 2]};\n",
       "\n",
       "function LDAvis_load_lib(url, callback){\n",
       "  var s = document.createElement('script');\n",
       "  s.src = url;\n",
       "  s.async = true;\n",
       "  s.onreadystatechange = s.onload = callback;\n",
       "  s.onerror = function(){console.warn(\"failed to load library \" + url);};\n",
       "  document.getElementsByTagName(\"head\")[0].appendChild(s);\n",
       "}\n",
       "\n",
       "if(typeof(LDAvis) !== \"undefined\"){\n",
       "   // already loaded: just create the visualization\n",
       "   !function(LDAvis){\n",
       "       new LDAvis(\"#\" + \"ldavis_el3881401006627779208347083012\", ldavis_el3881401006627779208347083012_data);\n",
       "   }(LDAvis);\n",
       "}else if(typeof define === \"function\" && define.amd){\n",
       "   // require.js is available: use it to load d3/LDAvis\n",
       "   require.config({paths: {d3: \"https://cdnjs.cloudflare.com/ajax/libs/d3/3.5.5/d3.min\"}});\n",
       "   require([\"d3\"], function(d3){\n",
       "      window.d3 = d3;\n",
       "      LDAvis_load_lib(\"https://cdn.rawgit.com/bmabey/pyLDAvis/files/ldavis.v1.0.0.js\", function(){\n",
       "        new LDAvis(\"#\" + \"ldavis_el3881401006627779208347083012\", ldavis_el3881401006627779208347083012_data);\n",
       "      });\n",
       "    });\n",
       "}else{\n",
       "    // require.js not available: dynamically load d3 & LDAvis\n",
       "    LDAvis_load_lib(\"https://cdnjs.cloudflare.com/ajax/libs/d3/3.5.5/d3.min.js\", function(){\n",
       "         LDAvis_load_lib(\"https://cdn.rawgit.com/bmabey/pyLDAvis/files/ldavis.v1.0.0.js\", function(){\n",
       "                 new LDAvis(\"#\" + \"ldavis_el3881401006627779208347083012\", ldavis_el3881401006627779208347083012_data);\n",
       "            })\n",
       "         });\n",
       "}\n",
       "</script>"
      ],
      "text/plain": [
       "PreparedData(topic_coordinates=            x        y  topics  cluster   Freq\n",
       "topic                                         \n",
       "2     140.918 -131.135       1        1 33.218\n",
       "4     110.959  -29.697       2        1 32.745\n",
       "3      32.985 -149.124       3        1 27.919\n",
       "0      25.530   32.666       4        1  3.059\n",
       "1     -27.752  -62.907       5        1  3.059, topic_info=    Category   Freq        Term  Total  loglift  logprob\n",
       "151  Default 78.000        film 78.000   30.000   30.000\n",
       "127  Default 49.000    election 49.000   29.000   29.000\n",
       "166  Default 82.000        game 82.000   28.000   28.000\n",
       "452  Default 85.000         win 85.000   27.000   27.000\n",
       "176  Default 62.000  government 62.000   26.000   26.000\n",
       "..       ...    ...         ...    ...      ...      ...\n",
       "132   Topic5  0.817       event 27.030   -0.013   -6.130\n",
       "352   Topic5  0.817    research 18.076    0.390   -6.130\n",
       "287   Topic5  0.816        open 37.408   -0.338   -6.130\n",
       "295   Topic5  0.816      people 78.890   -1.084   -6.130\n",
       "151   Topic5  0.816        film 78.048   -1.073   -6.130\n",
       "\n",
       "[286 rows x 6 columns], token_table=      Topic  Freq    Term\n",
       "term                     \n",
       "1         1 0.138  accept\n",
       "1         2 0.208  accept\n",
       "1         3 0.554  accept\n",
       "1         4 0.069  accept\n",
       "1         5 0.069  accept\n",
       "...     ...   ...     ...\n",
       "458       1 0.403    year\n",
       "458       2 0.384    year\n",
       "458       3 0.197    year\n",
       "458       4 0.009    year\n",
       "458       5 0.009    year\n",
       "\n",
       "[859 rows x 3 columns], R=30, lambda_step=0.01, plot_opts={'xlab': 'PC1', 'ylab': 'PC2'}, topic_order=[3, 5, 4, 1, 2])"
      ]
     },
     "execution_count": 27,
     "metadata": {},
     "output_type": "execute_result"
    }
   ],
   "source": [
    "pyLDAvis.sklearn.prepare(lda, tfidf.dtm_sparse, tfidf.mapping, mds='tsne')"
   ]
  },
  {
   "cell_type": "markdown",
   "metadata": {},
   "source": [
    "## Non-Negative Matrix Factorization"
   ]
  },
  {
   "cell_type": "code",
   "execution_count": 37,
   "metadata": {},
   "outputs": [
    {
     "data": {
      "text/plain": [
       "NMF(alpha=0.0, beta_loss='frobenius', init=None, l1_ratio=0.0, max_iter=200,\n",
       "    n_components=5, random_state=None, shuffle=False, solver='cd', tol=0.0001,\n",
       "    verbose=0)"
      ]
     },
     "execution_count": 37,
     "metadata": {},
     "output_type": "execute_result"
    }
   ],
   "source": [
    "nmf = NMF(n_components=NUM_TOPICS)\n",
    "nmf"
   ]
  },
  {
   "cell_type": "code",
   "execution_count": 28,
   "metadata": {
    "deletable": false,
    "editable": false,
    "run_control": {
     "frozen": true
    }
   },
   "outputs": [
    {
     "name": "stdout",
     "output_type": "stream",
     "text": [
      "Non-Negative Matrix Factorization\n"
     ]
    }
   ],
   "source": [
    "print('Non-Negative Matrix Factorization')\n",
    "data_nmf = nmf.fit_transform(tfidf.representation)"
   ]
  },
  {
   "cell_type": "code",
   "execution_count": 29,
   "metadata": {
    "deletable": false,
    "editable": false,
    "run_control": {
     "frozen": true
    },
    "scrolled": true
   },
   "outputs": [
    {
     "name": "stdout",
     "output_type": "stream",
     "text": [
      "NMF Model:\n",
      "Topic 0:\n",
      "['sale', 'year', 'rise', 'company', 'market', 'growth', 'share', 'price']\n",
      "Topic 1:\n",
      "['game', 'win', 'play', 'player', 'match', 'team', 'final', 'injury']\n",
      "Topic 2:\n",
      "['film', 'award', 'star', 'win', 'movie', 'include', 'director', 'year']\n",
      "Topic 3:\n",
      "['election', 'party', 'labour', 'government', 'tory', 'plan', 'tax', 'leader']\n",
      "Topic 4:\n",
      "['people', 'mobile', 'phone', 'technology', 'user', 'music', 'service', 'computer']\n"
     ]
    }
   ],
   "source": [
    "# Keywords for topics clustered by Latent Semantic Indexing\n",
    "print(\"NMF Model:\")\n",
    "selected_topics(nmf, vectorizer, 8)"
   ]
  },
  {
   "cell_type": "markdown",
   "metadata": {
    "deletable": false,
    "editable": false,
    "run_control": {
     "frozen": true
    }
   },
   "source": [
    "**Save Model**"
   ]
  },
  {
   "cell_type": "code",
   "execution_count": 30,
   "metadata": {
    "deletable": false,
    "editable": false,
    "run_control": {
     "frozen": true
    }
   },
   "outputs": [],
   "source": [
    "with open(JP(paths['checkpoints'], 'NNMF.pkl'), 'wb') as obj:\n",
    "    pickle.dump(nmf,obj)"
   ]
  },
  {
   "cell_type": "markdown",
   "metadata": {},
   "source": [
    "**Load Model**"
   ]
  },
  {
   "cell_type": "code",
   "execution_count": 38,
   "metadata": {},
   "outputs": [
    {
     "data": {
      "text/plain": [
       "NMF(alpha=0.0, beta_loss='frobenius', init=None, l1_ratio=0.0, max_iter=200,\n",
       "    n_components=5, random_state=None, shuffle=False, solver='cd', tol=0.0001,\n",
       "    verbose=0)"
      ]
     },
     "execution_count": 38,
     "metadata": {},
     "output_type": "execute_result"
    }
   ],
   "source": [
    "with open(JP(paths['checkpoints'], 'NNMF.pkl'), 'rb') as obj:\n",
    "    nmf = pickle.load(obj)\n",
    "nmf"
   ]
  },
  {
   "cell_type": "code",
   "execution_count": null,
   "metadata": {},
   "outputs": [],
   "source": []
  }
 ],
 "metadata": {
  "kernelspec": {
   "display_name": "Python 3",
   "language": "python",
   "name": "python3"
  },
  "language_info": {
   "codemirror_mode": {
    "name": "ipython",
    "version": 3
   },
   "file_extension": ".py",
   "mimetype": "text/x-python",
   "name": "python",
   "nbconvert_exporter": "python",
   "pygments_lexer": "ipython3",
   "version": "3.7.3"
  },
  "nteract": {
   "version": "0.15.0"
  },
  "toc": {
   "base_numbering": 1,
   "nav_menu": {},
   "number_sections": true,
   "sideBar": true,
   "skip_h1_title": false,
   "title_cell": "Table of Contents",
   "title_sidebar": "Contents",
   "toc_cell": false,
   "toc_position": {},
   "toc_section_display": true,
   "toc_window_display": false
  },
  "varInspector": {
   "cols": {
    "lenName": 16,
    "lenType": 16,
    "lenVar": 40
   },
   "kernels_config": {
    "python": {
     "delete_cmd_postfix": "",
     "delete_cmd_prefix": "del ",
     "library": "var_list.py",
     "varRefreshCmd": "print(var_dic_list())"
    },
    "r": {
     "delete_cmd_postfix": ") ",
     "delete_cmd_prefix": "rm(",
     "library": "var_list.r",
     "varRefreshCmd": "cat(var_dic_list()) "
    }
   },
   "types_to_exclude": [
    "module",
    "function",
    "builtin_function_or_method",
    "instance",
    "_Feature"
   ],
   "window_display": false
  }
 },
 "nbformat": 4,
 "nbformat_minor": 2
}
