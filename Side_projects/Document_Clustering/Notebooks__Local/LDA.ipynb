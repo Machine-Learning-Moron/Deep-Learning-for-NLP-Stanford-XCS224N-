{
 "cells": [
  {
   "cell_type": "markdown",
   "metadata": {},
   "source": [
    "# Latent Dirichlet Allocation\n",
    "---\n",
    "  \n",
    "**LDA**  \n",
    "- Generative Probabilistic Topic Model. \n",
    "- Assumes documents are a mixture of topics and that each word in the document is attributable to a topic  \n",
    "- The topic probabilities provide an explicit representation of a document"
   ]
  },
  {
   "cell_type": "markdown",
   "metadata": {
    "hide_input": true
   },
   "source": [
    "## Env Preparation"
   ]
  },
  {
   "cell_type": "code",
   "execution_count": 1,
   "metadata": {
    "ExecuteTime": {
     "end_time": "2019-12-01T17:59:46.915016Z",
     "start_time": "2019-12-01T17:59:46.902681Z"
    },
    "hide_input": true,
    "outputExpanded": true
   },
   "outputs": [
    {
     "name": "stdout",
     "output_type": "stream",
     "text": [
      "Workdir:  /home/jovyan/work\n"
     ]
    }
   ],
   "source": [
    "import os\n",
    "import sys\n",
    "# os.chdir('/Users/pabloruizruiz/OneDrive/Courses/NLP_Stanford/Complementary_Courses/Document_Clustering')\n",
    "os.chdir('/home/jovyan/work/')\n",
    "print('Workdir: ', os.getcwd())\n",
    "from os.path import join as JP\n",
    "sys.path.append(os.getcwd())\n",
    "sys.path.append(JP(os.getcwd(),'utils'))\n",
    "sys.path.append(JP(os.getcwd(),'scripts'))"
   ]
  },
  {
   "cell_type": "code",
   "execution_count": 2,
   "metadata": {
    "ExecuteTime": {
     "end_time": "2019-12-01T17:59:48.663941Z",
     "start_time": "2019-12-01T17:59:47.367985Z"
    },
    "hide_input": true,
    "inputHidden": true
   },
   "outputs": [],
   "source": [
    "import numpy as np\n",
    "import pandas as pd\n",
    "from tqdm import tqdm\n",
    "import seaborn as sns\n",
    "import plotly.express as px\n",
    "import matplotlib.pyplot as plt\n",
    "\n",
    "import warnings\n",
    "warnings.filterwarnings(\"ignore\")\n",
    "\n",
    "tqdm.pandas()\n",
    "%matplotlib notebook\n",
    "np.set_printoptions(precision=3)\n",
    "pd.options.display.float_format = '{:,.3f}'.format"
   ]
  },
  {
   "cell_type": "code",
   "execution_count": 3,
   "metadata": {
    "ExecuteTime": {
     "end_time": "2019-12-01T17:59:49.483497Z",
     "start_time": "2019-12-01T17:59:48.680752Z"
    },
    "code_folding": [],
    "hide_input": true
   },
   "outputs": [
    {
     "ename": "ModuleNotFoundError",
     "evalue": "No module named 'utils'",
     "output_type": "error",
     "traceback": [
      "\u001b[0;31m\u001b[0m",
      "\u001b[0;31mModuleNotFoundError\u001b[0mTraceback (most recent call last)",
      "\u001b[0;32m<ipython-input-3-554b55f9d533>\u001b[0m in \u001b[0;36m<module>\u001b[0;34m\u001b[0m\n\u001b[1;32m      3\u001b[0m \u001b[0;32mfrom\u001b[0m \u001b[0mcollections\u001b[0m \u001b[0;32mimport\u001b[0m \u001b[0mdefaultdict\u001b[0m\u001b[0;34m\u001b[0m\u001b[0;34m\u001b[0m\u001b[0m\n\u001b[1;32m      4\u001b[0m \u001b[0;34m\u001b[0m\u001b[0m\n\u001b[0;32m----> 5\u001b[0;31m \u001b[0;32mfrom\u001b[0m \u001b[0mutils\u001b[0m\u001b[0;34m.\u001b[0m\u001b[0mnlp_utils\u001b[0m \u001b[0;32mimport\u001b[0m \u001b[0mpreproces\u001b[0m\u001b[0;34m\u001b[0m\u001b[0;34m\u001b[0m\u001b[0m\n\u001b[0m\u001b[1;32m      6\u001b[0m \u001b[0;32mfrom\u001b[0m \u001b[0mutils\u001b[0m\u001b[0;34m.\u001b[0m\u001b[0mgeneral\u001b[0m \u001b[0;32mimport\u001b[0m \u001b[0mparse_yaml\u001b[0m\u001b[0;34m,\u001b[0m \u001b[0mensure_directories\u001b[0m\u001b[0;34m\u001b[0m\u001b[0;34m\u001b[0m\u001b[0m\n\u001b[1;32m      7\u001b[0m \u001b[0;34m\u001b[0m\u001b[0m\n",
      "\u001b[0;31mModuleNotFoundError\u001b[0m: No module named 'utils'"
     ]
    }
   ],
   "source": [
    "import pickle\n",
    "from pprint import pprint\n",
    "from collections import defaultdict\n",
    "\n",
    "from utils.nlp_utils import preproces\n",
    "from utils.general import parse_yaml, ensure_directories\n",
    "\n",
    "from scripts.catalog import (\n",
    "    Catalog, Document, Corpus,\n",
    "    load_catalog, load_corpus)\n",
    "\n",
    "config = parse_yaml('config.yaml')\n",
    "paths = config['paths']\n",
    "ensure_directories(paths)"
   ]
  },
  {
   "cell_type": "markdown",
   "metadata": {},
   "source": [
    "## Data Preparation"
   ]
  },
  {
   "cell_type": "code",
   "execution_count": null,
   "metadata": {
    "hide_input": true
   },
   "outputs": [],
   "source": [
    "data = pd.read_csv(JP('data','bbc-text.csv'))\n",
    "data['lenght'] = data.text.apply(lambda l: len(l.split(' ')))\n",
    "data.head()"
   ]
  },
  {
   "cell_type": "code",
   "execution_count": null,
   "metadata": {
    "hide_input": true
   },
   "outputs": [],
   "source": [
    "import spacy\n",
    "from spacy import displacy\n",
    "\n",
    "nlp = spacy.load('en_core_web_sm') # Powerfull model with everytihing included\n",
    "\n",
    "def spacy_cleaning(\n",
    "    document,\n",
    "    tags_to_keep=['JJ', 'NN', 'NNS', 'VB', 'VBD', 'VBG', 'VBN', 'VBP', 'VBZ'],\n",
    "    entities_to_remove=['ORG,NORP,GPE,PERSON']):\n",
    "\n",
    "    def pass_test(w, tags=tags_to_keep):\n",
    "        if w.ent_type_ == 0:\n",
    "                return w.tag_ in tags and not w.is_punct and not w.is_stop and w.ent_ not in entities_to_remove\n",
    "        return w.tag_ in tags and not w.is_punct and not w.is_stop \n",
    "\n",
    "    words = [ word for word in document if pass_test(word)]\n",
    "    tokens = [ word.lemma_.lower().strip() if word.lemma_ != \"-PRON-\" else word.lower_ for word in words ]\n",
    "    return ' '.join(tokens)"
   ]
  },
  {
   "cell_type": "code",
   "execution_count": null,
   "metadata": {
    "deletable": false,
    "editable": false,
    "hide_input": false,
    "run_control": {
     "frozen": true
    },
    "scrolled": true
   },
   "outputs": [],
   "source": [
    "data['processed'] = data['text'].progress_apply(nlp).progress_apply(spacy_cleaning)\n",
    "data.to_csv(JP('data','bbc-text-processed.csv'))"
   ]
  },
  {
   "cell_type": "code",
   "execution_count": null,
   "metadata": {
    "ExecuteTime": {
     "end_time": "2019-12-01T17:59:53.966502Z",
     "start_time": "2019-12-01T17:59:53.836946Z"
    },
    "hide_input": true,
    "scrolled": true
   },
   "outputs": [],
   "source": [
    "data = pd.read_csv(JP('data','bbc-text-processed.csv')).iloc[:,1:]\n",
    "data.head()"
   ]
  },
  {
   "cell_type": "code",
   "execution_count": null,
   "metadata": {
    "hide_input": true
   },
   "outputs": [],
   "source": [
    "print('\\nBefore Processing')\n",
    "doc_list = [d for d in data.text]\n",
    "print('Total documents: ', len(doc_list))\n",
    "docs_toguether = ' '.join(d for d in doc_list)\n",
    "all_words = docs_toguether.split(' ')\n",
    "unique_words = np.unique(all_words)\n",
    "print('All words: {}. Unique words: {}'.format(len(all_words), len(unique_words)))\n",
    "\n",
    "print('\\nAfter Processing')\n",
    "doc_list = [d for d in data.processed]\n",
    "print('Total documents: ', len(doc_list))\n",
    "docs_toguether = ' '.join(d for d in doc_list)\n",
    "all_words = docs_toguether.split(' ')\n",
    "unique_words = np.unique(all_words)\n",
    "print('All words: {}. Unique words: {}'.format(len(all_words), len(unique_words)))"
   ]
  },
  {
   "cell_type": "markdown",
   "metadata": {},
   "source": [
    "## TFIDF"
   ]
  },
  {
   "cell_type": "code",
   "execution_count": null,
   "metadata": {},
   "outputs": [],
   "source": [
    "from nltk.corpus import stopwords\n",
    "from sklearn.feature_extraction.text import TfidfVectorizer"
   ]
  },
  {
   "cell_type": "code",
   "execution_count": null,
   "metadata": {},
   "outputs": [],
   "source": [
    "EMBED_SIZE = 10000 \n",
    "NUM_CLUSTERS = data['category'].nunique()\n",
    "WORDS_PER_CLUSTER = None\n",
    "print(NUM_CLUSTERS)"
   ]
  },
  {
   "cell_type": "code",
   "execution_count": null,
   "metadata": {
    "ExecuteTime": {
     "end_time": "2019-12-01T18:05:30.825836Z",
     "start_time": "2019-12-01T18:05:30.763788Z"
    }
   },
   "outputs": [],
   "source": [
    "documents = [Document() for i in range(data.shape[0])]\n",
    "for d in range(len(documents)):\n",
    "    documents[d].processed_text = data['processed'][d]"
   ]
  },
  {
   "cell_type": "code",
   "execution_count": null,
   "metadata": {},
   "outputs": [],
   "source": [
    "catalog = Catalog()\n",
    "catalog.documents = documents"
   ]
  },
  {
   "cell_type": "code",
   "execution_count": null,
   "metadata": {},
   "outputs": [],
   "source": [
    "vectorizer = TfidfVectorizer(\n",
    "    min_df=.05,\n",
    "    max_df=.8,\n",
    "    norm='l2',\n",
    "    use_idf=True,\n",
    "    smooth_idf=True,\n",
    "    max_features=EMBED_SIZE,\n",
    "    ngram_range=(1,3),\n",
    "    lowercase=True,\n",
    "    stop_words=stopwords.words('english'))"
   ]
  },
  {
   "cell_type": "code",
   "execution_count": null,
   "metadata": {
    "scrolled": true
   },
   "outputs": [],
   "source": [
    "_ = catalog.collect_corpus(attr='processed_text', form=list)\n",
    "tfidf = catalog.to_matrix(\n",
    "    vectorizer=vectorizer,\n",
    "    modelname='TFIDF',\n",
    "    max_docs=None)\n",
    "print(tfidf.representation.shape)\n",
    "tfidf.representation.head()"
   ]
  },
  {
   "cell_type": "markdown",
   "metadata": {},
   "source": [
    "## Sklearn Topic Modelling\n",
    "\n",
    "- 1: Latent Dirichlet Allocation\n",
    "- 2: Non Negative Matrix Factorization"
   ]
  },
  {
   "cell_type": "code",
   "execution_count": null,
   "metadata": {},
   "outputs": [],
   "source": [
    "NUM_TOPICS = NUM_CLUSTERS"
   ]
  },
  {
   "cell_type": "code",
   "execution_count": null,
   "metadata": {},
   "outputs": [],
   "source": [
    "# Functions for printing keywords for each topic\n",
    "def selected_topics(model, vectorizer, top_n=10):\n",
    "    for idx, topic in enumerate(model.components_):\n",
    "        print(\"Topic %d:\" % (idx))\n",
    "        print([vectorizer.get_feature_names()[i] for i in topic.argsort()[:-top_n - 1:-1]]) "
   ]
  },
  {
   "cell_type": "markdown",
   "metadata": {},
   "source": [
    "### Latente Dirichlet Allocation"
   ]
  },
  {
   "cell_type": "code",
   "execution_count": null,
   "metadata": {},
   "outputs": [],
   "source": [
    "from sklearn.decomposition import NMF, LatentDirichletAllocation, TruncatedSVD\n",
    "lda = LatentDirichletAllocation(\n",
    "    n_components=NUM_TOPICS, \n",
    "    max_iter=10, \n",
    "    learning_method='online',\n",
    "    verbose=True)\n",
    "lda\n"
   ]
  },
  {
   "cell_type": "code",
   "execution_count": null,
   "metadata": {
    "deletable": false,
    "editable": false,
    "run_control": {
     "frozen": true
    },
    "scrolled": true
   },
   "outputs": [],
   "source": [
    "print('Latent Semantion Allocation')\n",
    "data_lda = lda.fit_transform(tfidf.representation)"
   ]
  },
  {
   "cell_type": "code",
   "execution_count": null,
   "metadata": {
    "deletable": false,
    "editable": false,
    "run_control": {
     "frozen": true
    }
   },
   "outputs": [],
   "source": [
    "# Keywords for topics clustered by Latent Dirichlet Allocation\n",
    "print(\"LDA Model:\")\n",
    "selected_topics(lda, vectorizer, 8)"
   ]
  },
  {
   "cell_type": "markdown",
   "metadata": {},
   "source": [
    "**Save Model**"
   ]
  },
  {
   "cell_type": "code",
   "execution_count": null,
   "metadata": {
    "deletable": false,
    "editable": false,
    "run_control": {
     "frozen": true
    }
   },
   "outputs": [],
   "source": [
    "with open(JP(paths['checkpoints'], 'lda_sklearn.pkl'), 'wb') as obj:\n",
    "    pickle.dump(lda,obj)"
   ]
  },
  {
   "cell_type": "markdown",
   "metadata": {},
   "source": [
    "**Load Model**"
   ]
  },
  {
   "cell_type": "code",
   "execution_count": null,
   "metadata": {},
   "outputs": [],
   "source": [
    "with open(JP(paths['checkpoints'], 'lda_sklearn.pkl'), 'rb') as obj:\n",
    "    lda = pickle.load(obj)\n",
    "lda"
   ]
  },
  {
   "cell_type": "markdown",
   "metadata": {},
   "source": [
    "#### Visualization"
   ]
  },
  {
   "cell_type": "code",
   "execution_count": null,
   "metadata": {},
   "outputs": [],
   "source": [
    "import pyLDAvis\n",
    "import pyLDAvis.sklearn\n",
    "pyLDAvis.enable_notebook()"
   ]
  },
  {
   "cell_type": "code",
   "execution_count": null,
   "metadata": {},
   "outputs": [],
   "source": [
    "pyLDAvis.sklearn.prepare(lda, tfidf.representation, tfidf.mapping, mds='tsne')"
   ]
  },
  {
   "cell_type": "code",
   "execution_count": null,
   "metadata": {},
   "outputs": [],
   "source": []
  },
  {
   "cell_type": "markdown",
   "metadata": {},
   "source": [
    "## Non-Negative Matrix Factorization"
   ]
  },
  {
   "cell_type": "code",
   "execution_count": null,
   "metadata": {},
   "outputs": [],
   "source": [
    "nmf = NMF(n_components=NUM_TOPICS)\n",
    "nmf"
   ]
  },
  {
   "cell_type": "code",
   "execution_count": null,
   "metadata": {
    "deletable": false,
    "editable": false,
    "run_control": {
     "frozen": true
    }
   },
   "outputs": [],
   "source": [
    "print('Non-Negative Matrix Factorization')\n",
    "data_nmf = nmf.fit_transform(tfidf.representation)"
   ]
  },
  {
   "cell_type": "code",
   "execution_count": null,
   "metadata": {
    "deletable": false,
    "editable": false,
    "run_control": {
     "frozen": true
    },
    "scrolled": true
   },
   "outputs": [],
   "source": [
    "# Keywords for topics clustered by Latent Semantic Indexing\n",
    "print(\"NMF Model:\")\n",
    "selected_topics(nmf, vectorizer, 8)"
   ]
  },
  {
   "cell_type": "markdown",
   "metadata": {
    "deletable": false,
    "editable": false,
    "run_control": {
     "frozen": true
    }
   },
   "source": [
    "**Save Model**"
   ]
  },
  {
   "cell_type": "code",
   "execution_count": null,
   "metadata": {
    "deletable": false,
    "editable": false,
    "run_control": {
     "frozen": true
    }
   },
   "outputs": [],
   "source": [
    "with open(JP(paths['checkpoints'], 'NNMF.pkl'), 'wb') as obj:\n",
    "    pickle.dump(nmf,obj)"
   ]
  },
  {
   "cell_type": "markdown",
   "metadata": {},
   "source": [
    "**Load Model**"
   ]
  },
  {
   "cell_type": "code",
   "execution_count": null,
   "metadata": {},
   "outputs": [],
   "source": [
    "with open(JP(paths['checkpoints'], 'NNMF.pkl'), 'rb') as obj:\n",
    "    nmf = pickle.load(obj)\n",
    "nmf"
   ]
  },
  {
   "cell_type": "code",
   "execution_count": null,
   "metadata": {},
   "outputs": [],
   "source": []
  },
  {
   "cell_type": "code",
   "execution_count": null,
   "metadata": {},
   "outputs": [],
   "source": []
  },
  {
   "cell_type": "code",
   "execution_count": null,
   "metadata": {},
   "outputs": [],
   "source": []
  },
  {
   "cell_type": "code",
   "execution_count": null,
   "metadata": {},
   "outputs": [],
   "source": []
  },
  {
   "cell_type": "markdown",
   "metadata": {},
   "source": [
    "## Gensin"
   ]
  },
  {
   "cell_type": "code",
   "execution_count": null,
   "metadata": {},
   "outputs": [],
   "source": [
    "from gensim import corpora, models, similarities "
   ]
  },
  {
   "cell_type": "code",
   "execution_count": null,
   "metadata": {
    "ExecuteTime": {
     "end_time": "2019-12-01T18:25:13.034034Z",
     "start_time": "2019-12-01T18:25:13.030390Z"
    }
   },
   "outputs": [],
   "source": [
    "NUM_TOPICS = 5"
   ]
  },
  {
   "cell_type": "code",
   "execution_count": null,
   "metadata": {
    "ExecuteTime": {
     "end_time": "2019-12-01T18:25:13.433288Z",
     "start_time": "2019-12-01T18:25:13.382849Z"
    }
   },
   "outputs": [],
   "source": [
    "data['processed_token'] = data['processed'].apply(lambda t: t.split())\n",
    "data['processed_token']"
   ]
  },
  {
   "cell_type": "code",
   "execution_count": null,
   "metadata": {
    "ExecuteTime": {
     "end_time": "2019-12-01T18:25:21.592276Z",
     "start_time": "2019-12-01T18:25:20.945318Z"
    }
   },
   "outputs": [],
   "source": [
    "# Create a Gensim dictionary from the texts\n",
    "dictionary = corpora.Dictionary(data['processed_token']) \n",
    "dictionary.filter_extremes(no_below=0.1, no_above=0.7)\n",
    "corpus = [dictionary.doc2bow(text) for text in data['processed_token']]"
   ]
  },
  {
   "cell_type": "code",
   "execution_count": null,
   "metadata": {
    "ExecuteTime": {
     "end_time": "2019-12-01T18:28:26.832012Z",
     "start_time": "2019-12-01T18:25:29.526053Z"
    },
    "deletable": false,
    "editable": false,
    "run_control": {
     "frozen": true
    }
   },
   "outputs": [],
   "source": [
    "import time\n",
    "start = time.time()\n",
    "ldaModel = models.LdaModel(\n",
    "    corpus, \n",
    "    num_topics=NUM_TOPICS,\n",
    "    id2word=dictionary, \n",
    "    update_every=5, \n",
    "    chunksize=1000, \n",
    "    passes=300)\n",
    "print('It took me {}'.format(time.time()-start))"
   ]
  },
  {
   "cell_type": "code",
   "execution_count": null,
   "metadata": {
    "deletable": false,
    "editable": false,
    "run_control": {
     "frozen": true
    }
   },
   "outputs": [],
   "source": [
    "import time\n",
    "start = time.time()\n",
    "ldaModelMulticore = models.LdaMulticore(\n",
    "    corpus, \n",
    "    num_topics=NUM_TOPICS,\n",
    "    id2word=dictionary, \n",
    "    chunksize=1000, \n",
    "    passes=300)\n",
    "print('It took me {}'.format(time.time()-start))"
   ]
  },
  {
   "cell_type": "markdown",
   "metadata": {},
   "source": [
    "**Save Model**"
   ]
  },
  {
   "cell_type": "code",
   "execution_count": null,
   "metadata": {
    "deletable": false,
    "editable": false,
    "run_control": {
     "frozen": true
    }
   },
   "outputs": [],
   "source": [
    "with open(JP(paths['checkpoints'], 'lda_gensim.pkl'), 'wb') as obj:\n",
    "    pickle.dump(ldaModel,obj)\n",
    "    \n",
    "with open(JP(paths['checkpoints'], 'lda_multicore_gensim.pkl'), 'wb') as obj:\n",
    "    pickle.dump(ldaModelMulticore,obj)"
   ]
  },
  {
   "cell_type": "markdown",
   "metadata": {},
   "source": [
    "**Load Model**"
   ]
  },
  {
   "cell_type": "code",
   "execution_count": null,
   "metadata": {},
   "outputs": [],
   "source": [
    "with open(JP(paths['checkpoints'], 'lda_gensim.pkl'), 'rb') as obj:\n",
    "    ldaModel = pickle.load(obj)\n",
    "    \n",
    "# with open(JP(paths['checkpoints'], 'lda_multicore_gensim.pkl'), 'rb') as obj:\n",
    "#     ldaModelMulticore = pickle.load(obj)\n",
    "    \n",
    "print(ldaModel)\n",
    "# print(ldaModelMulticore)"
   ]
  },
  {
   "cell_type": "markdown",
   "metadata": {},
   "source": [
    "### Aggregate Results into Pandas"
   ]
  },
  {
   "cell_type": "code",
   "execution_count": null,
   "metadata": {},
   "outputs": [],
   "source": [
    "ldaModel.show_topics(formatted=False, num_words=2)"
   ]
  },
  {
   "cell_type": "code",
   "execution_count": null,
   "metadata": {
    "ExecuteTime": {
     "end_time": "2019-12-01T18:28:26.969269Z",
     "start_time": "2019-12-01T18:28:26.957214Z"
    }
   },
   "outputs": [],
   "source": [
    "from functools import reduce\n",
    "\n",
    "scores = []\n",
    "for c in range(NUM_TOPICS):\n",
    "    df = pd.DataFrame(ldaModel.show_topic(c,topn=None), columns=['word',c+1])\n",
    "    scores.append(df)\n",
    "    \n",
    "scores = reduce(lambda df1, df2: df1.merge(df2, on='word'), scores)\n",
    "scores.head(3)"
   ]
  },
  {
   "cell_type": "markdown",
   "metadata": {},
   "source": [
    "#### Visualization"
   ]
  },
  {
   "cell_type": "code",
   "execution_count": null,
   "metadata": {},
   "outputs": [],
   "source": [
    "import pyLDAvis.gensim as gensimvis"
   ]
  },
  {
   "cell_type": "code",
   "execution_count": null,
   "metadata": {},
   "outputs": [],
   "source": [
    "vis_data = gensimvis.prepare(ldaModel, corpus, dictionary)\n"
   ]
  },
  {
   "cell_type": "markdown",
   "metadata": {
    "deletable": false,
    "editable": false,
    "run_control": {
     "frozen": true
    }
   },
   "source": [
    "---"
   ]
  },
  {
   "cell_type": "markdown",
   "metadata": {},
   "source": [
    "# Plotting the WordClouds\n"
   ]
  },
  {
   "cell_type": "code",
   "execution_count": null,
   "metadata": {},
   "outputs": [],
   "source": [
    "%matplotlib inline\n",
    "from wordcloud import WordCloud"
   ]
  },
  {
   "cell_type": "markdown",
   "metadata": {},
   "source": [
    "#### Helper Functions for Plotting"
   ]
  },
  {
   "cell_type": "code",
   "execution_count": null,
   "metadata": {
    "ExecuteTime": {
     "end_time": "2019-12-01T17:00:24.322274Z",
     "start_time": "2019-12-01T17:00:24.313215Z"
    },
    "hide_input": true
   },
   "outputs": [],
   "source": [
    "def define_subplots(n_cols,n_plots,figsize=None):\n",
    "    '''Return the axes given a total \n",
    "    of plots and desired number of columns'''\n",
    "    j = 1 if n_plots%n_cols != 0 else 0\n",
    "    n_rows = (n_plots // n_cols) + j \n",
    "    print(n_rows,n_cols)\n",
    "    if not figsize: \n",
    "        figsize=(n_cols*5,n_rows*5)\n",
    "    \n",
    "    fig, axs = plt.subplots(\n",
    "        nrows=n_rows, ncols=n_cols, sharex=False, sharey=False,\n",
    "        figsize=figsize)\n",
    "    return fig,axs # .reshape(n_plots,-1)\n"
   ]
  },
  {
   "cell_type": "code",
   "execution_count": null,
   "metadata": {},
   "outputs": [],
   "source": [
    "def cluster_to_wordcloud(\n",
    "    df, max_words=200, use_mask=False, bgcolor='black'):\n",
    "    ''' Convert 1 cluster into a WordCloud given:\n",
    "        - The TFIDF for the cluster\n",
    "        - The Score Method that give imporance to the word '''\n",
    "    # Create the wordcloud attending to the inverse of idf\n",
    "    wordcloud = WordCloud(\n",
    "        max_words=max_words, \n",
    "        mask=mask_ if use_mask else None,\n",
    "        background_color=bgcolor).generate_from_frequencies(\n",
    "            frequencies=dict(zip(df.word, df.score)))\n",
    "    return wordcloud\n"
   ]
  },
  {
   "cell_type": "code",
   "execution_count": null,
   "metadata": {},
   "outputs": [],
   "source": [
    "def plot_centroids_as_wordclouds(\n",
    "    word_scores,\n",
    "    NUM_CLUSTERS = None,\n",
    "    max_words_per_cloud=100, \n",
    "    use_mask=False, n_cols=2, figsize=(15,15)):\n",
    "\n",
    "    if not NUM_CLUSTERS:\n",
    "        NUM_CLUSTERS = word_scores.cluster.nunique()\n",
    "\n",
    "    n_plots = NUM_CLUSTERS\n",
    "    _, axs = define_subplots(n_cols,n_plots, figsize)\n",
    "    \n",
    "    for c in range(NUM_CLUSTERS):\n",
    "        wordcloud = cluster_to_wordcloud(\n",
    "            df=word_scores[word_scores.cluster == c+1],\n",
    "            max_words=max_words_per_cloud,\n",
    "            use_mask=use_mask)\n",
    "        \n",
    "        # Plot the resulting wordcloud\n",
    "        axs[c // n_cols, c % n_cols].imshow(wordcloud)\n",
    "        axs[c // n_cols, c % n_cols].axis('off')\n",
    "    plt.tight_layout()\n",
    "    plt.show()\n",
    "    return\n"
   ]
  },
  {
   "cell_type": "code",
   "execution_count": null,
   "metadata": {
    "ExecuteTime": {
     "end_time": "2019-12-01T17:00:22.098422Z",
     "start_time": "2019-12-01T17:00:22.076103Z"
    }
   },
   "outputs": [],
   "source": [
    "data = pd.melt(scores.set_index('word').T.rename_axis('cluster').reset_index(), \n",
    "               id_vars=['cluster'], var_name='word', value_name='score')\n",
    "data.head()"
   ]
  },
  {
   "cell_type": "code",
   "execution_count": null,
   "metadata": {
    "ExecuteTime": {
     "end_time": "2019-12-01T17:07:01.546991Z",
     "start_time": "2019-12-01T17:07:00.264388Z"
    },
    "hide_input": true
   },
   "outputs": [],
   "source": [
    "plot_centroids_as_wordclouds(data, n_cols=2)"
   ]
  },
  {
   "cell_type": "markdown",
   "metadata": {},
   "source": [
    "# Validation\n",
    "\n",
    "**According to importants words of cluster lets assigned a classification:**"
   ]
  },
  {
   "cell_type": "code",
   "execution_count": null,
   "metadata": {},
   "outputs": [],
   "source": [
    "from sklearn.metrics import confusion_matrix\n",
    "from sklearn.utils.multiclass import unique_labels"
   ]
  },
  {
   "cell_type": "code",
   "execution_count": null,
   "metadata": {},
   "outputs": [],
   "source": [
    "cluster_preds = ['sport', 'entertainment', 'business', 'tech', 'politics']  \n",
    "d = dict(zip(range(NUM_CLUSTERS), cluster_preds))\n",
    "d"
   ]
  },
  {
   "cell_type": "code",
   "execution_count": null,
   "metadata": {},
   "outputs": [],
   "source": [
    "data['predict'] = [d[i] for i in clusters.labels_]"
   ]
  },
  {
   "cell_type": "code",
   "execution_count": null,
   "metadata": {},
   "outputs": [],
   "source": [
    "print(data.category.value_counts())"
   ]
  },
  {
   "cell_type": "code",
   "execution_count": null,
   "metadata": {},
   "outputs": [],
   "source": [
    "print(data.predict.value_counts())"
   ]
  },
  {
   "cell_type": "code",
   "execution_count": null,
   "metadata": {},
   "outputs": [],
   "source": [
    "cm = confusion_matrix(\n",
    "    y_true=data.category, \n",
    "    y_pred = data.predict, \n",
    "    labels=cluster_preds)\n",
    "\n",
    "pd.DataFrame(cm, columns=cluster_preds, index=cluster_preds)"
   ]
  },
  {
   "cell_type": "code",
   "execution_count": null,
   "metadata": {},
   "outputs": [],
   "source": []
  }
 ],
 "metadata": {
  "kernelspec": {
   "display_name": "Python 3",
   "language": "python",
   "name": "python3"
  },
  "language_info": {
   "codemirror_mode": {
    "name": "ipython",
    "version": 3
   },
   "file_extension": ".py",
   "mimetype": "text/x-python",
   "name": "python",
   "nbconvert_exporter": "python",
   "pygments_lexer": "ipython3",
   "version": "3.7.3"
  },
  "nteract": {
   "version": "0.15.0"
  },
  "toc": {
   "base_numbering": 1,
   "nav_menu": {},
   "number_sections": true,
   "sideBar": true,
   "skip_h1_title": false,
   "title_cell": "Table of Contents",
   "title_sidebar": "Contents",
   "toc_cell": false,
   "toc_position": {},
   "toc_section_display": true,
   "toc_window_display": false
  },
  "varInspector": {
   "cols": {
    "lenName": 16,
    "lenType": 16,
    "lenVar": 40
   },
   "kernels_config": {
    "python": {
     "delete_cmd_postfix": "",
     "delete_cmd_prefix": "del ",
     "library": "var_list.py",
     "varRefreshCmd": "print(var_dic_list())"
    },
    "r": {
     "delete_cmd_postfix": ") ",
     "delete_cmd_prefix": "rm(",
     "library": "var_list.r",
     "varRefreshCmd": "cat(var_dic_list()) "
    }
   },
   "types_to_exclude": [
    "module",
    "function",
    "builtin_function_or_method",
    "instance",
    "_Feature"
   ],
   "window_display": false
  }
 },
 "nbformat": 4,
 "nbformat_minor": 2
}
