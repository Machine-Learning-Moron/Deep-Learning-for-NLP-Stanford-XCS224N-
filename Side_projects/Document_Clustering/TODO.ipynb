{
 "cells": [
  {
   "cell_type": "markdown",
   "metadata": {},
   "source": [
    "# TODO\n",
    "---\n",
    "\n",
    "\n",
    "## Vectorization of Documents\n",
    "\n",
    "- [X] TF-IDF\n",
    "- [ ] Doc2Vec\n",
    "    - Spacy Doc2Vec\n",
    "    - Gensim Doc2Vec\n",
    "- [ ] Pretrained Embeddings\n",
    "\n",
    "## Clustering Algorithms\n",
    "\n",
    "- [X] K-Means\n",
    "- [X] K-Medoids\n",
    "- [X] Hierachical Clustering\n",
    "    - [X] Retrieve of different Levels \n",
    "- [X] Latent Dirichlet Allocation\n",
    "\n",
    "## Analysis\n",
    "\n",
    "- [X] How to give importance to words?\n",
    "- [ ] Validate clustering algorithm                     *--> IN PROGRESS*\n",
    "    - [ ] Confusion Matrices\n",
    "    - [ ] \n",
    "- [ ] Visualization of clustering algorithms (t-SNE)    *--> IN PROGRESS*\n",
    "\n",
    "\n",
    "## Visualizations\n",
    "\n",
    "- [X] WordClouds\n",
    "- [ ] TreeMap for HCA\n",
    "- [ ] LDA Topic Distributions\n",
    "\n",
    "## Productionalization\n",
    "- [X] Containerization\n",
    "- [ ] GPU Usage\n",
    "\n"
   ]
  },
  {
   "cell_type": "code",
   "execution_count": null,
   "metadata": {},
   "outputs": [],
   "source": []
  }
 ],
 "metadata": {
  "kernelspec": {
   "display_name": "Python 3",
   "language": "python",
   "name": "python3"
  },
  "language_info": {
   "codemirror_mode": {
    "name": "ipython",
    "version": 3
   },
   "file_extension": ".py",
   "mimetype": "text/x-python",
   "name": "python",
   "nbconvert_exporter": "python",
   "pygments_lexer": "ipython3",
   "version": "3.7.3"
  },
  "toc": {
   "base_numbering": 1,
   "nav_menu": {},
   "number_sections": true,
   "sideBar": true,
   "skip_h1_title": false,
   "title_cell": "Table of Contents",
   "title_sidebar": "Contents",
   "toc_cell": false,
   "toc_position": {},
   "toc_section_display": true,
   "toc_window_display": false
  }
 },
 "nbformat": 4,
 "nbformat_minor": 2
}
