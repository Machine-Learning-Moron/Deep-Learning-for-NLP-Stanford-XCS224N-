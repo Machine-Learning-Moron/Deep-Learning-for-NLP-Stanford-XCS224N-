{
 "cells": [
  {
   "cell_type": "markdown",
   "metadata": {},
   "source": [
    "# TODO\n",
    "---\n",
    "\n",
    "\n",
    "## Vectorization of Documents\n",
    "\n",
    "- [X] TF-IDF\n",
    "- [ ] Doc2Vec\n",
    "    - Spacy Doc2Vec\n",
    "    - Gensim Doc2Vec\n",
    "- [ ] Pretrained Embeddings\n",
    "\n",
    "## Clustering Algorithms\n",
    "\n",
    "- [X] K-Means\n",
    "- [X] K-Medoids\n",
    "- [X] Hierachical Clustering\n",
    "    - [X] Retrieve of different Levels \n",
    "- [X] Latent Dirichlet Allocation\n",
    "\n",
    "## Analysis\n",
    "\n",
    "- [X] How to give importance to words?\n",
    "- [ ] Validate clustering algorithm                     *--> IN PROGRESS*\n",
    "    - [ ] Confusion Matrices\n",
    "    - [ ] \n",
    "- [ ] Visualization of clustering algorithms (t-SNE)    *--> IN PROGRESS*\n",
    "\n",
    "\n",
    "## Visualizations\n",
    "\n",
    "- [X] WordClouds\n",
    "- [ ] TreeMap for HCA\n",
    "- [ ] LDA Topic Distributions\n",
    "\n",
    "## Productionalization\n",
    "- [X] Containerization\n",
    "- [ ] GPU Usage\n",
    "\n"
   ]
  },
  {
   "cell_type": "code",
   "execution_count": 8,
   "metadata": {},
   "outputs": [],
   "source": [
    "words = ['xww', 'wxyz', 'wxyw', 'ywx', 'ywz']"
   ]
  },
  {
   "cell_type": "code",
   "execution_count": 9,
   "metadata": {},
   "outputs": [
    {
     "data": {
      "text/plain": [
       "{'w', 'x', 'y', 'z'}"
      ]
     },
     "execution_count": 9,
     "metadata": {},
     "output_type": "execute_result"
    }
   ],
   "source": [
    "letters = set(''.join(words))\n",
    "letters"
   ]
  },
  {
   "cell_type": "code",
   "execution_count": 10,
   "metadata": {},
   "outputs": [
    {
     "data": {
      "text/plain": [
       "{'x': [], 'w': [], 'y': [], 'z': []}"
      ]
     },
     "execution_count": 10,
     "metadata": {},
     "output_type": "execute_result"
    }
   ],
   "source": [
    "graph = {letter: [] for letter in letters}\n",
    "graph"
   ]
  },
  {
   "cell_type": "code",
   "execution_count": 11,
   "metadata": {},
   "outputs": [
    {
     "name": "stdout",
     "output_type": "stream",
     "text": [
      "PAIR:  ('xww', 'wxyz')\n",
      "Before:  x\n",
      "After:  w\n",
      "{'x': ['w'], 'w': [], 'y': [], 'z': []}\n",
      "PAIR:  ('wxyz', 'wxyw')\n",
      "Before:  w\n",
      "After:  w\n",
      "Before:  x\n",
      "After:  x\n",
      "Before:  y\n",
      "After:  y\n",
      "Before:  z\n",
      "After:  w\n",
      "{'x': ['w'], 'w': [], 'y': [], 'z': ['w']}\n",
      "PAIR:  ('wxyw', 'ywx')\n",
      "Before:  w\n",
      "After:  y\n",
      "{'x': ['w'], 'w': ['y'], 'y': [], 'z': ['w']}\n",
      "PAIR:  ('ywx', 'ywz')\n",
      "Before:  y\n",
      "After:  y\n",
      "Before:  w\n",
      "After:  w\n",
      "Before:  x\n",
      "After:  z\n",
      "{'x': ['w', 'z'], 'w': ['y'], 'y': [], 'z': ['w']}\n"
     ]
    }
   ],
   "source": [
    "for pair in zip(words, words[1:]):\n",
    "    print('PAIR: ', pair)\n",
    "    for before, after in zip(*pair):\n",
    "        print('Before: ', before)\n",
    "        print('After: ', after)\n",
    "        if before != after:\n",
    "            graph[before].append(after)\n",
    "            print(graph)\n",
    "            break"
   ]
  },
  {
   "cell_type": "code",
   "execution_count": null,
   "metadata": {},
   "outputs": [],
   "source": []
  }
 ],
 "metadata": {
  "kernelspec": {
   "display_name": "Python 3",
   "language": "python",
   "name": "python3"
  },
  "language_info": {
   "codemirror_mode": {
    "name": "ipython",
    "version": 3
   },
   "file_extension": ".py",
   "mimetype": "text/x-python",
   "name": "python",
   "nbconvert_exporter": "python",
   "pygments_lexer": "ipython3",
   "version": "3.7.3"
  },
  "toc": {
   "base_numbering": 1,
   "nav_menu": {},
   "number_sections": true,
   "sideBar": true,
   "skip_h1_title": false,
   "title_cell": "Table of Contents",
   "title_sidebar": "Contents",
   "toc_cell": false,
   "toc_position": {},
   "toc_section_display": true,
   "toc_window_display": false
  }
 },
 "nbformat": 4,
 "nbformat_minor": 2
}
