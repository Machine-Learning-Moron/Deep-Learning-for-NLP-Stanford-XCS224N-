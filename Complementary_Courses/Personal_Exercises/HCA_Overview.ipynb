{
 "cells": [
  {
   "cell_type": "markdown",
   "metadata": {},
   "source": [
    "## Pipeline until TFIDF"
   ]
  },
  {
   "cell_type": "code",
   "execution_count": 1,
   "metadata": {},
   "outputs": [
    {
     "name": "stdout",
     "output_type": "stream",
     "text": [
      "15\n",
      "(15, 9936)\n"
     ]
    },
    {
     "data": {
      "text/html": [
       "<div>\n",
       "<style scoped>\n",
       "    .dataframe tbody tr th:only-of-type {\n",
       "        vertical-align: middle;\n",
       "    }\n",
       "\n",
       "    .dataframe tbody tr th {\n",
       "        vertical-align: top;\n",
       "    }\n",
       "\n",
       "    .dataframe thead th {\n",
       "        text-align: right;\n",
       "    }\n",
       "</style>\n",
       "<table border=\"1\" class=\"dataframe\">\n",
       "  <thead>\n",
       "    <tr style=\"text-align: right;\">\n",
       "      <th></th>\n",
       "      <th>0000</th>\n",
       "      <th>0000 process</th>\n",
       "      <th>0000 process produce</th>\n",
       "      <th>0011</th>\n",
       "      <th>0015</th>\n",
       "      <th>0018</th>\n",
       "      <th>0021</th>\n",
       "      <th>0023</th>\n",
       "      <th>0028</th>\n",
       "      <th>0031</th>\n",
       "      <th>...</th>\n",
       "      <th>yield loss</th>\n",
       "      <th>yield low</th>\n",
       "      <th>yield method</th>\n",
       "      <th>yield mol</th>\n",
       "      <th>yield reaction</th>\n",
       "      <th>zeolite</th>\n",
       "      <th>zeolite diatomaceous</th>\n",
       "      <th>zeolite diatomaceous earth</th>\n",
       "      <th>zinc</th>\n",
       "      <th>zirconium</th>\n",
       "    </tr>\n",
       "  </thead>\n",
       "  <tbody>\n",
       "    <tr>\n",
       "      <th>0</th>\n",
       "      <td>0.000000</td>\n",
       "      <td>0.000000</td>\n",
       "      <td>0.000000</td>\n",
       "      <td>0.0</td>\n",
       "      <td>0.005967</td>\n",
       "      <td>0.000000</td>\n",
       "      <td>0.000000</td>\n",
       "      <td>0.000000</td>\n",
       "      <td>0.000000</td>\n",
       "      <td>0.000000</td>\n",
       "      <td>...</td>\n",
       "      <td>0.000000</td>\n",
       "      <td>0.000000</td>\n",
       "      <td>0.0</td>\n",
       "      <td>0.005967</td>\n",
       "      <td>0.004827</td>\n",
       "      <td>0.000000</td>\n",
       "      <td>0.000000</td>\n",
       "      <td>0.000000</td>\n",
       "      <td>0.004420</td>\n",
       "      <td>0.000000</td>\n",
       "    </tr>\n",
       "    <tr>\n",
       "      <th>1</th>\n",
       "      <td>0.000000</td>\n",
       "      <td>0.000000</td>\n",
       "      <td>0.000000</td>\n",
       "      <td>0.0</td>\n",
       "      <td>0.000000</td>\n",
       "      <td>0.000000</td>\n",
       "      <td>0.003749</td>\n",
       "      <td>0.003749</td>\n",
       "      <td>0.000000</td>\n",
       "      <td>0.003749</td>\n",
       "      <td>...</td>\n",
       "      <td>0.000000</td>\n",
       "      <td>0.000000</td>\n",
       "      <td>0.0</td>\n",
       "      <td>0.000000</td>\n",
       "      <td>0.000000</td>\n",
       "      <td>0.003033</td>\n",
       "      <td>0.000000</td>\n",
       "      <td>0.000000</td>\n",
       "      <td>0.000000</td>\n",
       "      <td>0.000000</td>\n",
       "    </tr>\n",
       "    <tr>\n",
       "      <th>2</th>\n",
       "      <td>0.001422</td>\n",
       "      <td>0.000474</td>\n",
       "      <td>0.000474</td>\n",
       "      <td>0.0</td>\n",
       "      <td>0.000000</td>\n",
       "      <td>0.000474</td>\n",
       "      <td>0.000474</td>\n",
       "      <td>0.000474</td>\n",
       "      <td>0.000474</td>\n",
       "      <td>0.000000</td>\n",
       "      <td>...</td>\n",
       "      <td>0.000474</td>\n",
       "      <td>0.000474</td>\n",
       "      <td>0.0</td>\n",
       "      <td>0.000000</td>\n",
       "      <td>0.000767</td>\n",
       "      <td>0.000384</td>\n",
       "      <td>0.000474</td>\n",
       "      <td>0.000474</td>\n",
       "      <td>0.000351</td>\n",
       "      <td>0.000474</td>\n",
       "    </tr>\n",
       "    <tr>\n",
       "      <th>3</th>\n",
       "      <td>0.000000</td>\n",
       "      <td>0.000000</td>\n",
       "      <td>0.000000</td>\n",
       "      <td>0.0</td>\n",
       "      <td>0.000000</td>\n",
       "      <td>0.000000</td>\n",
       "      <td>0.000000</td>\n",
       "      <td>0.000000</td>\n",
       "      <td>0.000000</td>\n",
       "      <td>0.000000</td>\n",
       "      <td>...</td>\n",
       "      <td>0.000000</td>\n",
       "      <td>0.007083</td>\n",
       "      <td>0.0</td>\n",
       "      <td>0.000000</td>\n",
       "      <td>0.000000</td>\n",
       "      <td>0.000000</td>\n",
       "      <td>0.000000</td>\n",
       "      <td>0.000000</td>\n",
       "      <td>0.000000</td>\n",
       "      <td>0.000000</td>\n",
       "    </tr>\n",
       "    <tr>\n",
       "      <th>4</th>\n",
       "      <td>0.000000</td>\n",
       "      <td>0.000000</td>\n",
       "      <td>0.000000</td>\n",
       "      <td>0.0</td>\n",
       "      <td>0.000000</td>\n",
       "      <td>0.000000</td>\n",
       "      <td>0.000000</td>\n",
       "      <td>0.000000</td>\n",
       "      <td>0.000000</td>\n",
       "      <td>0.000000</td>\n",
       "      <td>...</td>\n",
       "      <td>0.000000</td>\n",
       "      <td>0.000000</td>\n",
       "      <td>0.0</td>\n",
       "      <td>0.000000</td>\n",
       "      <td>0.000000</td>\n",
       "      <td>0.000000</td>\n",
       "      <td>0.000000</td>\n",
       "      <td>0.000000</td>\n",
       "      <td>0.000000</td>\n",
       "      <td>0.000000</td>\n",
       "    </tr>\n",
       "  </tbody>\n",
       "</table>\n",
       "<p>5 rows × 9936 columns</p>\n",
       "</div>"
      ],
      "text/plain": [
       "       0000  0000 process  0000 process produce  0011      0015      0018  \\\n",
       "0  0.000000      0.000000              0.000000   0.0  0.005967  0.000000   \n",
       "1  0.000000      0.000000              0.000000   0.0  0.000000  0.000000   \n",
       "2  0.001422      0.000474              0.000474   0.0  0.000000  0.000474   \n",
       "3  0.000000      0.000000              0.000000   0.0  0.000000  0.000000   \n",
       "4  0.000000      0.000000              0.000000   0.0  0.000000  0.000000   \n",
       "\n",
       "       0021      0023      0028      0031  ...  yield loss  yield low  \\\n",
       "0  0.000000  0.000000  0.000000  0.000000  ...    0.000000   0.000000   \n",
       "1  0.003749  0.003749  0.000000  0.003749  ...    0.000000   0.000000   \n",
       "2  0.000474  0.000474  0.000474  0.000000  ...    0.000474   0.000474   \n",
       "3  0.000000  0.000000  0.000000  0.000000  ...    0.000000   0.007083   \n",
       "4  0.000000  0.000000  0.000000  0.000000  ...    0.000000   0.000000   \n",
       "\n",
       "   yield method  yield mol  yield reaction   zeolite  zeolite diatomaceous  \\\n",
       "0           0.0   0.005967        0.004827  0.000000              0.000000   \n",
       "1           0.0   0.000000        0.000000  0.003033              0.000000   \n",
       "2           0.0   0.000000        0.000767  0.000384              0.000474   \n",
       "3           0.0   0.000000        0.000000  0.000000              0.000000   \n",
       "4           0.0   0.000000        0.000000  0.000000              0.000000   \n",
       "\n",
       "   zeolite diatomaceous earth      zinc  zirconium  \n",
       "0                    0.000000  0.004420   0.000000  \n",
       "1                    0.000000  0.000000   0.000000  \n",
       "2                    0.000474  0.000351   0.000474  \n",
       "3                    0.000000  0.000000   0.000000  \n",
       "4                    0.000000  0.000000   0.000000  \n",
       "\n",
       "[5 rows x 9936 columns]"
      ]
     },
     "execution_count": 1,
     "metadata": {},
     "output_type": "execute_result"
    }
   ],
   "source": [
    "import os\n",
    "import pickle\n",
    "from pprint import pprint\n",
    "from os.path import join as JP\n",
    "\n",
    "import numpy as np\n",
    "import pandas as pd\n",
    "import matplotlib.pyplot as plt\n",
    "from collections import defaultdict\n",
    "\n",
    "from utils.nlp_utils import preproces\n",
    "from utils.general import parse_yaml, ensure_directories\n",
    "\n",
    "from scripts.catalog import (\n",
    "    Catalog, Document, Corpus,\n",
    "    load_catalog, load_corpus)\n",
    "\n",
    "config = parse_yaml('config.yaml')\n",
    "paths = config['paths']\n",
    "ensure_directories(paths)\n",
    "\n",
    "catalog = Catalog()\n",
    "\n",
    "## Load Catalog\n",
    "\n",
    "catalog = load_catalog(path=paths['catalog'], name='spacy_pipeline_on_US_corpus')\n",
    "# catalog.documents[0].sp_doc\n",
    "\n",
    "print('Total documents = ', len(catalog.documents))\n",
    "\n",
    "## TFIDF\n",
    "\n",
    "### Collect the Corpus for Sklearn\n",
    "\n",
    "corpus = catalog.collect_corpus(attr='processed_text', form=list)\n",
    "document = corpus[0]\n",
    "document[:500]\n",
    "\n",
    "from nltk.corpus import stopwords\n",
    "from sklearn.feature_extraction.text import TfidfVectorizer\n",
    "from scripts.algorithms.clustering import (\n",
    "    kmean_clustering,\n",
    "    compute_word_importance,\n",
    "    plot_clusters_as_wordclouds)\n",
    "\n",
    "# TODO: Increase all these\n",
    "EMBED_SIZE = 10000        \n",
    "NUM_CLUSTERS = 4\n",
    "WORDS_PER_CLUSTER = 50\n",
    "\n",
    "vectorizer = TfidfVectorizer(\n",
    "    min_df=.1,\n",
    "    max_df=.7,\n",
    "    norm='l2',\n",
    "    use_idf=True,\n",
    "    smooth_idf=True,\n",
    "    max_features=EMBED_SIZE,\n",
    "    ngram_range=(1,3),\n",
    "    lowercase=True,\n",
    "    stop_words=stopwords.words('english'))\n",
    "\n",
    "tfidf = catalog.to_matrix(\n",
    "    vectorizer=vectorizer,\n",
    "    modelname='TFIDF',\n",
    "    max_docs=None)\n",
    "print(tfidf.representation.shape)\n",
    "tfidf.representation.head()"
   ]
  },
  {
   "cell_type": "markdown",
   "metadata": {},
   "source": [
    "## Hierarchical Clustering"
   ]
  },
  {
   "cell_type": "markdown",
   "metadata": {},
   "source": [
    "### Similarity Matrix"
   ]
  },
  {
   "cell_type": "code",
   "execution_count": 41,
   "metadata": {},
   "outputs": [],
   "source": [
    "from sklearn.cluster import AgglomerativeClustering\n",
    "from sklearn.metrics.pairwise import cosine_similarity\n",
    "from scipy.cluster.hierarchy import dendrogram, linkage\n",
    "simmilarity_matrix = cosine_similarity(tfidf.representation, tfidf.representation)"
   ]
  },
  {
   "cell_type": "code",
   "execution_count": 42,
   "metadata": {},
   "outputs": [
    {
     "data": {
      "text/plain": [
       "True"
      ]
     },
     "execution_count": 42,
     "metadata": {},
     "output_type": "execute_result"
    }
   ],
   "source": [
    "def check_symmetric(a, tol=1e-8):\n",
    "    return np.all(np.abs(a-a.T) < tol)\n",
    "\n",
    "check_symmetric(simmilarity_matrix)"
   ]
  },
  {
   "cell_type": "code",
   "execution_count": 82,
   "metadata": {},
   "outputs": [
    {
     "data": {
      "image/png": "[encoded data removed]",
      "text/plain": [
       "<Figure size 432x288 with 1 Axes>"
      ]
     },
     "metadata": {
      "needs_background": "light"
     },
     "output_type": "display_data"
    }
   ],
   "source": [
    "x1 = np.array(list(range(8)))\n",
    "x2 = np.array([2, 8, 0, 4, 1, 9, 9, 0])\n",
    "X = np.vstack((x1,x2)).T\n",
    "\n",
    "labels = ['P{}'.format(i) for i in x1]\n",
    "\n",
    "for i,(x1i,x2i) in enumerate(zip(x1,x2)):\n",
    "    plt.scatter(x1i, x2i)\n",
    "    plt.text(x1i+.03, x2i+.03, labels[i], fontsize=9)\n",
    "plt.show()"
   ]
  },
  {
   "cell_type": "code",
   "execution_count": 89,
   "metadata": {},
   "outputs": [],
   "source": [
    "model = AgglomerativeClustering(linkage='average', compute_full_tree=True)"
   ]
  },
  {
   "cell_type": "code",
   "execution_count": 102,
   "metadata": {},
   "outputs": [
    {
     "data": {
      "text/plain": [
       "array([[ 5,  6],\n",
       "       [ 2,  4],\n",
       "       [ 0,  9],\n",
       "       [ 3, 10],\n",
       "       [ 1,  8],\n",
       "       [ 7, 11],\n",
       "       [12, 13]])"
      ]
     },
     "execution_count": 102,
     "metadata": {},
     "output_type": "execute_result"
    }
   ],
   "source": [
    "model.fit(X)\n",
    "model.children_"
   ]
  },
  {
   "cell_type": "code",
   "execution_count": 129,
   "metadata": {},
   "outputs": [
    {
     "data": {
      "text/plain": [
       "array([[ 5.,  6.,  0.,  2.],\n",
       "       [ 2.,  4.,  1.,  3.],\n",
       "       [ 0.,  9.,  2.,  4.],\n",
       "       [ 3., 10.,  3.,  5.],\n",
       "       [ 1.,  8.,  4.,  6.],\n",
       "       [ 7., 11.,  5.,  7.],\n",
       "       [12., 13.,  6.,  8.]])"
      ]
     },
     "execution_count": 129,
     "metadata": {},
     "output_type": "execute_result"
    },
    {
     "data": {
      "image/png": "[encoded data removed]",
      "text/plain": [
       "<Figure size 432x288 with 1 Axes>"
      ]
     },
     "metadata": {
      "needs_background": "light"
     },
     "output_type": "display_data"
    }
   ],
   "source": [
    "children = model.children_\n",
    "distance = np.arange(children.shape[0])\n",
    "no_of_observations = np.arange(2, children.shape[0]+2)\n",
    "linkage_matrix = np.column_stack([children, distance, no_of_observations]).astype(float)\n",
    "dendrogram(linkage_matrix)\n",
    "linkage_matrix"
   ]
  },
  {
   "cell_type": "code",
   "execution_count": null,
   "metadata": {},
   "outputs": [],
   "source": []
  },
  {
   "cell_type": "code",
   "execution_count": null,
   "metadata": {},
   "outputs": [],
   "source": []
  },
  {
   "cell_type": "code",
   "execution_count": 130,
   "metadata": {},
   "outputs": [],
   "source": [
    "Z = linkage(X, 'average')"
   ]
  },
  {
   "cell_type": "code",
   "execution_count": 131,
   "metadata": {},
   "outputs": [
    {
     "data": {
      "text/plain": [
       "array([[ 5.        ,  6.        ,  1.        ,  2.        ],\n",
       "       [ 2.        ,  4.        ,  2.23606798,  2.        ],\n",
       "       [ 0.        ,  9.        ,  3.47576638,  3.        ],\n",
       "       [ 3.        , 10.        ,  3.63031152,  4.        ],\n",
       "       [ 1.        ,  8.        ,  4.61106257,  3.        ],\n",
       "       [ 7.        , 11.        ,  5.27481045,  5.        ],\n",
       "       [12.        , 13.        ,  7.94600034,  8.        ]])"
      ]
     },
     "execution_count": 131,
     "metadata": {},
     "output_type": "execute_result"
    }
   ],
   "source": [
    "Z"
   ]
  },
  {
   "cell_type": "code",
   "execution_count": 115,
   "metadata": {},
   "outputs": [
    {
     "data": {
      "image/png": "[encoded data removed]",
      "text/plain": [
       "<Figure size 1800x720 with 1 Axes>"
      ]
     },
     "metadata": {
      "needs_background": "light"
     },
     "output_type": "display_data"
    }
   ],
   "source": [
    "fig = plt.figure(figsize=(25, 10))\n",
    "ax = dendrogram(\n",
    "    Z,\n",
    "    orientation='top',\n",
    "    labels=labels)\n",
    "\n",
    "plt.tick_params(\n",
    "    axis= 'x',          # changes apply to the x-axis\n",
    "    which='both',      # both major and minor ticks are affected\n",
    "    bottom='off',      # ticks along the bottom edge are off\n",
    "    top='off',         # ticks along the top edge are off\n",
    "    labelbottom='off')\n",
    "\n",
    "plt.tight_layout() #show plot with tight layout\n",
    "plt.show()"
   ]
  },
  {
   "cell_type": "code",
   "execution_count": 132,
   "metadata": {},
   "outputs": [],
   "source": [
    "from scipy.spatial.distance import pdist, squareform"
   ]
  },
  {
   "cell_type": "code",
   "execution_count": 133,
   "metadata": {},
   "outputs": [],
   "source": [
    "d = pdist(X, metric='euclidean')\n",
    "D = squareform(d)"
   ]
  },
  {
   "cell_type": "code",
   "execution_count": 139,
   "metadata": {},
   "outputs": [
    {
     "name": "stdout",
     "output_type": "stream",
     "text": [
      "(28,)\n"
     ]
    },
    {
     "data": {
      "text/plain": [
       "array([ 6.08276253,  2.82842712,  3.60555128,  4.12310563,  8.60232527,\n",
       "        9.21954446,  7.28010989,  8.06225775,  4.47213595,  7.61577311,\n",
       "        4.12310563,  5.09901951, 10.        ,  4.12310563,  2.23606798,\n",
       "        9.48683298,  9.8488578 ,  5.        ,  3.16227766,  5.38516481,\n",
       "        5.83095189,  5.65685425,  8.06225775,  8.24621125,  3.16227766,\n",
       "        1.        ,  9.21954446,  9.05538514])"
      ]
     },
     "execution_count": 139,
     "metadata": {},
     "output_type": "execute_result"
    }
   ],
   "source": [
    "print(d.shape)\n",
    "d"
   ]
  },
  {
   "cell_type": "code",
   "execution_count": 140,
   "metadata": {},
   "outputs": [
    {
     "name": "stdout",
     "output_type": "stream",
     "text": [
      "(8, 8)\n"
     ]
    },
    {
     "data": {
      "text/plain": [
       "array([[ 0.        ,  6.08276253,  2.82842712,  3.60555128,  4.12310563,\n",
       "         8.60232527,  9.21954446,  7.28010989],\n",
       "       [ 6.08276253,  0.        ,  8.06225775,  4.47213595,  7.61577311,\n",
       "         4.12310563,  5.09901951, 10.        ],\n",
       "       [ 2.82842712,  8.06225775,  0.        ,  4.12310563,  2.23606798,\n",
       "         9.48683298,  9.8488578 ,  5.        ],\n",
       "       [ 3.60555128,  4.47213595,  4.12310563,  0.        ,  3.16227766,\n",
       "         5.38516481,  5.83095189,  5.65685425],\n",
       "       [ 4.12310563,  7.61577311,  2.23606798,  3.16227766,  0.        ,\n",
       "         8.06225775,  8.24621125,  3.16227766],\n",
       "       [ 8.60232527,  4.12310563,  9.48683298,  5.38516481,  8.06225775,\n",
       "         0.        ,  1.        ,  9.21954446],\n",
       "       [ 9.21954446,  5.09901951,  9.8488578 ,  5.83095189,  8.24621125,\n",
       "         1.        ,  0.        ,  9.05538514],\n",
       "       [ 7.28010989, 10.        ,  5.        ,  5.65685425,  3.16227766,\n",
       "         9.21954446,  9.05538514,  0.        ]])"
      ]
     },
     "execution_count": 140,
     "metadata": {},
     "output_type": "execute_result"
    }
   ],
   "source": [
    "print(D.shape)\n",
    "D"
   ]
  },
  {
   "cell_type": "code",
   "execution_count": 123,
   "metadata": {},
   "outputs": [],
   "source": [
    "D = pdist(X, metric='cosine')"
   ]
  },
  {
   "cell_type": "code",
   "execution_count": 124,
   "metadata": {},
   "outputs": [
    {
     "data": {
      "text/plain": [
       "array([0.00772212, 1.        , 0.2       , 0.75746437, 0.12584272,\n",
       "       0.16794971, 1.        , 0.87596527, 0.13175686, 0.6390059 ,\n",
       "       0.07235648, 0.10557281, 0.87596527, 0.4       , 0.0298575 ,\n",
       "       0.51435707, 0.4452998 , 0.        , 0.223886  , 0.00928842,\n",
       "       0.00153965, 0.4       , 0.31684287, 0.26005993, 0.0298575 ,\n",
       "       0.00327095, 0.51435707, 0.4452998 ])"
      ]
     },
     "execution_count": 124,
     "metadata": {},
     "output_type": "execute_result"
    }
   ],
   "source": [
    "D"
   ]
  },
  {
   "cell_type": "code",
   "execution_count": 125,
   "metadata": {},
   "outputs": [
    {
     "data": {
      "text/plain": [
       "(28,)"
      ]
     },
     "execution_count": 125,
     "metadata": {},
     "output_type": "execute_result"
    }
   ],
   "source": [
    "D.shape"
   ]
  },
  {
   "cell_type": "code",
   "execution_count": 143,
   "metadata": {},
   "outputs": [
    {
     "name": "stdout",
     "output_type": "stream",
     "text": [
      "(8, 8)\n"
     ]
    },
    {
     "data": {
      "text/plain": [
       "array([[1.        , 0.99227788, 0.        , 0.8       , 0.24253563,\n",
       "        0.87415728, 0.83205029, 0.        ],\n",
       "       [0.99227788, 1.        , 0.12403473, 0.86824314, 0.3609941 ,\n",
       "        0.92764352, 0.89442719, 0.12403473],\n",
       "       [0.        , 0.12403473, 1.        , 0.6       , 0.9701425 ,\n",
       "        0.48564293, 0.5547002 , 1.        ],\n",
       "       [0.8       , 0.86824314, 0.6       , 1.        , 0.776114  ,\n",
       "        0.99071158, 0.99846035, 0.6       ],\n",
       "       [0.24253563, 0.3609941 , 0.9701425 , 0.776114  , 1.        ,\n",
       "        0.68315713, 0.73994007, 0.9701425 ],\n",
       "       [0.87415728, 0.92764352, 0.48564293, 0.99071158, 0.68315713,\n",
       "        1.        , 0.99672905, 0.48564293],\n",
       "       [0.83205029, 0.89442719, 0.5547002 , 0.99846035, 0.73994007,\n",
       "        0.99672905, 1.        , 0.5547002 ],\n",
       "       [0.        , 0.12403473, 1.        , 0.6       , 0.9701425 ,\n",
       "        0.48564293, 0.5547002 , 1.        ]])"
      ]
     },
     "execution_count": 143,
     "metadata": {},
     "output_type": "execute_result"
    }
   ],
   "source": [
    "d_ = cosine_similarity(X,X)\n",
    "print(d_.shape)\n",
    "d_"
   ]
  },
  {
   "cell_type": "code",
   "execution_count": null,
   "metadata": {},
   "outputs": [],
   "source": []
  }
 ],
 "metadata": {
  "kernelspec": {
   "display_name": "Python 3",
   "language": "python",
   "name": "python3"
  },
  "language_info": {
   "codemirror_mode": {
    "name": "ipython",
    "version": 3
   },
   "file_extension": ".py",
   "mimetype": "text/x-python",
   "name": "python",
   "nbconvert_exporter": "python",
   "pygments_lexer": "ipython3",
   "version": "3.7.4"
  },
  "varInspector": {
   "cols": {
    "lenName": 16,
    "lenType": 16,
    "lenVar": 40
   },
   "kernels_config": {
    "python": {
     "delete_cmd_postfix": "",
     "delete_cmd_prefix": "del ",
     "library": "var_list.py",
     "varRefreshCmd": "print(var_dic_list())"
    },
    "r": {
     "delete_cmd_postfix": ") ",
     "delete_cmd_prefix": "rm(",
     "library": "var_list.r",
     "varRefreshCmd": "cat(var_dic_list()) "
    }
   },
   "types_to_exclude": [
    "module",
    "function",
    "builtin_function_or_method",
    "instance",
    "_Feature"
   ],
   "window_display": false
  }
 },
 "nbformat": 4,
 "nbformat_minor": 2
}
