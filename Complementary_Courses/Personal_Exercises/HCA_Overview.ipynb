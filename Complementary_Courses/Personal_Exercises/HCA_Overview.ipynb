{
 "cells": [
  {
   "cell_type": "markdown",
   "metadata": {},
   "source": [
    "# Hierarchical Clustering"
   ]
  },
  {
   "cell_type": "code",
   "execution_count": 5,
   "metadata": {},
   "outputs": [],
   "source": [
    "import numpy as np\n",
    "import pandas as pd\n",
    "np.set_printoptions(precision=3)\n",
    "pd.options.display.float_format = '{:,.2f}'.format"
   ]
  },
  {
   "cell_type": "code",
   "execution_count": 6,
   "metadata": {},
   "outputs": [],
   "source": [
    "import matplotlib.pyplot as plt\n",
    "from collections import defaultdict\n",
    "from scipy.spatial.distance import pdist\n",
    "from scipy.cluster.hierarchy import dendrogram, linkage, fcluster"
   ]
  },
  {
   "cell_type": "code",
   "execution_count": 7,
   "metadata": {},
   "outputs": [
    {
     "data": {
      "image/png": "[encoded data removed]",
      "text/plain": [
       "<Figure size 432x288 with 1 Axes>"
      ]
     },
     "metadata": {
      "needs_background": "light"
     },
     "output_type": "display_data"
    }
   ],
   "source": [
    "x2 = np.array([2, 4, 0, 1, 3, 0, 5])\n",
    "x1 = np.array(list(range(len(x2))))\n",
    "X = np.vstack((x1,x2)).T\n",
    "\n",
    "labels = ['P{}'.format(i) for i in x1]\n",
    "\n",
    "for i,(x1i,x2i) in enumerate(zip(x1,x2)):\n",
    "    plt.scatter(x1i, x2i)\n",
    "    plt.text(x1i+.03, x2i+.03, labels[i], fontsize=9)\n",
    "plt.show()"
   ]
  },
  {
   "cell_type": "markdown",
   "metadata": {},
   "source": [
    "#### Using Euclidean Distances"
   ]
  },
  {
   "cell_type": "code",
   "execution_count": 8,
   "metadata": {},
   "outputs": [
    {
     "data": {
      "text/html": [
       "<div>\n",
       "<style scoped>\n",
       "    .dataframe tbody tr th:only-of-type {\n",
       "        vertical-align: middle;\n",
       "    }\n",
       "\n",
       "    .dataframe tbody tr th {\n",
       "        vertical-align: top;\n",
       "    }\n",
       "\n",
       "    .dataframe thead th {\n",
       "        text-align: right;\n",
       "    }\n",
       "</style>\n",
       "<table border=\"1\" class=\"dataframe\">\n",
       "  <thead>\n",
       "    <tr style=\"text-align: right;\">\n",
       "      <th></th>\n",
       "      <th>P1</th>\n",
       "      <th>P2</th>\n",
       "      <th>Distance</th>\n",
       "      <th>Points in Cluster</th>\n",
       "    </tr>\n",
       "  </thead>\n",
       "  <tbody>\n",
       "    <tr>\n",
       "      <th>0</th>\n",
       "      <td>2.00</td>\n",
       "      <td>3.00</td>\n",
       "      <td>1.41</td>\n",
       "      <td>2.00</td>\n",
       "    </tr>\n",
       "    <tr>\n",
       "      <th>1</th>\n",
       "      <td>0.00</td>\n",
       "      <td>1.00</td>\n",
       "      <td>2.24</td>\n",
       "      <td>2.00</td>\n",
       "    </tr>\n",
       "    <tr>\n",
       "      <th>2</th>\n",
       "      <td>5.00</td>\n",
       "      <td>7.00</td>\n",
       "      <td>2.62</td>\n",
       "      <td>3.00</td>\n",
       "    </tr>\n",
       "    <tr>\n",
       "      <th>3</th>\n",
       "      <td>4.00</td>\n",
       "      <td>6.00</td>\n",
       "      <td>2.83</td>\n",
       "      <td>2.00</td>\n",
       "    </tr>\n",
       "    <tr>\n",
       "      <th>4</th>\n",
       "      <td>8.00</td>\n",
       "      <td>9.00</td>\n",
       "      <td>4.13</td>\n",
       "      <td>5.00</td>\n",
       "    </tr>\n",
       "    <tr>\n",
       "      <th>5</th>\n",
       "      <td>10.00</td>\n",
       "      <td>11.00</td>\n",
       "      <td>4.46</td>\n",
       "      <td>7.00</td>\n",
       "    </tr>\n",
       "  </tbody>\n",
       "</table>\n",
       "</div>"
      ],
      "text/plain": [
       "     P1    P2  Distance  Points in Cluster\n",
       "0  2.00  3.00      1.41               2.00\n",
       "1  0.00  1.00      2.24               2.00\n",
       "2  5.00  7.00      2.62               3.00\n",
       "3  4.00  6.00      2.83               2.00\n",
       "4  8.00  9.00      4.13               5.00\n",
       "5 10.00 11.00      4.46               7.00"
      ]
     },
     "execution_count": 8,
     "metadata": {},
     "output_type": "execute_result"
    }
   ],
   "source": [
    "Z_ = linkage(pdist(X), metric='euclidean', method='average')\n",
    "pd.DataFrame(Z_, columns=['P1','P2','Distance','Points in Cluster'])"
   ]
  },
  {
   "cell_type": "markdown",
   "metadata": {},
   "source": [
    "#### Using Cosine Distances"
   ]
  },
  {
   "cell_type": "code",
   "execution_count": 9,
   "metadata": {},
   "outputs": [
    {
     "data": {
      "text/html": [
       "<div>\n",
       "<style scoped>\n",
       "    .dataframe tbody tr th:only-of-type {\n",
       "        vertical-align: middle;\n",
       "    }\n",
       "\n",
       "    .dataframe tbody tr th {\n",
       "        vertical-align: top;\n",
       "    }\n",
       "\n",
       "    .dataframe thead th {\n",
       "        text-align: right;\n",
       "    }\n",
       "</style>\n",
       "<table border=\"1\" class=\"dataframe\">\n",
       "  <thead>\n",
       "    <tr style=\"text-align: right;\">\n",
       "      <th></th>\n",
       "      <th>P1</th>\n",
       "      <th>P2</th>\n",
       "      <th>Distance</th>\n",
       "      <th>Points in Cluster</th>\n",
       "    </tr>\n",
       "  </thead>\n",
       "  <tbody>\n",
       "    <tr>\n",
       "      <th>0</th>\n",
       "      <td>2.00</td>\n",
       "      <td>5.00</td>\n",
       "      <td>0.00</td>\n",
       "      <td>2.00</td>\n",
       "    </tr>\n",
       "    <tr>\n",
       "      <th>1</th>\n",
       "      <td>4.00</td>\n",
       "      <td>6.00</td>\n",
       "      <td>0.00</td>\n",
       "      <td>2.00</td>\n",
       "    </tr>\n",
       "    <tr>\n",
       "      <th>2</th>\n",
       "      <td>0.00</td>\n",
       "      <td>1.00</td>\n",
       "      <td>0.03</td>\n",
       "      <td>2.00</td>\n",
       "    </tr>\n",
       "    <tr>\n",
       "      <th>3</th>\n",
       "      <td>3.00</td>\n",
       "      <td>7.00</td>\n",
       "      <td>0.06</td>\n",
       "      <td>3.00</td>\n",
       "    </tr>\n",
       "    <tr>\n",
       "      <th>4</th>\n",
       "      <td>8.00</td>\n",
       "      <td>10.00</td>\n",
       "      <td>0.28</td>\n",
       "      <td>5.00</td>\n",
       "    </tr>\n",
       "    <tr>\n",
       "      <th>5</th>\n",
       "      <td>9.00</td>\n",
       "      <td>11.00</td>\n",
       "      <td>1.09</td>\n",
       "      <td>7.00</td>\n",
       "    </tr>\n",
       "  </tbody>\n",
       "</table>\n",
       "</div>"
      ],
      "text/plain": [
       "    P1    P2  Distance  Points in Cluster\n",
       "0 2.00  5.00      0.00               2.00\n",
       "1 4.00  6.00      0.00               2.00\n",
       "2 0.00  1.00      0.03               2.00\n",
       "3 3.00  7.00      0.06               3.00\n",
       "4 8.00 10.00      0.28               5.00\n",
       "5 9.00 11.00      1.09               7.00"
      ]
     },
     "execution_count": 9,
     "metadata": {},
     "output_type": "execute_result"
    }
   ],
   "source": [
    "distances = pdist(X,metric='cosine') # Returns the upper half matrix of the cosine distances matrix  \n",
    "Z = linkage(y=distances, method='ward')\n",
    "pd.DataFrame(Z, columns=['P1','P2','Distance','Points in Cluster'])"
   ]
  },
  {
   "cell_type": "code",
   "execution_count": 10,
   "metadata": {},
   "outputs": [
    {
     "data": {
      "image/png": "[encoded data removed]",
      "text/plain": [
       "<Figure size 1080x360 with 2 Axes>"
      ]
     },
     "metadata": {
      "needs_background": "light"
     },
     "output_type": "display_data"
    }
   ],
   "source": [
    "_, (ax1,ax2) = plt.subplots(1,2,figsize=(15,5))\n",
    "ax1.set_title('Cosine')\n",
    "ax2.set_title('Euclidean')\n",
    "_ = dendrogram(Z, ax=ax1)\n",
    "_ = dendrogram(Z_, ax=ax2)"
   ]
  },
  {
   "cell_type": "code",
   "execution_count": 11,
   "metadata": {},
   "outputs": [
    {
     "name": "stdout",
     "output_type": "stream",
     "text": [
      "defaultdict(<class 'list'>, {3: [0, 1], 4: [2, 3], 1: [4], 5: [5], 2: [6]})\n"
     ]
    }
   ],
   "source": [
    "cluster_dict = defaultdict(list)\n",
    "clusters = fcluster(Z_, t=7, criterion='maxclust')\n",
    "\n",
    "for i, c in enumerate(clusters):\n",
    "    cluster_dict[c].append(i)\n",
    "print(cluster_dict)"
   ]
  },
  {
   "cell_type": "code",
   "execution_count": null,
   "metadata": {},
   "outputs": [],
   "source": []
  },
  {
   "cell_type": "markdown",
   "metadata": {},
   "source": [
    "### Retrieve Cluster ID of each document"
   ]
  },
  {
   "cell_type": "markdown",
   "metadata": {},
   "source": [
    "#### Assuming we know k --> Alternatives using distances etc"
   ]
  },
  {
   "cell_type": "code",
   "execution_count": 12,
   "metadata": {},
   "outputs": [],
   "source": [
    "def same_dicts(d1,d2):\n",
    "    return all([v1 == v2 for v1,v2 in zip(d1.values(), d2.values())])"
   ]
  },
  {
   "cell_type": "code",
   "execution_count": 13,
   "metadata": {},
   "outputs": [],
   "source": [
    "def retrieve_doc_idx_by_level(cluster_idx, idx):\n",
    "    ''' Return the indexes of the documents that match the cluster id '''\n",
    "    doc_ids = np.array(list(range(len(cluster_idx))))\n",
    "    mask = cluster_idx==idx\n",
    "    return [c for c,i in zip(doc_ids,mask) if i]"
   ]
  },
  {
   "cell_type": "code",
   "execution_count": 14,
   "metadata": {},
   "outputs": [],
   "source": [
    "def retrieve_hca_info(Z, criterion='maxclust', min_clusters=2, max_clusters=len(Z)//2+1):\n",
    "    ''' Retrive the documents that belong to each cluster \n",
    "    for every merge done during the HCA process ''' \n",
    "    cluster_dict = defaultdict(lambda: defaultdict(list))\n",
    "    for level in range(max_clusters, min_clusters-1, -1):\n",
    "        cluster_idx = fcluster(Z, level, criterion=criterion)\n",
    "        for c in range(1,1+level):\n",
    "            cluster_dict[level][c].append(retrieve_doc_idx_by_level(cluster_idx,c))\n",
    "    return cluster_dict"
   ]
  },
  {
   "cell_type": "code",
   "execution_count": 17,
   "metadata": {},
   "outputs": [],
   "source": [
    "MIN_CLUSTERS = 2\n",
    "MAX_CLUSTERS = 5\n",
    "CRITERION = 'maxclust'\n",
    "cluster_dict = retrieve_hca_info(Z_, CRITERION, MIN_CLUSTERS, MAX_CLUSTERS)"
   ]
  },
  {
   "cell_type": "code",
   "execution_count": 18,
   "metadata": {},
   "outputs": [
    {
     "data": {
      "text/plain": [
       "defaultdict(<function __main__.retrieve_hca_info.<locals>.<lambda>()>,\n",
       "            {5: defaultdict(list,\n",
       "                         {1: [[4]],\n",
       "                          2: [[6]],\n",
       "                          3: [[0, 1]],\n",
       "                          4: [[2, 3]],\n",
       "                          5: [[5]]}),\n",
       "             4: defaultdict(list,\n",
       "                         {1: [[4]], 2: [[6]], 3: [[0, 1]], 4: [[2, 3, 5]]}),\n",
       "             3: defaultdict(list, {1: [[4, 6]], 2: [[0, 1]], 3: [[2, 3, 5]]}),\n",
       "             2: defaultdict(list, {1: [[4, 6]], 2: [[0, 1, 2, 3, 5]]})})"
      ]
     },
     "execution_count": 18,
     "metadata": {},
     "output_type": "execute_result"
    }
   ],
   "source": [
    "cluster_dict"
   ]
  },
  {
   "cell_type": "code",
   "execution_count": null,
   "metadata": {},
   "outputs": [],
   "source": []
  },
  {
   "cell_type": "code",
   "execution_count": null,
   "metadata": {},
   "outputs": [],
   "source": []
  },
  {
   "cell_type": "code",
   "execution_count": null,
   "metadata": {},
   "outputs": [],
   "source": []
  },
  {
   "cell_type": "code",
   "execution_count": null,
   "metadata": {},
   "outputs": [],
   "source": []
  },
  {
   "cell_type": "markdown",
   "metadata": {},
   "source": [
    "## Pipeline until TFIDF"
   ]
  },
  {
   "cell_type": "code",
   "execution_count": 13,
   "metadata": {},
   "outputs": [
    {
     "name": "stdout",
     "output_type": "stream",
     "text": [
      "Total documents =  6\n",
      "(6, 10000)\n"
     ]
    },
    {
     "data": {
      "text/html": [
       "<div>\n",
       "<style scoped>\n",
       "    .dataframe tbody tr th:only-of-type {\n",
       "        vertical-align: middle;\n",
       "    }\n",
       "\n",
       "    .dataframe tbody tr th {\n",
       "        vertical-align: top;\n",
       "    }\n",
       "\n",
       "    .dataframe thead th {\n",
       "        text-align: right;\n",
       "    }\n",
       "</style>\n",
       "<table border=\"1\" class=\"dataframe\">\n",
       "  <thead>\n",
       "    <tr style=\"text-align: right;\">\n",
       "      <th></th>\n",
       "      <th>0000</th>\n",
       "      <th>0021</th>\n",
       "      <th>0023</th>\n",
       "      <th>0069</th>\n",
       "      <th>0076</th>\n",
       "      <th>14</th>\n",
       "      <th>14 composition</th>\n",
       "      <th>14 composition liquid</th>\n",
       "      <th>15</th>\n",
       "      <th>2h</th>\n",
       "      <th>...</th>\n",
       "      <th>yield methyl</th>\n",
       "      <th>yield methyl trimethylcyclohexylcarbamic</th>\n",
       "      <th>yield product</th>\n",
       "      <th>yield product obtain</th>\n",
       "      <th>yield reaction</th>\n",
       "      <th>yield reaction temperature</th>\n",
       "      <th>yield structural</th>\n",
       "      <th>yield structural assignment</th>\n",
       "      <th>zeolite</th>\n",
       "      <th>zinc</th>\n",
       "    </tr>\n",
       "  </thead>\n",
       "  <tbody>\n",
       "    <tr>\n",
       "      <th>0</th>\n",
       "      <td>0.00</td>\n",
       "      <td>0.00</td>\n",
       "      <td>0.00</td>\n",
       "      <td>0.00</td>\n",
       "      <td>0.00</td>\n",
       "      <td>0.00</td>\n",
       "      <td>0.00</td>\n",
       "      <td>0.00</td>\n",
       "      <td>0.00</td>\n",
       "      <td>0.05</td>\n",
       "      <td>...</td>\n",
       "      <td>0.00</td>\n",
       "      <td>0.00</td>\n",
       "      <td>0.02</td>\n",
       "      <td>0.01</td>\n",
       "      <td>0.00</td>\n",
       "      <td>0.00</td>\n",
       "      <td>0.05</td>\n",
       "      <td>0.05</td>\n",
       "      <td>0.00</td>\n",
       "      <td>0.00</td>\n",
       "    </tr>\n",
       "    <tr>\n",
       "      <th>1</th>\n",
       "      <td>0.00</td>\n",
       "      <td>0.00</td>\n",
       "      <td>0.00</td>\n",
       "      <td>0.00</td>\n",
       "      <td>0.00</td>\n",
       "      <td>0.00</td>\n",
       "      <td>0.00</td>\n",
       "      <td>0.00</td>\n",
       "      <td>0.01</td>\n",
       "      <td>0.00</td>\n",
       "      <td>...</td>\n",
       "      <td>0.00</td>\n",
       "      <td>0.00</td>\n",
       "      <td>0.00</td>\n",
       "      <td>0.00</td>\n",
       "      <td>0.00</td>\n",
       "      <td>0.00</td>\n",
       "      <td>0.00</td>\n",
       "      <td>0.00</td>\n",
       "      <td>0.00</td>\n",
       "      <td>0.00</td>\n",
       "    </tr>\n",
       "    <tr>\n",
       "      <th>2</th>\n",
       "      <td>0.00</td>\n",
       "      <td>0.00</td>\n",
       "      <td>0.00</td>\n",
       "      <td>0.00</td>\n",
       "      <td>0.00</td>\n",
       "      <td>0.00</td>\n",
       "      <td>0.00</td>\n",
       "      <td>0.00</td>\n",
       "      <td>0.00</td>\n",
       "      <td>0.00</td>\n",
       "      <td>...</td>\n",
       "      <td>0.00</td>\n",
       "      <td>0.00</td>\n",
       "      <td>0.00</td>\n",
       "      <td>0.00</td>\n",
       "      <td>0.00</td>\n",
       "      <td>0.00</td>\n",
       "      <td>0.00</td>\n",
       "      <td>0.00</td>\n",
       "      <td>0.00</td>\n",
       "      <td>0.00</td>\n",
       "    </tr>\n",
       "    <tr>\n",
       "      <th>3</th>\n",
       "      <td>0.00</td>\n",
       "      <td>0.00</td>\n",
       "      <td>0.00</td>\n",
       "      <td>0.00</td>\n",
       "      <td>0.00</td>\n",
       "      <td>0.00</td>\n",
       "      <td>0.00</td>\n",
       "      <td>0.00</td>\n",
       "      <td>0.00</td>\n",
       "      <td>0.00</td>\n",
       "      <td>...</td>\n",
       "      <td>0.00</td>\n",
       "      <td>0.00</td>\n",
       "      <td>0.00</td>\n",
       "      <td>0.00</td>\n",
       "      <td>0.00</td>\n",
       "      <td>0.00</td>\n",
       "      <td>0.00</td>\n",
       "      <td>0.00</td>\n",
       "      <td>0.00</td>\n",
       "      <td>0.00</td>\n",
       "    </tr>\n",
       "    <tr>\n",
       "      <th>4</th>\n",
       "      <td>0.00</td>\n",
       "      <td>0.00</td>\n",
       "      <td>0.00</td>\n",
       "      <td>0.00</td>\n",
       "      <td>0.00</td>\n",
       "      <td>0.00</td>\n",
       "      <td>0.00</td>\n",
       "      <td>0.00</td>\n",
       "      <td>0.00</td>\n",
       "      <td>0.00</td>\n",
       "      <td>...</td>\n",
       "      <td>0.00</td>\n",
       "      <td>0.00</td>\n",
       "      <td>0.00</td>\n",
       "      <td>0.00</td>\n",
       "      <td>0.00</td>\n",
       "      <td>0.00</td>\n",
       "      <td>0.00</td>\n",
       "      <td>0.00</td>\n",
       "      <td>0.00</td>\n",
       "      <td>0.00</td>\n",
       "    </tr>\n",
       "  </tbody>\n",
       "</table>\n",
       "<p>5 rows × 10000 columns</p>\n",
       "</div>"
      ],
      "text/plain": [
       "   0000  0021  0023  0069  0076   14  14 composition  14 composition liquid  \\\n",
       "0  0.00  0.00  0.00  0.00  0.00 0.00            0.00                   0.00   \n",
       "1  0.00  0.00  0.00  0.00  0.00 0.00            0.00                   0.00   \n",
       "2  0.00  0.00  0.00  0.00  0.00 0.00            0.00                   0.00   \n",
       "3  0.00  0.00  0.00  0.00  0.00 0.00            0.00                   0.00   \n",
       "4  0.00  0.00  0.00  0.00  0.00 0.00            0.00                   0.00   \n",
       "\n",
       "    15   2h  ...  yield methyl  yield methyl trimethylcyclohexylcarbamic  \\\n",
       "0 0.00 0.05  ...          0.00                                      0.00   \n",
       "1 0.01 0.00  ...          0.00                                      0.00   \n",
       "2 0.00 0.00  ...          0.00                                      0.00   \n",
       "3 0.00 0.00  ...          0.00                                      0.00   \n",
       "4 0.00 0.00  ...          0.00                                      0.00   \n",
       "\n",
       "   yield product  yield product obtain  yield reaction  \\\n",
       "0           0.02                  0.01            0.00   \n",
       "1           0.00                  0.00            0.00   \n",
       "2           0.00                  0.00            0.00   \n",
       "3           0.00                  0.00            0.00   \n",
       "4           0.00                  0.00            0.00   \n",
       "\n",
       "   yield reaction temperature  yield structural  yield structural assignment  \\\n",
       "0                        0.00              0.05                         0.05   \n",
       "1                        0.00              0.00                         0.00   \n",
       "2                        0.00              0.00                         0.00   \n",
       "3                        0.00              0.00                         0.00   \n",
       "4                        0.00              0.00                         0.00   \n",
       "\n",
       "   zeolite  zinc  \n",
       "0     0.00  0.00  \n",
       "1     0.00  0.00  \n",
       "2     0.00  0.00  \n",
       "3     0.00  0.00  \n",
       "4     0.00  0.00  \n",
       "\n",
       "[5 rows x 10000 columns]"
      ]
     },
     "execution_count": 13,
     "metadata": {},
     "output_type": "execute_result"
    }
   ],
   "source": [
    "import os\n",
    "import pickle\n",
    "from pprint import pprint\n",
    "from os.path import join as JP\n",
    "\n",
    "import numpy as np\n",
    "import pandas as pd\n",
    "import matplotlib.pyplot as plt\n",
    "from collections import defaultdict\n",
    "\n",
    "from utils.nlp_utils import preproces\n",
    "from utils.general import parse_yaml, ensure_directories\n",
    "\n",
    "from scripts.catalog import (\n",
    "    Catalog, Document, Corpus,\n",
    "    load_catalog, load_corpus)\n",
    "\n",
    "from nltk.corpus import stopwords\n",
    "from sklearn.feature_extraction.text import TfidfVectorizer\n",
    "\n",
    "config = parse_yaml('config.yaml')\n",
    "paths = config['paths']\n",
    "ensure_directories(paths)\n",
    "\n",
    "catalog = Catalog()\n",
    "catalog = load_catalog(path=paths['catalog'], name='spacy_pipeline_on_US_corpus')\n",
    "catalog.documents = catalog.documents[:6]\n",
    "print('Total documents = ', len(catalog.documents))\n",
    "corpus = catalog.collect_corpus(attr='processed_text', form=list)\n",
    "\n",
    "EMBED_SIZE = 10000        \n",
    "NUM_CLUSTERS = 4\n",
    "WORDS_PER_CLUSTER = 50\n",
    "\n",
    "vectorizer = TfidfVectorizer(\n",
    "    min_df=.1,\n",
    "    max_df=.7,\n",
    "    norm='l2',\n",
    "    use_idf=True,\n",
    "    smooth_idf=True,\n",
    "    max_features=EMBED_SIZE,\n",
    "    ngram_range=(1,3),\n",
    "    lowercase=True,\n",
    "    stop_words=stopwords.words('english'))\n",
    "\n",
    "tfidf = catalog.to_matrix(\n",
    "    vectorizer=vectorizer,\n",
    "    modelname='TFIDF',\n",
    "    max_docs=None)\n",
    "print(tfidf.representation.shape)\n",
    "tfidf.representation.head()"
   ]
  },
  {
   "cell_type": "code",
   "execution_count": 14,
   "metadata": {},
   "outputs": [],
   "source": [
    "import chart_studio.plotly as py\n",
    "import plotly.graph_objects as go\n",
    "import plotly.figure_factory as ff"
   ]
  },
  {
   "cell_type": "markdown",
   "metadata": {},
   "source": [
    "## Hierarchical Clustering"
   ]
  },
  {
   "cell_type": "markdown",
   "metadata": {},
   "source": [
    "### Similarity Matrix"
   ]
  },
  {
   "cell_type": "code",
   "execution_count": 15,
   "metadata": {},
   "outputs": [],
   "source": [
    "from scripts.algorithms.clustering import (\n",
    "    hca_document_clustering, plot_dendogram_from_linkage_matrix)"
   ]
  },
  {
   "cell_type": "code",
   "execution_count": 16,
   "metadata": {},
   "outputs": [
    {
     "name": "stdout",
     "output_type": "stream",
     "text": [
      "[INFO]: Computing Distance Matrix using cosine distance\n",
      "[INFO]: Performing Hierarchical Clustering using ward linkage\n"
     ]
    },
    {
     "data": {
      "text/plain": [
       "array([[0.   , 2.   , 0.903, 2.   ],\n",
       "       [1.   , 4.   , 0.919, 2.   ],\n",
       "       [5.   , 6.   , 0.962, 3.   ],\n",
       "       [3.   , 7.   , 0.971, 3.   ],\n",
       "       [8.   , 9.   , 1.036, 6.   ]])"
      ]
     },
     "execution_count": 16,
     "metadata": {},
     "output_type": "execute_result"
    }
   ],
   "source": [
    "Z = hca_document_clustering(tfidf, method='ward', distance_metric='cosine')\n",
    "Z"
   ]
  },
  {
   "cell_type": "code",
   "execution_count": 17,
   "metadata": {},
   "outputs": [
    {
     "data": {
      "image/png": "[encoded data removed]",
      "text/plain": [
       "<Figure size 432x288 with 1 Axes>"
      ]
     },
     "metadata": {
      "needs_background": "light"
     },
     "output_type": "display_data"
    }
   ],
   "source": [
    "plot_dendogram_from_linkage_matrix(\n",
    "    Z, truncate_mode='lastp', p=6, \n",
    "    show_leaf_counts=True, leaf_rotation=0.)"
   ]
  },
  {
   "cell_type": "code",
   "execution_count": 18,
   "metadata": {},
   "outputs": [],
   "source": [
    "MIN_CLUSTERS = 2\n",
    "MAX_CLUSTERS = 6\n",
    "CRITERION = 'maxclust'\n",
    "cluster_dict = retrieve_hca_info(Z, CRITERION, MIN_CLUSTERS, MAX_CLUSTERS)"
   ]
  },
  {
   "cell_type": "code",
   "execution_count": 19,
   "metadata": {},
   "outputs": [
    {
     "data": {
      "text/plain": [
       "defaultdict(<function __main__.retrieve_hca_info.<locals>.<lambda>()>,\n",
       "            {2: defaultdict(list, {0: [[0, 2, 5]], 1: [[1, 3, 4]]}),\n",
       "             3: defaultdict(list, {0: [[0, 2, 5]], 1: [[1, 4]], 2: [[3]]}),\n",
       "             4: defaultdict(list,\n",
       "                         {0: [[0, 2]], 1: [[5]], 2: [[1, 4]], 3: [[3]]}),\n",
       "             5: defaultdict(list,\n",
       "                         {0: [[0, 2]],\n",
       "                          1: [[5]],\n",
       "                          2: [[1, 4]],\n",
       "                          3: [[3]],\n",
       "                          4: [[]]}),\n",
       "             6: defaultdict(list,\n",
       "                         {0: [[0, 2]],\n",
       "                          1: [[5]],\n",
       "                          2: [[1, 4]],\n",
       "                          3: [[3]],\n",
       "                          4: [[]],\n",
       "                          5: [[]]})})"
      ]
     },
     "execution_count": 19,
     "metadata": {},
     "output_type": "execute_result"
    }
   ],
   "source": [
    "cluster_dict"
   ]
  },
  {
   "cell_type": "code",
   "execution_count": null,
   "metadata": {},
   "outputs": [],
   "source": []
  },
  {
   "cell_type": "code",
   "execution_count": null,
   "metadata": {},
   "outputs": [],
   "source": []
  },
  {
   "cell_type": "code",
   "execution_count": null,
   "metadata": {},
   "outputs": [],
   "source": []
  },
  {
   "cell_type": "code",
   "execution_count": null,
   "metadata": {},
   "outputs": [],
   "source": []
  },
  {
   "cell_type": "code",
   "execution_count": null,
   "metadata": {},
   "outputs": [],
   "source": []
  },
  {
   "cell_type": "code",
   "execution_count": null,
   "metadata": {},
   "outputs": [],
   "source": []
  }
 ],
 "metadata": {
  "kernelspec": {
   "display_name": "Python 3",
   "language": "python",
   "name": "python3"
  },
  "language_info": {
   "codemirror_mode": {
    "name": "ipython",
    "version": 3
   },
   "file_extension": ".py",
   "mimetype": "text/x-python",
   "name": "python",
   "nbconvert_exporter": "python",
   "pygments_lexer": "ipython3",
   "version": "3.7.4"
  },
  "varInspector": {
   "cols": {
    "lenName": 16,
    "lenType": 16,
    "lenVar": 40
   },
   "kernels_config": {
    "python": {
     "delete_cmd_postfix": "",
     "delete_cmd_prefix": "del ",
     "library": "var_list.py",
     "varRefreshCmd": "print(var_dic_list())"
    },
    "r": {
     "delete_cmd_postfix": ") ",
     "delete_cmd_prefix": "rm(",
     "library": "var_list.r",
     "varRefreshCmd": "cat(var_dic_list()) "
    }
   },
   "types_to_exclude": [
    "module",
    "function",
    "builtin_function_or_method",
    "instance",
    "_Feature"
   ],
   "window_display": false
  }
 },
 "nbformat": 4,
 "nbformat_minor": 2
}
