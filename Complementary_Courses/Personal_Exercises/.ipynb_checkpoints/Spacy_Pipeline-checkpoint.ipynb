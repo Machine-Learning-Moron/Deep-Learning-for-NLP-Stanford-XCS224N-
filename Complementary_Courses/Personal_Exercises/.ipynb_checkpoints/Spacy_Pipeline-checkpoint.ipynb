{
 "cells": [
  {
   "cell_type": "code",
   "execution_count": 1,
   "metadata": {},
   "outputs": [
    {
     "name": "stdout",
     "output_type": "stream",
     "text": [
      "43\n"
     ]
    }
   ],
   "source": [
    "import os\n",
    "import pickle\n",
    "from pprint import pprint\n",
    "from os.path import join as JP\n",
    "\n",
    "import numpy as np\n",
    "import pandas as pd\n",
    "import matplotlib.pyplot as plt\n",
    "from collections import defaultdict\n",
    "\n",
    "from utils.nlp_utils import preproces\n",
    "from utils.general import parse_yaml\n",
    "from scripts.catalog import Catalog, load_catalog\n",
    "\n",
    "config = parse_yaml('config.yaml')\n",
    "paths = config['paths']\n",
    "\n",
    "catalog = load_catalog(path=paths['catalog'],name='only_US')\n",
    "\n",
    "# Filter down the catalog\n",
    "filters = dict(\n",
    "    topic = ['isocyanate'],\n",
    "    country = ['US'],\n",
    "    raw_text_len = 5000)\n",
    "\n",
    "catalog = catalog.filter_catalog(filters)\n",
    "print(len(catalog.documents))"
   ]
  },
  {
   "cell_type": "code",
   "execution_count": 2,
   "metadata": {},
   "outputs": [],
   "source": [
    "docu1 = catalog.documents[0]\n",
    "docu2 = catalog.documents[1]"
   ]
  },
  {
   "cell_type": "code",
   "execution_count": 3,
   "metadata": {},
   "outputs": [],
   "source": [
    "raw_text = docu1.raw_text\n",
    "text = docu1.clean_text"
   ]
  },
  {
   "cell_type": "code",
   "execution_count": 4,
   "metadata": {},
   "outputs": [
    {
     "data": {
      "text/plain": [
       "'present invention relates to a method of producing a carbamate compound, comprising reacting a fluorine containing carbonic diester compound represented by formula (1) and a non aromatic diamine compound represented by formula (2) without using a cat'"
      ]
     },
     "execution_count": 4,
     "metadata": {},
     "output_type": "execute_result"
    }
   ],
   "source": [
    "text[250:500]"
   ]
  },
  {
   "cell_type": "markdown",
   "metadata": {},
   "source": [
    "# Spacy"
   ]
  },
  {
   "cell_type": "code",
   "execution_count": 5,
   "metadata": {},
   "outputs": [],
   "source": [
    "import spacy\n",
    "from spacy import displacy\n",
    "from spacy.lang.en import English"
   ]
  },
  {
   "cell_type": "code",
   "execution_count": 8,
   "metadata": {},
   "outputs": [],
   "source": [
    "nlp = spacy.load('en_core_web_sm') # Powerfull model with everytihing included\n",
    "d = nlp(text)"
   ]
  },
  {
   "cell_type": "code",
   "execution_count": 27,
   "metadata": {},
   "outputs": [
    {
     "data": {
      "text/html": [
       "<div class=\"entities\" style=\"line-height: 2.5; direction: ltr\">Application published. OKAZOE, Takashi;Nagasaki, \n",
       "<mark class=\"entity\" style=\"background: #feca74; padding: 0.45em 0.6em; margin: 0 0.25em; line-height: 1; border-radius: 0.35em;\">\n",
       "    Yuko;Okamoto\n",
       "    <span style=\"font-size: 0.8em; font-weight: bold; line-height: 1; border-radius: 0.35em; text-transform: uppercase; vertical-align: middle; margin-left: 0.5rem\">GPE</span>\n",
       "</mark>\n",
       ", \n",
       "<mark class=\"entity\" style=\"background: #aa9cfc; padding: 0.45em 0.6em; margin: 0 0.25em; line-height: 1; border-radius: 0.35em;\">\n",
       "    Hidekazu\n",
       "    <span style=\"font-size: 0.8em; font-weight: bold; line-height: 1; border-radius: 0.35em; text-transform: uppercase; vertical-align: middle; margin-left: 0.5rem\">PERSON</span>\n",
       "</mark>\n",
       ". \n",
       "<mark class=\"entity\" style=\"background: #7aecec; padding: 0.45em 0.6em; margin: 0 0.25em; line-height: 1; border-radius: 0.35em;\">\n",
       "    Asahi Glass Company\n",
       "    <span style=\"font-size: 0.8em; font-weight: bold; line-height: 1; border-radius: 0.35em; text-transform: uppercase; vertical-align: middle; margin-left: 0.5rem\">ORG</span>\n",
       "</mark>\n",
       ", \n",
       "<mark class=\"entity\" style=\"background: #7aecec; padding: 0.45em 0.6em; margin: 0 0.25em; line-height: 1; border-radius: 0.35em;\">\n",
       "    Limited;ASAHI GLASS\n",
       "    <span style=\"font-size: 0.8em; font-weight: bold; line-height: 1; border-radius: 0.35em; text-transform: uppercase; vertical-align: middle; margin-left: 0.5rem\">ORG</span>\n",
       "</mark>\n",
       ". \n",
       "<mark class=\"entity\" style=\"background: #7aecec; padding: 0.45em 0.6em; margin: 0 0.25em; line-height: 1; border-radius: 0.35em;\">\n",
       "    ASAHI\n",
       "    <span style=\"font-size: 0.8em; font-weight: bold; line-height: 1; border-radius: 0.35em; text-transform: uppercase; vertical-align: middle; margin-left: 0.5rem\">ORG</span>\n",
       "</mark>\n",
       " GLASS. METHOD FOR PRODUCING CARBAMATE COMPOUND, \n",
       "<mark class=\"entity\" style=\"background: #bfeeb7; padding: 0.45em 0.6em; margin: 0 0.25em; line-height: 1; border-radius: 0.35em;\">\n",
       "    CARBAMATE COMPOUND\n",
       "    <span style=\"font-size: 0.8em; font-weight: bold; line-height: 1; border-radius: 0.35em; text-transform: uppercase; vertical-align: middle; margin-left: 0.5rem\">PRODUCT</span>\n",
       "</mark>\n",
       ", AND METHOD FOR PRODUCING ISOCYANATE COMPOUND USING SAME. The present invention relates to a method of producing a carbamate compound, comprising reacting a fluorine containing carbonic diester compound represented by formula (\n",
       "<mark class=\"entity\" style=\"background: #e4e7d2; padding: 0.45em 0.6em; margin: 0 0.25em; line-height: 1; border-radius: 0.35em;\">\n",
       "    1\n",
       "    <span style=\"font-size: 0.8em; font-weight: bold; line-height: 1; border-radius: 0.35em; text-transform: uppercase; vertical-align: middle; margin-left: 0.5rem\">CARDINAL</span>\n",
       "</mark>\n",
       ") and a non aromatic diamine compound represented by formula (\n",
       "<mark class=\"entity\" style=\"background: #e4e7d2; padding: 0.45em 0.6em; margin: 0 0.25em; line-height: 1; border-radius: 0.35em;\">\n",
       "    2\n",
       "    <span style=\"font-size: 0.8em; font-weight: bold; line-height: 1; border-radius: 0.35em; text-transform: uppercase; vertical-align: middle; margin-left: 0.5rem\">CARDINAL</span>\n",
       "</mark>\n",
       ") without using a catalyst, to thereby produce a carbamate compound represented by formula (\n",
       "<mark class=\"entity\" style=\"background: #e4e7d2; padding: 0.45em 0.6em; margin: 0 0.25em; line-height: 1; border-radius: 0.35em;\">\n",
       "    3\n",
       "    <span style=\"font-size: 0.8em; font-weight: bold; line-height: 1; border-radius: 0.35em; text-transform: uppercase; vertical-align: middle; margin-left: 0.5rem\">CARDINAL</span>\n",
       "</mark>\n",
       "), and a method of producing an isocyanate compound represented by formula (\n",
       "<mark class=\"entity\" style=\"background: #e4e7d2; padding: 0.45em 0.6em; margin: 0 0.25em; line-height: 1; border-radius: 0.35em;\">\n",
       "    20\n",
       "    <span style=\"font-size: 0.8em; font-weight: bold; line-height: 1; border-radius: 0.35em; text-transform: uppercase; vertical-align: middle; margin-left: 0.5rem\">CARDINAL</span>\n",
       "</mark>\n",
       ") from the carbamate compound without using a catalyst, wherein R represents a fluorine containing monovalent aliphatic hydrocarbon group, and A represents a divalent aliphatic hydrocarbon group, a divalent alicyclic hydrocarbon group or a divalent aromatic-aliphatic hydrocarbon group.. CROSS REFERENCE TO RELATED APPLICATIONS. This application is a Divisional of \n",
       "<mark class=\"entity\" style=\"background: #feca74; padding: 0.45em 0.6em; margin: 0 0.25em; line-height: 1; border-radius: 0.35em;\">\n",
       "    U.S.\n",
       "    <span style=\"font-size: 0.8em; font-weight: bold; line-height: 1; border-radius: 0.35em; text-transform: uppercase; vertical-align: middle; margin-left: 0.5rem\">GPE</span>\n",
       "</mark>\n",
       " application \n",
       "<mark class=\"entity\" style=\"background: #7aecec; padding: 0.45em 0.6em; margin: 0 0.25em; line-height: 1; border-radius: 0.35em;\">\n",
       "    Ser\n",
       "    <span style=\"font-size: 0.8em; font-weight: bold; line-height: 1; border-radius: 0.35em; text-transform: uppercase; vertical-align: middle; margin-left: 0.5rem\">ORG</span>\n",
       "</mark>\n",
       ". No. \n",
       "<mark class=\"entity\" style=\"background: #e4e7d2; padding: 0.45em 0.6em; margin: 0 0.25em; line-height: 1; border-radius: 0.35em;\">\n",
       "    13/630,915\n",
       "    <span style=\"font-size: 0.8em; font-weight: bold; line-height: 1; border-radius: 0.35em; text-transform: uppercase; vertical-align: middle; margin-left: 0.5rem\">CARDINAL</span>\n",
       "</mark>\n",
       ", filed \n",
       "<mark class=\"entity\" style=\"background: #bfe1d9; padding: 0.45em 0.6em; margin: 0 0.25em; line-height: 1; border-radius: 0.35em;\">\n",
       "    Sep. 28, 2012\n",
       "    <span style=\"font-size: 0.8em; font-weight: bold; line-height: 1; border-radius: 0.35em; text-transform: uppercase; vertical-align: middle; margin-left: 0.5rem\">DATE</span>\n",
       "</mark>\n",
       " which is a \n",
       "<mark class=\"entity\" style=\"background: #7aecec; padding: 0.45em 0.6em; margin: 0 0.25em; line-height: 1; border-radius: 0.35em;\">\n",
       "    Continuation\n",
       "    <span style=\"font-size: 0.8em; font-weight: bold; line-height: 1; border-radius: 0.35em; text-transform: uppercase; vertical-align: middle; margin-left: 0.5rem\">ORG</span>\n",
       "</mark>\n",
       " application filed under 35 U.S.C. 111(a) claiming the benefit under \n",
       "<mark class=\"entity\" style=\"background: #e4e7d2; padding: 0.45em 0.6em; margin: 0 0.25em; line-height: 1; border-radius: 0.35em;\">\n",
       "    35\n",
       "    <span style=\"font-size: 0.8em; font-weight: bold; line-height: 1; border-radius: 0.35em; text-transform: uppercase; vertical-align: middle; margin-left: 0.5rem\">CARDINAL</span>\n",
       "</mark>\n",
       " \n",
       "<mark class=\"entity\" style=\"background: #feca74; padding: 0.45em 0.6em; margin: 0 0.25em; line-height: 1; border-radius: 0.35em;\">\n",
       "    U.S.C.\n",
       "    <span style=\"font-size: 0.8em; font-weight: bold; line-height: 1; border-radius: 0.35em; text-transform: uppercase; vertical-align: middle; margin-left: 0.5rem\">GPE</span>\n",
       "</mark>\n",
       " §§\n",
       "<mark class=\"entity\" style=\"background: #e4e7d2; padding: 0.45em 0.6em; margin: 0 0.25em; line-height: 1; border-radius: 0.35em;\">\n",
       "    120\n",
       "    <span style=\"font-size: 0.8em; font-weight: bold; line-height: 1; border-radius: 0.35em; text-transform: uppercase; vertical-align: middle; margin-left: 0.5rem\">CARDINAL</span>\n",
       "</mark>\n",
       " and 365(c) of \n",
       "<mark class=\"entity\" style=\"background: #7aecec; padding: 0.45em 0.6em; margin: 0 0.25em; line-height: 1; border-radius: 0.35em;\">\n",
       "    PCT International Application No\n",
       "    <span style=\"font-size: 0.8em; font-weight: bold; line-height: 1; border-radius: 0.35em; text-transform: uppercase; vertical-align: middle; margin-left: 0.5rem\">ORG</span>\n",
       "</mark>\n",
       ". PCT/JP2011/056095 filed on \n",
       "<mark class=\"entity\" style=\"background: #bfe1d9; padding: 0.45em 0.6em; margin: 0 0.25em; line-height: 1; border-radius: 0.35em;\">\n",
       "    Mar. 15, 2011\n",
       "    <span style=\"font-size: 0.8em; font-weight: bold; line-height: 1; border-radius: 0.35em; text-transform: uppercase; vertical-align: middle; margin-left: 0.5rem\">DATE</span>\n",
       "</mark>\n",
       ", which is based upon and claims the benefit of priority of \n",
       "<mark class=\"entity\" style=\"background: #c887fb; padding: 0.45em 0.6em; margin: 0 0.25em; line-height: 1; border-radius: 0.35em;\">\n",
       "    Japanese\n",
       "    <span style=\"font-size: 0.8em; font-weight: bold; line-height: 1; border-radius: 0.35em; text-transform: uppercase; vertical-align: middle; margin-left: 0.5rem\">NORP</span>\n",
       "</mark>\n",
       " Application No. 2010-086126 filed on \n",
       "<mark class=\"entity\" style=\"background: #bfe1d9; padding: 0.45em 0.6em; margin: 0 0.25em; line-height: 1; border-radius: 0.35em;\">\n",
       "    Apr. 2, 2010\n",
       "    <span style=\"font-size: 0.8em; font-weight: bold; line-height: 1; border-radius: 0.35em; text-transform: uppercase; vertical-align: middle; margin-left: 0.5rem\">DATE</span>\n",
       "</mark>\n",
       ", the entire contents of which are hereby incorporated by reference in their entireties.. \n",
       "<mark class=\"entity\" style=\"background: #feca74; padding: 0.45em 0.6em; margin: 0 0.25em; line-height: 1; border-radius: 0.35em;\">\n",
       "    TECHNICAL FIELD\n",
       "    <span style=\"font-size: 0.8em; font-weight: bold; line-height: 1; border-radius: 0.35em; text-transform: uppercase; vertical-align: middle; margin-left: 0.5rem\">GPE</span>\n",
       "</mark>\n",
       ". This invention relates to a method of producing a carbamate compound, a carbamate compound obtained by the method and a method of producing an isocyanate compound using the carbamate compound.. BACKGROUND OF THE \n",
       "<mark class=\"entity\" style=\"background: #7aecec; padding: 0.45em 0.6em; margin: 0 0.25em; line-height: 1; border-radius: 0.35em;\">\n",
       "    INVENTION\n",
       "    <span style=\"font-size: 0.8em; font-weight: bold; line-height: 1; border-radius: 0.35em; text-transform: uppercase; vertical-align: middle; margin-left: 0.5rem\">ORG</span>\n",
       "</mark>\n",
       ". Isocyanate compounds are industrially broadly used as materials of, for example, various urethane compounds and urea compounds; and curing agents of resins and paints.. For example, the following methods are known as the method of producing isocyanate compounds.. (\n",
       "<mark class=\"entity\" style=\"background: #e4e7d2; padding: 0.45em 0.6em; margin: 0 0.25em; line-height: 1; border-radius: 0.35em;\">\n",
       "    1\n",
       "    <span style=\"font-size: 0.8em; font-weight: bold; line-height: 1; border-radius: 0.35em; text-transform: uppercase; vertical-align: middle; margin-left: 0.5rem\">CARDINAL</span>\n",
       "</mark>\n",
       ") A method of reacting a primary amine with phosgene. This is mainly used industrially.. (\n",
       "<mark class=\"entity\" style=\"background: #e4e7d2; padding: 0.45em 0.6em; margin: 0 0.25em; line-height: 1; border-radius: 0.35em;\">\n",
       "    2\n",
       "    <span style=\"font-size: 0.8em; font-weight: bold; line-height: 1; border-radius: 0.35em; text-transform: uppercase; vertical-align: middle; margin-left: 0.5rem\">CARDINAL</span>\n",
       "</mark>\n",
       ") A method of thermally decomposing a carbamate compound having -N(H)-C(O)O- in its molecule in the presence of a catalyst (e.g. Patent Reference 1).. (\n",
       "<mark class=\"entity\" style=\"background: #e4e7d2; padding: 0.45em 0.6em; margin: 0 0.25em; line-height: 1; border-radius: 0.35em;\">\n",
       "    3\n",
       "    <span style=\"font-size: 0.8em; font-weight: bold; line-height: 1; border-radius: 0.35em; text-transform: uppercase; vertical-align: middle; margin-left: 0.5rem\">CARDINAL</span>\n",
       "</mark>\n",
       ") A method in which a non aromatic carbamate compound is obtained by reacting a non aromatic diamine, which does not have such a structure that the amino groups directly bonded to an aromatic ring, with an alkylaryl carbonate in the absence of a catalyst, and then it is converted into an isocyanate compound by thermal decomposition in the presence of a catalyst (Patent Reference 2).. (\n",
       "<mark class=\"entity\" style=\"background: #e4e7d2; padding: 0.45em 0.6em; margin: 0 0.25em; line-height: 1; border-radius: 0.35em;\">\n",
       "    4\n",
       "    <span style=\"font-size: 0.8em; font-weight: bold; line-height: 1; border-radius: 0.35em; text-transform: uppercase; vertical-align: middle; margin-left: 0.5rem\">CARDINAL</span>\n",
       "</mark>\n",
       ") A method of obtaining an isocyanate compound by thermally decomposing an aromatic carbamate compound having a fluorine atom in its molecule in the absence of a catalyst (Patent Reference \n",
       "<mark class=\"entity\" style=\"background: #e4e7d2; padding: 0.45em 0.6em; margin: 0 0.25em; line-height: 1; border-radius: 0.35em;\">\n",
       "    3\n",
       "    <span style=\"font-size: 0.8em; font-weight: bold; line-height: 1; border-radius: 0.35em; text-transform: uppercase; vertical-align: middle; margin-left: 0.5rem\">CARDINAL</span>\n",
       "</mark>\n",
       ").. (\n",
       "<mark class=\"entity\" style=\"background: #e4e7d2; padding: 0.45em 0.6em; margin: 0 0.25em; line-height: 1; border-radius: 0.35em;\">\n",
       "    5\n",
       "    <span style=\"font-size: 0.8em; font-weight: bold; line-height: 1; border-radius: 0.35em; text-transform: uppercase; vertical-align: middle; margin-left: 0.5rem\">CARDINAL</span>\n",
       "</mark>\n",
       "</div>"
      ],
      "text/plain": [
       "<IPython.core.display.HTML object>"
      ]
     },
     "metadata": {},
     "output_type": "display_data"
    }
   ],
   "source": [
    "displacy.render(d[:500],style='ent',jupyter=True)"
   ]
  },
  {
   "cell_type": "code",
   "execution_count": 33,
   "metadata": {},
   "outputs": [
    {
     "name": "stdout",
     "output_type": "stream",
     "text": [
      "published\n",
      "publish\n",
      "VBN\n"
     ]
    }
   ],
   "source": [
    "print(d[1].text)\n",
    "print(d[1].lemma_)\n",
    "print(d[1].tag_)\n"
   ]
  },
  {
   "cell_type": "code",
   "execution_count": null,
   "metadata": {},
   "outputs": [],
   "source": []
  },
  {
   "cell_type": "code",
   "execution_count": 39,
   "metadata": {},
   "outputs": [],
   "source": [
    "def spacy_cleaning(\n",
    "    document,\n",
    "    tags_to_keep=['JJ', 'NN', 'NNS', 'VB', 'VBD', 'VBG', 'VBN', 'VBP', 'VBZ'],\n",
    "    entities_to_remove=['ORG,NORP,GPE,PERSON']):\n",
    "\n",
    "    def pass_test(w, tags=tags_to_keep):\n",
    "        if w.ent_type_ == 0:\n",
    "                return w.tag_ in tags and not w.is_punct and not w.is_stop and w.ent_ not in entities_to_remove\n",
    "        return w.tag_ in tags and not w.is_punct and not w.is_stop \n",
    "\n",
    "    words = [ word for word in d if pass_test(word)]\n",
    "    tokens = [ word.lemma_.lower().strip() if word.lemma_ != \"-PRON-\" else word.lower_ for word in words ]\n",
    "    return ' '.join(tokens)"
   ]
  },
  {
   "cell_type": "code",
   "execution_count": 40,
   "metadata": {},
   "outputs": [
    {
     "name": "stdout",
     "output_type": "stream",
     "text": [
      "application publish asahi glas method produce carbamate compound carbamate compound method produce isocyanate compound present invention relate method produce carbamate compound comprise react fluorine contain carbonic diester compound represent formula aromatic diamine compound represent formula catalyst produce carbamate compound represent formula method produce isocyanate compound represent formula carbamate compound catalyst represent fluorine contain represent divalent divalent divalent aromatic hydrocarbon group cross related application application application file application file claim benefit file base claim benefit priority japanese file entire content incorporate reference entirety field invention relate method produce carbamate compound carbamate compound obtain method method produce isocyanate compound carbamate compound background invention compound material example urethane compound urea compound cure agent resin paint example follow method know method produce isocyanat\n"
     ]
    }
   ],
   "source": [
    "tokens = spacy_cleaning(d)\n",
    "tokens[250:500]\n",
    "print(tokens[:1000])"
   ]
  },
  {
   "cell_type": "code",
   "execution_count": 41,
   "metadata": {},
   "outputs": [
    {
     "data": {
      "text/plain": [
       "Application published. OKAZOE, Takashi;Nagasaki, Yuko;Okamoto, Hidekazu. Asahi Glass Company, Limited;ASAHI GLASS. ASAHI GLASS. METHOD FOR PRODUCING CARBAMATE COMPOUND, CARBAMATE COMPOUND, AND METHOD FOR PRODUCING ISOCYANATE COMPOUND USING SAME. The present invention relates to a method of producing a carbamate compound, comprising reacting a fluorine containing carbonic diester compound represented by formula (1) and a non aromatic diamine compound represented by formula (2) without using a catalyst, to thereby produce a carbamate compound represented by formula (3), and a method of producing an isocyanate compound represented by formula (20) from the carbamate compound without using a catalyst, wherein R represents a fluorine containing monovalent aliphatic hydrocarbon group, and A represents a divalent aliphatic hydrocarbon group, a divalent alicyclic hydrocarbon group or a divalent aromatic-aliphatic hydrocarbon group.. CROSS REFERENCE TO RELATED APPLICATIONS. This application is a Divisional of U.S. application Ser. No. 13/630,915, filed Sep. 28, 2012 which is a Continuation application filed under 35 U.S.C. 111(a) claiming the benefit under 35 U.S.C. §§120 and 365(c) of PCT International Application No. PCT/JP2011/056095 filed on Mar. 15, 2011, which is based upon and claims the benefit of priority of Japanese Application No. 2010-086126 filed on Apr. 2, 2010, the entire contents of which are hereby incorporated by reference in their entireties.. TECHNICAL FIELD. This invention relates to a method of producing a carbamate compound, a carbamate compound obtained by the method and a method of producing an isocyanate compound using the carbamate compound.. BACKGROUND OF THE INVENTION. Isocyanate compounds are industrially broadly used as materials of, for example, various urethane compounds and urea compounds; and curing agents of resins and paints.. For example, the following methods are known as the method of producing isocyanate compounds.. (1) A method of reacting a primary amine with phosgene. This is mainly used industrially.. (2) A method of thermally decomposing a carbamate compound having -N(H)-C(O)O- in its molecule in the presence of a catalyst (e.g. Patent Reference 1).. (3) A method in which a non aromatic carbamate compound is obtained by reacting a non aromatic diamine, which does not have such a structure that the amino groups directly bonded to an aromatic ring, with an alkylaryl carbonate in the absence of a catalyst, and then it is converted into an isocyanate compound by thermal decomposition in the presence of a catalyst (Patent Reference 2).. (4) A method of obtaining an isocyanate compound by thermally decomposing an aromatic carbamate compound having a fluorine atom in its molecule in the absence of a catalyst (Patent Reference 3).. (5) A method in which a carbamate compound having a fluorine atom in its molecule is obtained by reacting a polyamine and a fluorine containing carbonic diester in the presence of a catalyst, and then it is converted into an isocyanate compound by thermal decomposition in the absence of a catalyst (Patent References 4 and 5).. (6) A method of obtaining an isocyanate compound by a de-chloroform reaction of trichloroacetamides in N,N-dimethylformamide in the presence of sodium carbonate (Non-patent Reference 1).. CITATION LIST. Patent Literature. - Patent Reference 1: Japanese Patent No. 4328109. - Patent Reference 2: Japanese Patent No. 4298995. - Patent Reference 3: JP-T-2002-500654. - Patent Reference 4: JP-A-2009-108034. - Patent Reference 5: WO 2009/098327. Non Patent Literature. - Non-patent Reference 1: ORGANIC LETTERS, 2006, vol. 8, no. 15, p. 3263-3265. SUMMARY OF THE INVENTION. Technical Problem. However, the method of the above-mentioned (1) is difficult to handle because phosgene has toxicity.. The method of the above-mentioned (2) requires a catalyst for accelerating the thermal decomposition because the thermal decomposition rate of the carbamate compound is very slow. When such a catalyst is used, it becomes necessary to carry out an operation of separating the catalyst after obtaining the target isocyanate compound. However, this poses problems such that, for example, the separation operation is not easy, and the amount of the target compound formed per unit mass of the catalyst is small.. The method of the above-mentioned (3) can provide a non aromatic carbamate compound without using a catalyst, but the conversion of the obtained non aromatic carbamate compound into an isocyanate compound still requires a catalyst, so that the problems due to the use of a catalyst cannot be solved.. The method of the above-mentioned (4) is limited to a method of obtaining an aromatic isocyanate compound without a catalyst from an aromatic carbamate compound.. The method of the above-mentioned (5) requires a catalyst at the time of obtaining a fluorine containing carbamate compound from a fluorine containing carbonic diester compound, so that the problems due to the use of a catalyst cannot be solved.. The method of the above-mentioned (6) also requires a catalyst, so that the problems due to the use of a catalyst cannot be solved.. The invention has been made in order to solve the above-mentioned problems, and it provides: a method of producing a carbamate compound that can provide"
      ]
     },
     "execution_count": 41,
     "metadata": {},
     "output_type": "execute_result"
    }
   ],
   "source": [
    "d[:1000]"
   ]
  },
  {
   "cell_type": "code",
   "execution_count": null,
   "metadata": {},
   "outputs": [],
   "source": []
  }
 ],
 "metadata": {
  "kernelspec": {
   "display_name": "Python 3",
   "language": "python",
   "name": "python3"
  },
  "language_info": {
   "codemirror_mode": {
    "name": "ipython",
    "version": 3
   },
   "file_extension": ".py",
   "mimetype": "text/x-python",
   "name": "python",
   "nbconvert_exporter": "python",
   "pygments_lexer": "ipython3",
   "version": "3.7.4"
  },
  "varInspector": {
   "cols": {
    "lenName": 16,
    "lenType": 16,
    "lenVar": 40
   },
   "kernels_config": {
    "python": {
     "delete_cmd_postfix": "",
     "delete_cmd_prefix": "del ",
     "library": "var_list.py",
     "varRefreshCmd": "print(var_dic_list())"
    },
    "r": {
     "delete_cmd_postfix": ") ",
     "delete_cmd_prefix": "rm(",
     "library": "var_list.r",
     "varRefreshCmd": "cat(var_dic_list()) "
    }
   },
   "types_to_exclude": [
    "module",
    "function",
    "builtin_function_or_method",
    "instance",
    "_Feature"
   ],
   "window_display": false
  }
 },
 "nbformat": 4,
 "nbformat_minor": 2
}
