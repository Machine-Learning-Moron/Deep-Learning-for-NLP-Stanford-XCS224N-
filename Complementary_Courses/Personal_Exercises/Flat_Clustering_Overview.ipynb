{
 "cells": [
  {
   "cell_type": "markdown",
   "metadata": {},
   "source": [
    "## Data Preparation"
   ]
  },
  {
   "cell_type": "code",
   "execution_count": 1,
   "metadata": {},
   "outputs": [],
   "source": [
    "import os\n",
    "import pickle\n",
    "from pprint import pprint\n",
    "from os.path import join as JP\n",
    "\n",
    "import numpy as np\n",
    "import pandas as pd\n",
    "import matplotlib.pyplot as plt\n",
    "from collections import defaultdict\n",
    "\n",
    "from utils.nlp_utils import preproces\n",
    "from utils.general import parse_yaml, ensure_directories\n",
    "\n",
    "from scripts.catalog import (\n",
    "    Catalog, Document, Corpus,\n",
    "    load_catalog, load_corpus)\n",
    "\n",
    "config = parse_yaml('config.yaml')\n",
    "paths = config['paths']\n",
    "ensure_directories(paths)"
   ]
  },
  {
   "cell_type": "code",
   "execution_count": 2,
   "metadata": {},
   "outputs": [],
   "source": [
    "catalog = Catalog()"
   ]
  },
  {
   "cell_type": "markdown",
   "metadata": {},
   "source": [
    "## Load Catalog"
   ]
  },
  {
   "cell_type": "code",
   "execution_count": 3,
   "metadata": {},
   "outputs": [],
   "source": [
    "catalog = load_catalog(path=paths['catalog'],name='spacy_pipeline_on_US_corpus')\n",
    "# catalog.documents[0].sp_doc"
   ]
  },
  {
   "cell_type": "markdown",
   "metadata": {},
   "source": [
    "## Load Corpus into Catalog"
   ]
  },
  {
   "cell_type": "code",
   "execution_count": 54,
   "metadata": {},
   "outputs": [
    {
     "data": {
      "text/plain": [
       "'[OK] Corpus loaded into Catalog'"
      ]
     },
     "execution_count": 54,
     "metadata": {},
     "output_type": "execute_result"
    }
   ],
   "source": [
    "corpus = load_corpus(path=paths['catalog'], name='only_en_countries')\n",
    "catalog.load_corpus(corpus=corpus)\n",
    "# catalog.save(path=paths['catalog'],name='test1_clean')"
   ]
  },
  {
   "cell_type": "markdown",
   "metadata": {},
   "source": [
    "### Filter down the catalog"
   ]
  },
  {
   "cell_type": "code",
   "execution_count": 4,
   "metadata": {},
   "outputs": [
    {
     "name": "stdout",
     "output_type": "stream",
     "text": [
      "Catalog recuded from 15 to 15\n"
     ]
    }
   ],
   "source": [
    "OF_INTEREST = ['US'] # ['CA','AU']\n",
    "filters = dict(\n",
    "    topic = ['isocyanate'],\n",
    "    country = OF_INTEREST,\n",
    "    raw_text_len = 5000)\n",
    "\n",
    "sub_catalog = catalog.filter_catalog(filters)\n",
    "sub_catalog.documents = sub_catalog.documents[:15]\n",
    "print('Catalog recuded from {} to {}'.format(\n",
    "    len(catalog.documents), len(sub_catalog.documents)))"
   ]
  },
  {
   "cell_type": "markdown",
   "metadata": {},
   "source": [
    "### SPLIT CATALOG INTO THE TWO CATEGORIES"
   ]
  },
  {
   "cell_type": "code",
   "execution_count": 5,
   "metadata": {},
   "outputs": [
    {
     "name": "stdout",
     "output_type": "stream",
     "text": [
      "Positive documents:  15\n",
      "Negative documents:  0\n"
     ]
    }
   ],
   "source": [
    "filters = dict(label='relevant')\n",
    "pos_catalog = sub_catalog.filter_catalog(filters)\n",
    "\n",
    "filters = dict(label='irrelevant')\n",
    "neg_catalog = sub_catalog.filter_catalog(filters)\n",
    "\n",
    "print('Positive documents: ',len(pos_catalog.documents))\n",
    "print('Negative documents: ',len(neg_catalog.documents))"
   ]
  },
  {
   "cell_type": "markdown",
   "metadata": {},
   "source": [
    "#### Working for the Positive Labels since this is only for testing"
   ]
  },
  {
   "cell_type": "code",
   "execution_count": 6,
   "metadata": {},
   "outputs": [],
   "source": [
    "catalog = pos_catalog"
   ]
  },
  {
   "cell_type": "markdown",
   "metadata": {},
   "source": [
    "## Spacy"
   ]
  },
  {
   "cell_type": "code",
   "execution_count": 7,
   "metadata": {},
   "outputs": [],
   "source": [
    "import spacy\n",
    "nlp = spacy.load('en_core_web_sm')\n",
    "spacy_stopwords = spacy.lang.en.stop_words.STOP_WORDS"
   ]
  },
  {
   "cell_type": "code",
   "execution_count": 8,
   "metadata": {},
   "outputs": [
    {
     "data": {
      "text/plain": [
       "'Application published. OKAZOE, Takashi;Nagasaki, Y'"
      ]
     },
     "execution_count": 8,
     "metadata": {},
     "output_type": "execute_result"
    }
   ],
   "source": [
    "document = catalog.documents[0]\n",
    "document.clean_text[:50]"
   ]
  },
  {
   "cell_type": "code",
   "execution_count": 9,
   "metadata": {},
   "outputs": [],
   "source": [
    "def spacy_cleaning(\n",
    "    document,\n",
    "    tags_to_keep=['JJ', 'NN', 'NNS', 'VB', 'VBD', 'VBG', 'VBN', 'VBP', 'VBZ'],\n",
    "    entities_to_remove=['ORG,NORP,GPE,PERSON']):\n",
    "\n",
    "    def pass_test(w, tags=tags_to_keep):\n",
    "        if w.ent_type_ == 0:\n",
    "                return w.tag_ in tags and not w.is_punct and not w.is_stop and w.ent_ not in entities_to_remove\n",
    "        return w.tag_ in tags and not w.is_punct and not w.is_stop \n",
    "\n",
    "    words = [ word for word in document if pass_test(word)]\n",
    "    tokens = [ word.lemma_.lower().strip() if word.lemma_ != \"-PRON-\" else word.lower_ for word in words ]\n",
    "    return ' '.join(tokens)"
   ]
  },
  {
   "cell_type": "markdown",
   "metadata": {},
   "source": [
    "#### Apply intense cleaning and save Catalog instance"
   ]
  },
  {
   "cell_type": "code",
   "execution_count": 61,
   "metadata": {
    "deletable": false,
    "editable": false,
    "run_control": {
     "frozen": true
    }
   },
   "outputs": [
    {
     "name": "stdout",
     "output_type": "stream",
     "text": [
      "[INFO]: Parsing doc  0\n",
      "[INFO]: Parsing doc  1\n",
      "[INFO]: Parsing doc  2\n",
      "[INFO]: Parsing doc  3\n",
      "[INFO]: Parsing doc  4\n",
      "[INFO]: Parsing doc  5\n",
      "[INFO]: Parsing doc  6\n",
      "[INFO]: Parsing doc  7\n",
      "[INFO]: Parsing doc  8\n",
      "[INFO]: Parsing doc  9\n",
      "[INFO]: Parsing doc  10\n",
      "[INFO]: Parsing doc  11\n",
      "[INFO]: Parsing doc  12\n",
      "[INFO]: Parsing doc  13\n",
      "[INFO]: Parsing doc  14\n"
     ]
    }
   ],
   "source": [
    "for d,doc in enumerate(catalog.documents):\n",
    "    print('[INFO]: Parsing doc ',d)\n",
    "    catalog.documents[d].processed_text = spacy_cleaning(nlp(doc.clean_text))\n",
    "catalog.save(path=paths['catalog'],name='spacy_pipeline_on_US_corpus')"
   ]
  },
  {
   "cell_type": "code",
   "execution_count": 10,
   "metadata": {},
   "outputs": [
    {
     "data": {
      "text/plain": [
       "'application publish asahi glas method produce carb'"
      ]
     },
     "execution_count": 10,
     "metadata": {},
     "output_type": "execute_result"
    }
   ],
   "source": [
    "catalog.documents[0].processed_text[:50]"
   ]
  },
  {
   "cell_type": "markdown",
   "metadata": {},
   "source": [
    "### Collect the Corpus for Sklearn"
   ]
  },
  {
   "cell_type": "code",
   "execution_count": 11,
   "metadata": {},
   "outputs": [
    {
     "data": {
      "text/plain": [
       "'application publish asahi glas method produce carbamate compound carbamate compound method produce isocyanate compound present invention relate method produce carbamate compound comprise react fluorine contain carbonic diester compound represent formula aromatic diamine compound represent formula catalyst produce carbamate compound represent formula method produce isocyanate compound represent formula carbamate compound catalyst represent fluorine contain represent divalent divalent divalent aro'"
      ]
     },
     "execution_count": 11,
     "metadata": {},
     "output_type": "execute_result"
    }
   ],
   "source": [
    "corpus = catalog.collect_corpus(attr='processed_text', form=list)\n",
    "document = corpus[0]\n",
    "document[:500]"
   ]
  },
  {
   "cell_type": "markdown",
   "metadata": {},
   "source": [
    "## TFIDF"
   ]
  },
  {
   "cell_type": "code",
   "execution_count": 296,
   "metadata": {},
   "outputs": [],
   "source": [
    "from nltk.corpus import stopwords\n",
    "from sklearn.feature_extraction.text import TfidfVectorizer"
   ]
  },
  {
   "cell_type": "code",
   "execution_count": 329,
   "metadata": {},
   "outputs": [],
   "source": [
    "EMBED_SIZE = 10000        # TODO: Increase\n",
    "NUM_CLUSTERS = 4\n",
    "WORDS_PER_CLUSTER = 50"
   ]
  },
  {
   "cell_type": "code",
   "execution_count": 330,
   "metadata": {},
   "outputs": [],
   "source": [
    "vectorizer = TfidfVectorizer(\n",
    "    min_df=.1,\n",
    "    max_df=.7,\n",
    "    norm='l2',\n",
    "    use_idf=True,\n",
    "    smooth_idf=True,\n",
    "    max_features=EMBED_SIZE,\n",
    "    ngram_range=(1,3),\n",
    "    lowercase=True,\n",
    "    stop_words=stopwords.words('english'))"
   ]
  },
  {
   "cell_type": "code",
   "execution_count": 331,
   "metadata": {},
   "outputs": [
    {
     "name": "stdout",
     "output_type": "stream",
     "text": [
      "(15, 9936)\n"
     ]
    },
    {
     "data": {
      "text/html": [
       "<div>\n",
       "<style scoped>\n",
       "    .dataframe tbody tr th:only-of-type {\n",
       "        vertical-align: middle;\n",
       "    }\n",
       "\n",
       "    .dataframe tbody tr th {\n",
       "        vertical-align: top;\n",
       "    }\n",
       "\n",
       "    .dataframe thead th {\n",
       "        text-align: right;\n",
       "    }\n",
       "</style>\n",
       "<table border=\"1\" class=\"dataframe\">\n",
       "  <thead>\n",
       "    <tr style=\"text-align: right;\">\n",
       "      <th></th>\n",
       "      <th>0000</th>\n",
       "      <th>0000 process</th>\n",
       "      <th>0000 process produce</th>\n",
       "      <th>0011</th>\n",
       "      <th>0015</th>\n",
       "      <th>0018</th>\n",
       "      <th>0021</th>\n",
       "      <th>0023</th>\n",
       "      <th>0028</th>\n",
       "      <th>0031</th>\n",
       "      <th>...</th>\n",
       "      <th>yield loss</th>\n",
       "      <th>yield low</th>\n",
       "      <th>yield method</th>\n",
       "      <th>yield mol</th>\n",
       "      <th>yield reaction</th>\n",
       "      <th>zeolite</th>\n",
       "      <th>zeolite diatomaceous</th>\n",
       "      <th>zeolite diatomaceous earth</th>\n",
       "      <th>zinc</th>\n",
       "      <th>zirconium</th>\n",
       "    </tr>\n",
       "  </thead>\n",
       "  <tbody>\n",
       "    <tr>\n",
       "      <th>0</th>\n",
       "      <td>0.000000</td>\n",
       "      <td>0.000000</td>\n",
       "      <td>0.000000</td>\n",
       "      <td>0.0</td>\n",
       "      <td>0.005967</td>\n",
       "      <td>0.000000</td>\n",
       "      <td>0.000000</td>\n",
       "      <td>0.000000</td>\n",
       "      <td>0.000000</td>\n",
       "      <td>0.000000</td>\n",
       "      <td>...</td>\n",
       "      <td>0.000000</td>\n",
       "      <td>0.000000</td>\n",
       "      <td>0.0</td>\n",
       "      <td>0.005967</td>\n",
       "      <td>0.004827</td>\n",
       "      <td>0.000000</td>\n",
       "      <td>0.000000</td>\n",
       "      <td>0.000000</td>\n",
       "      <td>0.004420</td>\n",
       "      <td>0.000000</td>\n",
       "    </tr>\n",
       "    <tr>\n",
       "      <th>1</th>\n",
       "      <td>0.000000</td>\n",
       "      <td>0.000000</td>\n",
       "      <td>0.000000</td>\n",
       "      <td>0.0</td>\n",
       "      <td>0.000000</td>\n",
       "      <td>0.000000</td>\n",
       "      <td>0.003749</td>\n",
       "      <td>0.003749</td>\n",
       "      <td>0.000000</td>\n",
       "      <td>0.003749</td>\n",
       "      <td>...</td>\n",
       "      <td>0.000000</td>\n",
       "      <td>0.000000</td>\n",
       "      <td>0.0</td>\n",
       "      <td>0.000000</td>\n",
       "      <td>0.000000</td>\n",
       "      <td>0.003033</td>\n",
       "      <td>0.000000</td>\n",
       "      <td>0.000000</td>\n",
       "      <td>0.000000</td>\n",
       "      <td>0.000000</td>\n",
       "    </tr>\n",
       "    <tr>\n",
       "      <th>2</th>\n",
       "      <td>0.001422</td>\n",
       "      <td>0.000474</td>\n",
       "      <td>0.000474</td>\n",
       "      <td>0.0</td>\n",
       "      <td>0.000000</td>\n",
       "      <td>0.000474</td>\n",
       "      <td>0.000474</td>\n",
       "      <td>0.000474</td>\n",
       "      <td>0.000474</td>\n",
       "      <td>0.000000</td>\n",
       "      <td>...</td>\n",
       "      <td>0.000474</td>\n",
       "      <td>0.000474</td>\n",
       "      <td>0.0</td>\n",
       "      <td>0.000000</td>\n",
       "      <td>0.000767</td>\n",
       "      <td>0.000384</td>\n",
       "      <td>0.000474</td>\n",
       "      <td>0.000474</td>\n",
       "      <td>0.000351</td>\n",
       "      <td>0.000474</td>\n",
       "    </tr>\n",
       "    <tr>\n",
       "      <th>3</th>\n",
       "      <td>0.000000</td>\n",
       "      <td>0.000000</td>\n",
       "      <td>0.000000</td>\n",
       "      <td>0.0</td>\n",
       "      <td>0.000000</td>\n",
       "      <td>0.000000</td>\n",
       "      <td>0.000000</td>\n",
       "      <td>0.000000</td>\n",
       "      <td>0.000000</td>\n",
       "      <td>0.000000</td>\n",
       "      <td>...</td>\n",
       "      <td>0.000000</td>\n",
       "      <td>0.007083</td>\n",
       "      <td>0.0</td>\n",
       "      <td>0.000000</td>\n",
       "      <td>0.000000</td>\n",
       "      <td>0.000000</td>\n",
       "      <td>0.000000</td>\n",
       "      <td>0.000000</td>\n",
       "      <td>0.000000</td>\n",
       "      <td>0.000000</td>\n",
       "    </tr>\n",
       "    <tr>\n",
       "      <th>4</th>\n",
       "      <td>0.000000</td>\n",
       "      <td>0.000000</td>\n",
       "      <td>0.000000</td>\n",
       "      <td>0.0</td>\n",
       "      <td>0.000000</td>\n",
       "      <td>0.000000</td>\n",
       "      <td>0.000000</td>\n",
       "      <td>0.000000</td>\n",
       "      <td>0.000000</td>\n",
       "      <td>0.000000</td>\n",
       "      <td>...</td>\n",
       "      <td>0.000000</td>\n",
       "      <td>0.000000</td>\n",
       "      <td>0.0</td>\n",
       "      <td>0.000000</td>\n",
       "      <td>0.000000</td>\n",
       "      <td>0.000000</td>\n",
       "      <td>0.000000</td>\n",
       "      <td>0.000000</td>\n",
       "      <td>0.000000</td>\n",
       "      <td>0.000000</td>\n",
       "    </tr>\n",
       "  </tbody>\n",
       "</table>\n",
       "<p>5 rows × 9936 columns</p>\n",
       "</div>"
      ],
      "text/plain": [
       "       0000  0000 process  0000 process produce  0011      0015      0018  \\\n",
       "0  0.000000      0.000000              0.000000   0.0  0.005967  0.000000   \n",
       "1  0.000000      0.000000              0.000000   0.0  0.000000  0.000000   \n",
       "2  0.001422      0.000474              0.000474   0.0  0.000000  0.000474   \n",
       "3  0.000000      0.000000              0.000000   0.0  0.000000  0.000000   \n",
       "4  0.000000      0.000000              0.000000   0.0  0.000000  0.000000   \n",
       "\n",
       "       0021      0023      0028      0031  ...  yield loss  yield low  \\\n",
       "0  0.000000  0.000000  0.000000  0.000000  ...    0.000000   0.000000   \n",
       "1  0.003749  0.003749  0.000000  0.003749  ...    0.000000   0.000000   \n",
       "2  0.000474  0.000474  0.000474  0.000000  ...    0.000474   0.000474   \n",
       "3  0.000000  0.000000  0.000000  0.000000  ...    0.000000   0.007083   \n",
       "4  0.000000  0.000000  0.000000  0.000000  ...    0.000000   0.000000   \n",
       "\n",
       "   yield method  yield mol  yield reaction   zeolite  zeolite diatomaceous  \\\n",
       "0           0.0   0.005967        0.004827  0.000000              0.000000   \n",
       "1           0.0   0.000000        0.000000  0.003033              0.000000   \n",
       "2           0.0   0.000000        0.000767  0.000384              0.000474   \n",
       "3           0.0   0.000000        0.000000  0.000000              0.000000   \n",
       "4           0.0   0.000000        0.000000  0.000000              0.000000   \n",
       "\n",
       "   zeolite diatomaceous earth      zinc  zirconium  \n",
       "0                    0.000000  0.004420   0.000000  \n",
       "1                    0.000000  0.000000   0.000000  \n",
       "2                    0.000474  0.000351   0.000474  \n",
       "3                    0.000000  0.000000   0.000000  \n",
       "4                    0.000000  0.000000   0.000000  \n",
       "\n",
       "[5 rows x 9936 columns]"
      ]
     },
     "execution_count": 331,
     "metadata": {},
     "output_type": "execute_result"
    }
   ],
   "source": [
    "tfidf = pos_catalog.to_matrix(\n",
    "    vectorizer=vectorizer,\n",
    "    modelname='TFIDF',\n",
    "    max_docs=None)\n",
    "print(tfidf.representation.shape)\n",
    "tfidf.representation.head()"
   ]
  },
  {
   "cell_type": "code",
   "execution_count": 359,
   "metadata": {},
   "outputs": [],
   "source": [
    "from sklearn.cluster import KMeans\n",
    "def kmean_clustering(\n",
    "    model, # class Model\n",
    "    num_clusters:int=4, \n",
    "    words_per_cluster:int=None):\n",
    "    '''\n",
    "    TODO: Consider MiniBatchKMeans\n",
    "    \n",
    "    Clusters using k-mean with k words per cluster\n",
    "    ----------------------------------------------\n",
    "        The k-words are the k closest to the centroid of that cluster\n",
    "        Equivalently: the words are the ones most present in the 'fake'\n",
    "        document represented by the centroid of the cluster\n",
    "\n",
    "    Inputs:\n",
    "    -------\n",
    "        - model: Trained instance of class Model\n",
    "        - num_clusters: Number of Clusters to look for\n",
    "        - words_per_cluster: K parameter above\n",
    "\n",
    "    Returns:\n",
    "    -------- \n",
    "        - Dict key='cluster id', value=k_words_closest_to_centroid\n",
    "    '''\n",
    "    km = KMeans(\n",
    "        n_clusters=num_clusters,\n",
    "        n_jobs=-1,\n",
    "        random_state=43)\n",
    "    \n",
    "    # 1. Performs K-Means algorithm to identify clusters\n",
    "    clusters=km.fit(model.representation)\n",
    "\n",
    "    # 2. Bring K most similar words to centroid\n",
    "    closests_words_to_centroids = clusters.cluster_centers_.argsort()[:, :-words_per_cluster:-1] \n",
    "    \n",
    "    # 3. Create a dictionary {'cluster_id': 'important_words'}\n",
    "    cluster_words = defaultdict(list)\n",
    "    for i in range(num_clusters):\n",
    "        for idx in closests_words_to_centroids[i, :words_per_cluster]:\n",
    "            cluster_words[i].append(model.id2token[idx])\n",
    "    return cluster_words"
   ]
  },
  {
   "cell_type": "code",
   "execution_count": 362,
   "metadata": {},
   "outputs": [],
   "source": [
    "## CALCULATE ALL IN ONE STEPs\n",
    "cluster_words = kmean_clustering(\n",
    "    model=tfidf,\n",
    "    num_clusters=NUM_CLUSTERS,\n",
    "    words_per_cluster=5)"
   ]
  },
  {
   "cell_type": "code",
   "execution_count": 365,
   "metadata": {},
   "outputs": [
    {
     "data": {
      "text/plain": [
       "defaultdict(list,\n",
       "            {0: ['carbamate', 'isomer', 'atom', 'include isomer'],\n",
       "             1: ['mixer', 'nozzle', 'conduit', 'static'],\n",
       "             2: ['aniline', 'second', 'tube', 'stream'],\n",
       "             3: ['polyisocyanate', 'membrane', 'weight', 'terminate']})"
      ]
     },
     "execution_count": 365,
     "metadata": {},
     "output_type": "execute_result"
    }
   ],
   "source": [
    "cluster_words"
   ]
  },
  {
   "cell_type": "markdown",
   "metadata": {},
   "source": [
    "## What is the importance of each word within the cluster?   \n",
    "We are going to use different combinations of the TF with the IDF for each word to compute a single number.  \n",
    "Note that the TF is a vector of size the number of documents.  \n",
    "\n",
    "#### Q1: SHOULD THE TF BE REDUCED TO ONLY THOSE DOCS OF THE CLUSTER???   \n",
    " - IF NOT, TF WOULD BE n_doc LARGE VECTOR, \n",
    " - ELSE, TF WOULD BE n_docs_in_cluster LONG VECTOR"
   ]
  },
  {
   "cell_type": "markdown",
   "metadata": {},
   "source": [
    "#### CASE 0: TAKING INTO ACCOUNT ALL  \n",
    "##### TAKING CLUSTER 0 AS EXAMPLE"
   ]
  },
  {
   "cell_type": "code",
   "execution_count": 263,
   "metadata": {},
   "outputs": [],
   "source": [
    "\"\"\"\n",
    "def _subsample_tfidf_by_cluster(tfidf,words):\n",
    "    ''' Return a sample version of a TFIDF for the words of a cluster \n",
    "    NOTE: This functions implmented compute_word_importance()'''\n",
    "    return tfidf[words]\n",
    "\"\"\"\n",
    "\n",
    "def get_tf_idf_of_word_from_tfidf_matrix(model,k,v):\n",
    "    ''' Get the TF vector and IDF float of an specific term '''\n",
    "    return model.representation[[k]].values, model.mapping.idf_[v]\n",
    "\n",
    "def compute_word_importance(model,words_of_cluster=None):\n",
    "    ''' Compute the importance of a word given the TFIDF for a bunch of\n",
    "    importance methods '''\n",
    "    scores = defaultdict(list)\n",
    "    if not words_of_cluster: words_of_cluster = model.token2id.keys()\n",
    "    for k,v in model.token2id.items():\n",
    "        # With this comparison we save a lot of time\n",
    "        if k in words_of_cluster:\n",
    "            scores['words'].append(k)\n",
    "            t,i = get_tf_idf_of_word_from_tfidf_matrix(model,k,v)\n",
    "            scores['idf'].append(i)\n",
    "            scores['max_tf_idf'].append(np.max(t)*i)\n",
    "            scores['avg_tf_idf'].append(np.max(t)*i)\n",
    "            scores['norm_tf_idf'].append(np.linalg.norm(t)*i)\n",
    "    return scores"
   ]
  },
  {
   "cell_type": "code",
   "execution_count": 278,
   "metadata": {},
   "outputs": [
    {
     "data": {
      "text/html": [
       "<div>\n",
       "<style scoped>\n",
       "    .dataframe tbody tr th:only-of-type {\n",
       "        vertical-align: middle;\n",
       "    }\n",
       "\n",
       "    .dataframe tbody tr th {\n",
       "        vertical-align: top;\n",
       "    }\n",
       "\n",
       "    .dataframe thead th {\n",
       "        text-align: right;\n",
       "    }\n",
       "</style>\n",
       "<table border=\"1\" class=\"dataframe\">\n",
       "  <thead>\n",
       "    <tr style=\"text-align: right;\">\n",
       "      <th></th>\n",
       "      <th>words</th>\n",
       "      <th>idf</th>\n",
       "      <th>max_tf_idf</th>\n",
       "      <th>avg_tf_idf</th>\n",
       "      <th>norm_tf_idf</th>\n",
       "    </tr>\n",
       "  </thead>\n",
       "  <tbody>\n",
       "    <tr>\n",
       "      <th>0</th>\n",
       "      <td>conduit</td>\n",
       "      <td>2.386294</td>\n",
       "      <td>0.995875</td>\n",
       "      <td>0.995875</td>\n",
       "      <td>1.130256</td>\n",
       "    </tr>\n",
       "    <tr>\n",
       "      <th>1</th>\n",
       "      <td>static</td>\n",
       "      <td>2.386294</td>\n",
       "      <td>0.980314</td>\n",
       "      <td>0.980314</td>\n",
       "      <td>1.059859</td>\n",
       "    </tr>\n",
       "    <tr>\n",
       "      <th>2</th>\n",
       "      <td>mixer</td>\n",
       "      <td>2.673976</td>\n",
       "      <td>1.465390</td>\n",
       "      <td>1.465390</td>\n",
       "      <td>1.743724</td>\n",
       "    </tr>\n",
       "    <tr>\n",
       "      <th>3</th>\n",
       "      <td>nozzle</td>\n",
       "      <td>2.386294</td>\n",
       "      <td>1.621965</td>\n",
       "      <td>1.621965</td>\n",
       "      <td>1.638386</td>\n",
       "    </tr>\n",
       "  </tbody>\n",
       "</table>\n",
       "</div>"
      ],
      "text/plain": [
       "     words       idf  max_tf_idf  avg_tf_idf  norm_tf_idf\n",
       "0  conduit  2.386294    0.995875    0.995875     1.130256\n",
       "1   static  2.386294    0.980314    0.980314     1.059859\n",
       "2    mixer  2.673976    1.465390    1.465390     1.743724\n",
       "3   nozzle  2.386294    1.621965    1.621965     1.638386"
      ]
     },
     "execution_count": 278,
     "metadata": {},
     "output_type": "execute_result"
    }
   ],
   "source": [
    "scores = compute_word_importance(tfidf, cluster_words[0])\n",
    "pd.DataFrame(scores).head()"
   ]
  },
  {
   "cell_type": "code",
   "execution_count": 227,
   "metadata": {
    "deletable": false,
    "editable": false,
    "run_control": {
     "frozen": true
    }
   },
   "outputs": [
    {
     "data": {
      "text/html": [
       "<div>\n",
       "<style scoped>\n",
       "    .dataframe tbody tr th:only-of-type {\n",
       "        vertical-align: middle;\n",
       "    }\n",
       "\n",
       "    .dataframe tbody tr th {\n",
       "        vertical-align: top;\n",
       "    }\n",
       "\n",
       "    .dataframe thead th {\n",
       "        text-align: right;\n",
       "    }\n",
       "</style>\n",
       "<table border=\"1\" class=\"dataframe\">\n",
       "  <thead>\n",
       "    <tr style=\"text-align: right;\">\n",
       "      <th></th>\n",
       "      <th>words</th>\n",
       "      <th>idf</th>\n",
       "      <th>max_tf_idf</th>\n",
       "      <th>avg_tf_idf</th>\n",
       "      <th>norm_tf_idf</th>\n",
       "    </tr>\n",
       "  </thead>\n",
       "  <tbody>\n",
       "    <tr>\n",
       "      <th>2</th>\n",
       "      <td>mixer</td>\n",
       "      <td>2.673976</td>\n",
       "      <td>1.465390</td>\n",
       "      <td>1.465390</td>\n",
       "      <td>1.743724</td>\n",
       "    </tr>\n",
       "    <tr>\n",
       "      <th>0</th>\n",
       "      <td>conduit</td>\n",
       "      <td>2.386294</td>\n",
       "      <td>0.995875</td>\n",
       "      <td>0.995875</td>\n",
       "      <td>1.130256</td>\n",
       "    </tr>\n",
       "    <tr>\n",
       "      <th>1</th>\n",
       "      <td>static</td>\n",
       "      <td>2.386294</td>\n",
       "      <td>0.980314</td>\n",
       "      <td>0.980314</td>\n",
       "      <td>1.059859</td>\n",
       "    </tr>\n",
       "    <tr>\n",
       "      <th>3</th>\n",
       "      <td>nozzle</td>\n",
       "      <td>2.386294</td>\n",
       "      <td>1.621965</td>\n",
       "      <td>1.621965</td>\n",
       "      <td>1.638386</td>\n",
       "    </tr>\n",
       "  </tbody>\n",
       "</table>\n",
       "</div>"
      ],
      "text/plain": [
       "     words       idf  max_tf_idf  avg_tf_idf  norm_tf_idf\n",
       "2    mixer  2.673976    1.465390    1.465390     1.743724\n",
       "0  conduit  2.386294    0.995875    0.995875     1.130256\n",
       "1   static  2.386294    0.980314    0.980314     1.059859\n",
       "3   nozzle  2.386294    1.621965    1.621965     1.638386"
      ]
     },
     "execution_count": 227,
     "metadata": {},
     "output_type": "execute_result"
    }
   ],
   "source": [
    "def sort_scores(scores, method:str='idf'):\n",
    "    err = lambda d,ds: '[ERROR]: Score method {} not among {}'.format(d,ds)\n",
    "    assert method in scores.keys(), err(method, scores.keys())\n",
    "    return pd.DataFrame(scores).sort_values(method,ascending=False)\n",
    "sort_scores(scores).head()"
   ]
  },
  {
   "cell_type": "markdown",
   "metadata": {
    "deletable": false,
    "editable": false,
    "run_control": {
     "frozen": true
    }
   },
   "source": [
    "---"
   ]
  },
  {
   "cell_type": "markdown",
   "metadata": {
    "deletable": false,
    "editable": false,
    "run_control": {
     "frozen": true
    }
   },
   "source": [
    "#### CASE2: SUBSAMPLING THE TF BY CLUSER\n",
    "##### TAKING CLUSTER 0 AS EXAMPLE"
   ]
  },
  {
   "cell_type": "code",
   "execution_count": 93,
   "metadata": {
    "deletable": false,
    "editable": false,
    "run_control": {
     "frozen": true
    }
   },
   "outputs": [],
   "source": [
    "tfidf_cluster_0 = tfidf.representation.loc[clusters.labels_==0, cluster_words[0]]"
   ]
  },
  {
   "cell_type": "code",
   "execution_count": 95,
   "metadata": {
    "deletable": false,
    "editable": false,
    "run_control": {
     "frozen": true
    }
   },
   "outputs": [
    {
     "data": {
      "text/html": [
       "<div>\n",
       "<style scoped>\n",
       "    .dataframe tbody tr th:only-of-type {\n",
       "        vertical-align: middle;\n",
       "    }\n",
       "\n",
       "    .dataframe tbody tr th {\n",
       "        vertical-align: top;\n",
       "    }\n",
       "\n",
       "    .dataframe thead th {\n",
       "        text-align: right;\n",
       "    }\n",
       "</style>\n",
       "<table border=\"1\" class=\"dataframe\">\n",
       "  <thead>\n",
       "    <tr style=\"text-align: right;\">\n",
       "      <th></th>\n",
       "      <th>mixer</th>\n",
       "      <th>nozzle</th>\n",
       "      <th>conduit</th>\n",
       "      <th>static</th>\n",
       "    </tr>\n",
       "  </thead>\n",
       "  <tbody>\n",
       "    <tr>\n",
       "      <th>0</th>\n",
       "      <td>0.0</td>\n",
       "      <td>0.0</td>\n",
       "      <td>0.0</td>\n",
       "      <td>0.000000</td>\n",
       "    </tr>\n",
       "    <tr>\n",
       "      <th>2</th>\n",
       "      <td>0.0</td>\n",
       "      <td>0.0</td>\n",
       "      <td>0.0</td>\n",
       "      <td>0.000000</td>\n",
       "    </tr>\n",
       "    <tr>\n",
       "      <th>6</th>\n",
       "      <td>0.0</td>\n",
       "      <td>0.0</td>\n",
       "      <td>0.0</td>\n",
       "      <td>0.000726</td>\n",
       "    </tr>\n",
       "    <tr>\n",
       "      <th>7</th>\n",
       "      <td>0.0</td>\n",
       "      <td>0.0</td>\n",
       "      <td>0.0</td>\n",
       "      <td>0.000000</td>\n",
       "    </tr>\n",
       "    <tr>\n",
       "      <th>9</th>\n",
       "      <td>0.0</td>\n",
       "      <td>0.0</td>\n",
       "      <td>0.0</td>\n",
       "      <td>0.000000</td>\n",
       "    </tr>\n",
       "  </tbody>\n",
       "</table>\n",
       "</div>"
      ],
      "text/plain": [
       "   mixer  nozzle  conduit    static\n",
       "0    0.0     0.0      0.0  0.000000\n",
       "2    0.0     0.0      0.0  0.000000\n",
       "6    0.0     0.0      0.0  0.000726\n",
       "7    0.0     0.0      0.0  0.000000\n",
       "9    0.0     0.0      0.0  0.000000"
      ]
     },
     "execution_count": 95,
     "metadata": {},
     "output_type": "execute_result"
    }
   ],
   "source": [
    "tfidf_cluster_0.head()"
   ]
  },
  {
   "cell_type": "markdown",
   "metadata": {
    "deletable": false,
    "editable": false,
    "run_control": {
     "frozen": true
    }
   },
   "source": [
    "### It looks like it doesn't make a lot of sense of subsample"
   ]
  },
  {
   "cell_type": "markdown",
   "metadata": {
    "deletable": false,
    "editable": false,
    "run_control": {
     "frozen": true
    }
   },
   "source": [
    "---"
   ]
  },
  {
   "cell_type": "markdown",
   "metadata": {},
   "source": [
    "## Plotting the WordClouds\n",
    "##### Example Case: Cluster 0 with Norm_TF_IDF score"
   ]
  },
  {
   "cell_type": "code",
   "execution_count": 228,
   "metadata": {},
   "outputs": [
    {
     "data": {
      "text/html": [
       "<div>\n",
       "<style scoped>\n",
       "    .dataframe tbody tr th:only-of-type {\n",
       "        vertical-align: middle;\n",
       "    }\n",
       "\n",
       "    .dataframe tbody tr th {\n",
       "        vertical-align: top;\n",
       "    }\n",
       "\n",
       "    .dataframe thead th {\n",
       "        text-align: right;\n",
       "    }\n",
       "</style>\n",
       "<table border=\"1\" class=\"dataframe\">\n",
       "  <thead>\n",
       "    <tr style=\"text-align: right;\">\n",
       "      <th></th>\n",
       "      <th>words</th>\n",
       "      <th>idf</th>\n",
       "      <th>max_tf_idf</th>\n",
       "      <th>avg_tf_idf</th>\n",
       "      <th>norm_tf_idf</th>\n",
       "    </tr>\n",
       "  </thead>\n",
       "  <tbody>\n",
       "    <tr>\n",
       "      <th>2</th>\n",
       "      <td>mixer</td>\n",
       "      <td>2.673976</td>\n",
       "      <td>1.465390</td>\n",
       "      <td>1.465390</td>\n",
       "      <td>1.743724</td>\n",
       "    </tr>\n",
       "    <tr>\n",
       "      <th>3</th>\n",
       "      <td>nozzle</td>\n",
       "      <td>2.386294</td>\n",
       "      <td>1.621965</td>\n",
       "      <td>1.621965</td>\n",
       "      <td>1.638386</td>\n",
       "    </tr>\n",
       "    <tr>\n",
       "      <th>0</th>\n",
       "      <td>conduit</td>\n",
       "      <td>2.386294</td>\n",
       "      <td>0.995875</td>\n",
       "      <td>0.995875</td>\n",
       "      <td>1.130256</td>\n",
       "    </tr>\n",
       "    <tr>\n",
       "      <th>1</th>\n",
       "      <td>static</td>\n",
       "      <td>2.386294</td>\n",
       "      <td>0.980314</td>\n",
       "      <td>0.980314</td>\n",
       "      <td>1.059859</td>\n",
       "    </tr>\n",
       "  </tbody>\n",
       "</table>\n",
       "</div>"
      ],
      "text/plain": [
       "     words       idf  max_tf_idf  avg_tf_idf  norm_tf_idf\n",
       "2    mixer  2.673976    1.465390    1.465390     1.743724\n",
       "3   nozzle  2.386294    1.621965    1.621965     1.638386\n",
       "0  conduit  2.386294    0.995875    0.995875     1.130256\n",
       "1   static  2.386294    0.980314    0.980314     1.059859"
      ]
     },
     "execution_count": 228,
     "metadata": {},
     "output_type": "execute_result"
    }
   ],
   "source": [
    "subsample = sort_scores(scores, 'norm_tf_idf')\n",
    "subsample.head()"
   ]
  },
  {
   "cell_type": "code",
   "execution_count": 244,
   "metadata": {},
   "outputs": [],
   "source": [
    "from wordcloud import WordCloud\n",
    "def cluster_to_wordcloud(\n",
    "    df, method='idf', max_words=100, use_mask=False):\n",
    "    ''' Convert 1 cluster into a WordCloud given:\n",
    "        - The TFIDF for the cluster\n",
    "        - The Score Method that give imporance to the word '''\n",
    "    # Create the wordcloud attending to the inverse of idf\n",
    "    wordcloud = WordCloud(\n",
    "        max_words=max_words, \n",
    "        mask=mask_ if use_mask else None,\n",
    "        background_color=\"white\").generate_from_frequencies(\n",
    "            frequencies=dict(zip(df.words, df[method])))\n",
    "    return wordcloud"
   ]
  },
  {
   "cell_type": "code",
   "execution_count": 248,
   "metadata": {},
   "outputs": [
    {
     "data": {
      "text/plain": [
       "<matplotlib.image.AxesImage at 0x1a40601990>"
      ]
     },
     "execution_count": 248,
     "metadata": {},
     "output_type": "execute_result"
    },
    {
     "data": {
      "image/png": "[encoded data removed]",
      "text/plain": [
       "<Figure size 432x288 with 1 Axes>"
      ]
     },
     "metadata": {
      "needs_background": "light"
     },
     "output_type": "display_data"
    }
   ],
   "source": [
    "_, ax = plt.subplots()\n",
    "wordcloud = cluster_to_wordcloud(subsample, method='idf')\n",
    "ax.imshow(wordcloud)"
   ]
  },
  {
   "cell_type": "code",
   "execution_count": 294,
   "metadata": {},
   "outputs": [],
   "source": [
    "def plot_clusters_as_wordclouds(\n",
    "    tfidf:pd.DataFrame, \n",
    "    cluster_words:dict,\n",
    "    method:str='idf',\n",
    "    max_words_per_cloud=100, use_mask=False, n_cols=2):\n",
    "    '''\n",
    "    Arguments:\n",
    "        - tfidf: TFIDF of the entire Corpus\n",
    "        - cluster_words: Dict {'cluster_id': [list of important words]}\n",
    "        - methods: the Score Method that give imporance to the word in that cluster\n",
    "    Steps:\n",
    "        - Iterate for each cluster\n",
    "        - Subsample the TFIDF to the Cluster TDIDF (reduce the columns to increase performance)\n",
    "        - Get the scores of the chosen methods to give importance to the words --> Not needed ???\n",
    "        - Call cluster_to_wordcloud() for that cluster to get its corresponding wordcloud\n",
    "    '''\n",
    "    n_rows = len(cluster_words)//n_cols\n",
    "    _, axs = plt.subplots(nrows=n_rows, ncols=n_cols,figsize=(n_cols*5,n_rows*5))\n",
    "    \n",
    "    for c,words in cluster_words.items():\n",
    "\n",
    "        cluster_word_scores = pd.DataFrame(compute_word_importance(tfidf,words))\n",
    "        # print(cluster_word_scores.head())\n",
    "        wordcloud = cluster_to_wordcloud(\n",
    "            df=cluster_word_scores,\n",
    "            method='norm_tf_idf',\n",
    "            max_words=max_words_per_cloud,\n",
    "            use_mask=use_mask)\n",
    "        \n",
    "        # Plot the resulting wordcloud\n",
    "        axs[c // n_cols, c % n_cols].imshow(wordcloud)\n",
    "        axs[c // n_cols, c % n_cols].axis('off')\n",
    "    plt.tight_layout()\n",
    "    plt.show()\n",
    "    return"
   ]
  },
  {
   "cell_type": "code",
   "execution_count": 295,
   "metadata": {},
   "outputs": [
    {
     "data": {
      "image/png": "[encoded data removed]",
      "text/plain": [
       "<Figure size 720x720 with 4 Axes>"
      ]
     },
     "metadata": {
      "needs_background": "light"
     },
     "output_type": "display_data"
    }
   ],
   "source": [
    "# cluster_words\n",
    "plot_clusters_as_wordclouds(tfidf, cluster_words, method='idf')"
   ]
  },
  {
   "cell_type": "code",
   "execution_count": null,
   "metadata": {},
   "outputs": [],
   "source": []
  },
  {
   "cell_type": "code",
   "execution_count": null,
   "metadata": {},
   "outputs": [],
   "source": []
  },
  {
   "cell_type": "code",
   "execution_count": null,
   "metadata": {},
   "outputs": [],
   "source": []
  }
 ],
 "metadata": {
  "kernelspec": {
   "display_name": "Python 3",
   "language": "python",
   "name": "python3"
  },
  "language_info": {
   "codemirror_mode": {
    "name": "ipython",
    "version": 3
   },
   "file_extension": ".py",
   "mimetype": "text/x-python",
   "name": "python",
   "nbconvert_exporter": "python",
   "pygments_lexer": "ipython3",
   "version": "3.7.4"
  },
  "varInspector": {
   "cols": {
    "lenName": 16,
    "lenType": 16,
    "lenVar": 40
   },
   "kernels_config": {
    "python": {
     "delete_cmd_postfix": "",
     "delete_cmd_prefix": "del ",
     "library": "var_list.py",
     "varRefreshCmd": "print(var_dic_list())"
    },
    "r": {
     "delete_cmd_postfix": ") ",
     "delete_cmd_prefix": "rm(",
     "library": "var_list.r",
     "varRefreshCmd": "cat(var_dic_list()) "
    }
   },
   "types_to_exclude": [
    "module",
    "function",
    "builtin_function_or_method",
    "instance",
    "_Feature"
   ],
   "window_display": false
  }
 },
 "nbformat": 4,
 "nbformat_minor": 2
}
